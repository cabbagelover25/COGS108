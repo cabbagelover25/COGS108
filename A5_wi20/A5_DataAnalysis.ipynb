{
 "cells": [
  {
   "cell_type": "markdown",
   "metadata": {
    "deletable": false,
    "editable": false,
    "nbgrader": {
     "cell_type": "markdown",
     "checksum": "86e60175414a48826d8ac4330303863d",
     "grade": false,
     "grade_id": "title",
     "locked": true,
     "schema_version": 3,
     "solution": false
    }
   },
   "source": [
    "# COGS 108 - Assignment 5: Data Analysis\n",
    "\n",
    "This assignment covers extensive data cleaning, EDA, and regression \n",
    "\n",
    "Clustering and dimensionality reduction are included at the end, but completion of these sections is optional. \n",
    "\n",
    "This assignment is out of 7.5 points, worth 7.5% of your grade.\n",
    "\n",
    "**PLEASE DO NOT CHANGE THE NAME OF THIS FILE.**\n",
    "\n",
    "**PLEASE DO NOT COPY & PASTE OR DELETE CELLS INLCUDED IN THE ASSIGNMENT.** (Note that you *can* add additional cells, if you want to test things out.)"
   ]
  },
  {
   "cell_type": "markdown",
   "metadata": {
    "deletable": false,
    "editable": false,
    "nbgrader": {
     "cell_type": "markdown",
     "checksum": "3c11a7018235e0a87709ead95ce5374e",
     "grade": false,
     "grade_id": "instr",
     "locked": true,
     "schema_version": 3,
     "solution": false
    }
   },
   "source": [
    "# Important Reminders\n",
    "\n",
    "- This assignment has hidden tests: tests that are not visible here, but that will be run on your submitted assignment for grading.\n",
    "    - This means passing all the tests you can see in the notebook here does not guarantee you have the right answer!\n",
    "    - In particular many of the tests you can see simply check that the right variable names exist. Hidden tests check the actual values. \n",
    "        - It is up to you to check the values, and make sure they seem reasonable.\n",
    "- A reminder to restart the kernel and re-run the code as a first line check if things seem to go weird.\n",
    "    - For example, note that some cells can only be run once, because they re-write a variable (for example, your dataframe), and change it in a way that means a second execution will fail. \n",
    "    - Also, running some cells out of order might change the dataframe in ways that may cause an error, which can be fixed by re-running."
   ]
  },
  {
   "cell_type": "markdown",
   "metadata": {
    "deletable": false,
    "editable": false,
    "nbgrader": {
     "cell_type": "markdown",
     "checksum": "7ddd273b43190d310a013a1c3ca2a8f5",
     "grade": false,
     "grade_id": "cell-63591df69146fa5e",
     "locked": true,
     "schema_version": 3,
     "solution": false
    }
   },
   "source": [
    "Run the following cell. These are all you need for the assignment. Do not import additional packages."
   ]
  },
  {
   "cell_type": "code",
   "execution_count": 1,
   "metadata": {
    "deletable": false,
    "editable": false,
    "nbgrader": {
     "cell_type": "code",
     "checksum": "f8106e883d87656c6b3ebaf13a2878d6",
     "grade": false,
     "grade_id": "imports",
     "locked": true,
     "schema_version": 3,
     "solution": false
    }
   },
   "outputs": [],
   "source": [
    "# Imports \n",
    "%matplotlib inline\n",
    "\n",
    "import numpy as np\n",
    "import pandas as pd\n",
    "import matplotlib.pyplot as plt\n",
    "\n",
    "import seaborn as sns\n",
    "sns.set()\n",
    "sns.set_context('talk')\n",
    "\n",
    "import warnings\n",
    "warnings.filterwarnings('ignore')\n",
    "\n",
    "import patsy\n",
    "import statsmodels.api as sm\n",
    "import scipy.stats as stats\n",
    "from scipy.stats import ttest_ind, chisquare, normaltest\n",
    "# Note: the statsmodels import may print out a 'FutureWarning'. Thats fine."
   ]
  },
  {
   "cell_type": "markdown",
   "metadata": {
    "deletable": false,
    "editable": false,
    "nbgrader": {
     "cell_type": "markdown",
     "checksum": "ee67be3841dcd7752faf7f23dea720ff",
     "grade": false,
     "grade_id": "notes",
     "locked": true,
     "schema_version": 3,
     "solution": false
    }
   },
   "source": [
    "### Notes - Assignment Outline\n",
    "\n",
    "**Parts 1-6** of this assignment are modelled on being a minimal example of a project notebook. \n",
    "- This mimics, and gets you working with, something like what you will need for your final project.\n",
    "\n",
    "**Parts 7 & 8** break from the project narrative, and are OPTIONAL (UNGRADED). \n",
    "- They serve instead as a couple of quick one-offs to get you working with some other methods that might be useful to incorporate into your project."
   ]
  },
  {
   "cell_type": "markdown",
   "metadata": {
    "deletable": false,
    "editable": false,
    "nbgrader": {
     "cell_type": "markdown",
     "checksum": "db06af054f0cec284bd624c8b8f7bd3f",
     "grade": false,
     "grade_id": "setup",
     "locked": true,
     "schema_version": 3,
     "solution": false
    }
   },
   "source": [
    "## Setup\n",
    "\n",
    "Data: the responses collected from a survery of the COGS 108 class. \n",
    "- There are 416 observations in the data, covering 10 different 'features'.\n",
    "\n",
    "Research Question: Do students in different majors have different heights?\n",
    "\n",
    "Background: Physical height has previously shown to correlate with career choice, and career success. More recently it has been demonstrated that these correlations can actually be explained by height in high school, as opposed to height in adulthood (1). It is currently unclear whether height correlates with choice of major in university. \n",
    "\n",
    "Reference: 1) https://www.sas.upenn.edu/~apostlew/paper/pdf/short.pdf\n",
    "\n",
    "Hypothesis: We hypothesize that there will be a relation between height and chosen major. "
   ]
  },
  {
   "cell_type": "markdown",
   "metadata": {
    "deletable": false,
    "editable": false,
    "nbgrader": {
     "cell_type": "markdown",
     "checksum": "b83721507917330b06cbc057ee406e9c",
     "grade": false,
     "grade_id": "part1-title",
     "locked": true,
     "schema_version": 3,
     "solution": false
    }
   },
   "source": [
    "## Part 1: Load & Clean the Data (2.95 points)\n"
   ]
  },
  {
   "cell_type": "markdown",
   "metadata": {
    "deletable": false,
    "editable": false,
    "nbgrader": {
     "cell_type": "markdown",
     "checksum": "bb2074c24750cdd719937a8d9cb05275",
     "grade": false,
     "grade_id": "cell-9b83334ad8ec954e",
     "locked": true,
     "schema_version": 3,
     "solution": false
    }
   },
   "source": [
    "Fixing messy data makes up a large amount of the work of being a Data Scientist. \n",
    "\n",
    "The real world produces messy measurements and it is your job to find ways to standardize your data such that you can make useful analyses out of it. \n",
    "\n",
    "In this section, you will learn, and practice, how to successfully deal with unclean data."
   ]
  },
  {
   "cell_type": "markdown",
   "metadata": {
    "deletable": false,
    "editable": false,
    "nbgrader": {
     "cell_type": "markdown",
     "checksum": "c39ac3d633ff4287900c7ab60988b268",
     "grade": false,
     "grade_id": "cell-fa2a938005a3c187",
     "locked": true,
     "schema_version": 3,
     "solution": false
    }
   },
   "source": [
    "### 1a) Load the data\n",
    "Import datafile `COGS108_IntroQuestionnaireData.csv` into a DataFrame called `df`."
   ]
  },
  {
   "cell_type": "code",
   "execution_count": 2,
   "metadata": {
    "deletable": false,
    "nbgrader": {
     "cell_type": "code",
     "checksum": "abd28f4ed8f7d77a9fdbccf4b98d7af4",
     "grade": false,
     "grade_id": "cell-252b5cfd5c8ceff2",
     "locked": false,
     "schema_version": 3,
     "solution": true
    }
   },
   "outputs": [],
   "source": [
    "df = pd.read_csv('COGS108_IntroQuestionnaireData.csv')"
   ]
  },
  {
   "cell_type": "code",
   "execution_count": 3,
   "metadata": {
    "deletable": false,
    "editable": false,
    "nbgrader": {
     "cell_type": "code",
     "checksum": "f5ad4d6e0eb8eae6376ae9211fa9971d",
     "grade": true,
     "grade_id": "1a_ans",
     "locked": true,
     "points": 0.1,
     "schema_version": 3,
     "solution": false
    }
   },
   "outputs": [],
   "source": [
    "assert isinstance(df, pd.DataFrame)\n"
   ]
  },
  {
   "cell_type": "code",
   "execution_count": 4,
   "metadata": {
    "deletable": false,
    "editable": false,
    "nbgrader": {
     "cell_type": "code",
     "checksum": "73fd18848ab2cbaf83624544b3b5224b",
     "grade": false,
     "grade_id": "cell-61a420950f1db378",
     "locked": true,
     "schema_version": 3,
     "solution": false
    }
   },
   "outputs": [
    {
     "data": {
      "text/html": [
       "<div>\n",
       "<style scoped>\n",
       "    .dataframe tbody tr th:only-of-type {\n",
       "        vertical-align: middle;\n",
       "    }\n",
       "\n",
       "    .dataframe tbody tr th {\n",
       "        vertical-align: top;\n",
       "    }\n",
       "\n",
       "    .dataframe thead th {\n",
       "        text-align: right;\n",
       "    }\n",
       "</style>\n",
       "<table border=\"1\" class=\"dataframe\">\n",
       "  <thead>\n",
       "    <tr style=\"text-align: right;\">\n",
       "      <th></th>\n",
       "      <th>Timestamp</th>\n",
       "      <th>What year (in school) are you?</th>\n",
       "      <th>What is your major?</th>\n",
       "      <th>How old are you?</th>\n",
       "      <th>What is your gender?</th>\n",
       "      <th>What is your height?</th>\n",
       "      <th>What is your weight?</th>\n",
       "      <th>What is your eye color?</th>\n",
       "      <th>Were you born in California?</th>\n",
       "      <th>What is your favorite flavor of ice cream?</th>\n",
       "    </tr>\n",
       "  </thead>\n",
       "  <tbody>\n",
       "    <tr>\n",
       "      <th>0</th>\n",
       "      <td>1/9/18 14:49</td>\n",
       "      <td>4</td>\n",
       "      <td>Cognitive Science</td>\n",
       "      <td>21.0</td>\n",
       "      <td>Male</td>\n",
       "      <td>5'8\"</td>\n",
       "      <td>147</td>\n",
       "      <td>Brown</td>\n",
       "      <td>Yes</td>\n",
       "      <td>Vanilla</td>\n",
       "    </tr>\n",
       "    <tr>\n",
       "      <th>1</th>\n",
       "      <td>1/9/18 14:49</td>\n",
       "      <td>3</td>\n",
       "      <td>Cognitive Science</td>\n",
       "      <td>20.0</td>\n",
       "      <td>Male</td>\n",
       "      <td>5'8</td>\n",
       "      <td>150</td>\n",
       "      <td>Brown</td>\n",
       "      <td>Yes</td>\n",
       "      <td>Cookies and Cream</td>\n",
       "    </tr>\n",
       "    <tr>\n",
       "      <th>2</th>\n",
       "      <td>1/9/18 14:49</td>\n",
       "      <td>Third</td>\n",
       "      <td>Computer Science</td>\n",
       "      <td>21.0</td>\n",
       "      <td>Male</td>\n",
       "      <td>178cm</td>\n",
       "      <td>74kg</td>\n",
       "      <td>Black</td>\n",
       "      <td>Yes</td>\n",
       "      <td>Matcha</td>\n",
       "    </tr>\n",
       "    <tr>\n",
       "      <th>3</th>\n",
       "      <td>1/9/18 14:49</td>\n",
       "      <td>2</td>\n",
       "      <td>Cogs HCI</td>\n",
       "      <td>20.0</td>\n",
       "      <td>Male</td>\n",
       "      <td>5’8</td>\n",
       "      <td>133</td>\n",
       "      <td>Brown</td>\n",
       "      <td>Yes</td>\n",
       "      <td>Cookies and Cream</td>\n",
       "    </tr>\n",
       "    <tr>\n",
       "      <th>4</th>\n",
       "      <td>1/9/18 14:49</td>\n",
       "      <td>3</td>\n",
       "      <td>Computer Science</td>\n",
       "      <td>20.0</td>\n",
       "      <td>Male</td>\n",
       "      <td>5'8\"</td>\n",
       "      <td>160</td>\n",
       "      <td>Brown</td>\n",
       "      <td>Yes</td>\n",
       "      <td>Cookies n' Cream</td>\n",
       "    </tr>\n",
       "  </tbody>\n",
       "</table>\n",
       "</div>"
      ],
      "text/plain": [
       "      Timestamp What year (in school) are you? What is your major?  \\\n",
       "0  1/9/18 14:49                              4   Cognitive Science   \n",
       "1  1/9/18 14:49                              3   Cognitive Science   \n",
       "2  1/9/18 14:49                          Third    Computer Science   \n",
       "3  1/9/18 14:49                              2            Cogs HCI   \n",
       "4  1/9/18 14:49                              3    Computer Science   \n",
       "\n",
       "   How old are you? What is your gender? What is your height?  \\\n",
       "0              21.0                 Male                 5'8\"   \n",
       "1              20.0                 Male                  5'8   \n",
       "2              21.0                 Male                178cm   \n",
       "3              20.0                 Male                  5’8   \n",
       "4              20.0                 Male                 5'8\"   \n",
       "\n",
       "  What is your weight? What is your eye color? Were you born in California?  \\\n",
       "0                  147                   Brown                          Yes   \n",
       "1                  150                   Brown                          Yes   \n",
       "2                 74kg                   Black                          Yes   \n",
       "3                  133                   Brown                          Yes   \n",
       "4                  160                   Brown                          Yes   \n",
       "\n",
       "  What is your favorite flavor of ice cream?  \n",
       "0                                    Vanilla  \n",
       "1                          Cookies and Cream  \n",
       "2                                     Matcha  \n",
       "3                          Cookies and Cream  \n",
       "4                           Cookies n' Cream  "
      ]
     },
     "execution_count": 4,
     "metadata": {},
     "output_type": "execute_result"
    }
   ],
   "source": [
    "# Check out the data\n",
    "df.head(5)"
   ]
  },
  {
   "cell_type": "markdown",
   "metadata": {
    "deletable": false,
    "editable": false,
    "nbgrader": {
     "cell_type": "markdown",
     "checksum": "21c928cef2bc165a4ff6f7bb8373c252",
     "grade": false,
     "grade_id": "cell-17404c0fbde64360",
     "locked": true,
     "schema_version": 3,
     "solution": false
    }
   },
   "source": [
    "Those column names are a bit excessive, so first let's rename them - code provided below to do so. "
   ]
  },
  {
   "cell_type": "code",
   "execution_count": 5,
   "metadata": {
    "deletable": false,
    "editable": false,
    "nbgrader": {
     "cell_type": "code",
     "checksum": "571e24ba4ba03e9cb9d6e1fd52eaff3d",
     "grade": false,
     "grade_id": "cell-d9fa719279b7cb33",
     "locked": true,
     "schema_version": 3,
     "solution": false
    }
   },
   "outputs": [],
   "source": [
    "# Renaming the columns of the dataframe\n",
    "df.columns = ['timestamp', 'year', 'major', 'age', 'gender', 'height',\n",
    "              'weight', 'eye_color', 'born_in_CA', 'favorite_icecream']"
   ]
  },
  {
   "cell_type": "markdown",
   "metadata": {
    "deletable": false,
    "editable": false,
    "nbgrader": {
     "cell_type": "markdown",
     "checksum": "a5cede24cdbef62517efdb5de950e6f5",
     "grade": false,
     "grade_id": "cell-cf1899b1f00333c8",
     "locked": true,
     "schema_version": 3,
     "solution": false
    }
   },
   "source": [
    "`pandas` has a very useful function for detecting missing data. This function is called `isnull()`. \n",
    "\n",
    "If you have a dataframe called `df`, then calling `df.isnull()` will return another dataframe of the same size as `df` where every cell is either True of False. \n",
    "\n",
    "Each True or False is the answer to the question 'is the data in this cell null?'. So, False, means the cell is not null (and therefore, does have data). True means the cell is null (does not have data).\n",
    "\n",
    "This function is very useful because it allows us to find missing data very quickly in our dataframe. As an example, consider the code below."
   ]
  },
  {
   "cell_type": "code",
   "execution_count": 6,
   "metadata": {
    "deletable": false,
    "editable": false,
    "nbgrader": {
     "cell_type": "code",
     "checksum": "b5bd1f30b8443e94e0ade52162fdcf25",
     "grade": false,
     "grade_id": "cell-e7d9fb27de2854f0",
     "locked": true,
     "schema_version": 3,
     "solution": false
    }
   },
   "outputs": [
    {
     "data": {
      "text/html": [
       "<div>\n",
       "<style scoped>\n",
       "    .dataframe tbody tr th:only-of-type {\n",
       "        vertical-align: middle;\n",
       "    }\n",
       "\n",
       "    .dataframe tbody tr th {\n",
       "        vertical-align: top;\n",
       "    }\n",
       "\n",
       "    .dataframe thead th {\n",
       "        text-align: right;\n",
       "    }\n",
       "</style>\n",
       "<table border=\"1\" class=\"dataframe\">\n",
       "  <thead>\n",
       "    <tr style=\"text-align: right;\">\n",
       "      <th></th>\n",
       "      <th>timestamp</th>\n",
       "      <th>year</th>\n",
       "      <th>major</th>\n",
       "      <th>age</th>\n",
       "      <th>gender</th>\n",
       "      <th>height</th>\n",
       "      <th>weight</th>\n",
       "      <th>eye_color</th>\n",
       "      <th>born_in_CA</th>\n",
       "      <th>favorite_icecream</th>\n",
       "    </tr>\n",
       "  </thead>\n",
       "  <tbody>\n",
       "    <tr>\n",
       "      <th>0</th>\n",
       "      <td>False</td>\n",
       "      <td>False</td>\n",
       "      <td>False</td>\n",
       "      <td>False</td>\n",
       "      <td>False</td>\n",
       "      <td>False</td>\n",
       "      <td>False</td>\n",
       "      <td>False</td>\n",
       "      <td>False</td>\n",
       "      <td>False</td>\n",
       "    </tr>\n",
       "    <tr>\n",
       "      <th>1</th>\n",
       "      <td>False</td>\n",
       "      <td>False</td>\n",
       "      <td>False</td>\n",
       "      <td>False</td>\n",
       "      <td>False</td>\n",
       "      <td>False</td>\n",
       "      <td>False</td>\n",
       "      <td>False</td>\n",
       "      <td>False</td>\n",
       "      <td>False</td>\n",
       "    </tr>\n",
       "    <tr>\n",
       "      <th>2</th>\n",
       "      <td>False</td>\n",
       "      <td>False</td>\n",
       "      <td>False</td>\n",
       "      <td>False</td>\n",
       "      <td>False</td>\n",
       "      <td>False</td>\n",
       "      <td>False</td>\n",
       "      <td>False</td>\n",
       "      <td>False</td>\n",
       "      <td>False</td>\n",
       "    </tr>\n",
       "    <tr>\n",
       "      <th>3</th>\n",
       "      <td>False</td>\n",
       "      <td>False</td>\n",
       "      <td>False</td>\n",
       "      <td>False</td>\n",
       "      <td>False</td>\n",
       "      <td>False</td>\n",
       "      <td>False</td>\n",
       "      <td>False</td>\n",
       "      <td>False</td>\n",
       "      <td>False</td>\n",
       "    </tr>\n",
       "    <tr>\n",
       "      <th>4</th>\n",
       "      <td>False</td>\n",
       "      <td>False</td>\n",
       "      <td>False</td>\n",
       "      <td>False</td>\n",
       "      <td>False</td>\n",
       "      <td>False</td>\n",
       "      <td>False</td>\n",
       "      <td>False</td>\n",
       "      <td>False</td>\n",
       "      <td>False</td>\n",
       "    </tr>\n",
       "  </tbody>\n",
       "</table>\n",
       "</div>"
      ],
      "text/plain": [
       "   timestamp   year  major    age  gender  height  weight  eye_color  \\\n",
       "0      False  False  False  False   False   False   False      False   \n",
       "1      False  False  False  False   False   False   False      False   \n",
       "2      False  False  False  False   False   False   False      False   \n",
       "3      False  False  False  False   False   False   False      False   \n",
       "4      False  False  False  False   False   False   False      False   \n",
       "\n",
       "   born_in_CA  favorite_icecream  \n",
       "0       False              False  \n",
       "1       False              False  \n",
       "2       False              False  \n",
       "3       False              False  \n",
       "4       False              False  "
      ]
     },
     "execution_count": 6,
     "metadata": {},
     "output_type": "execute_result"
    }
   ],
   "source": [
    "# Check the first few rows of the 'isnull' dataframe\n",
    "df.isnull().head(5)"
   ]
  },
  {
   "cell_type": "markdown",
   "metadata": {
    "deletable": false,
    "editable": false,
    "nbgrader": {
     "cell_type": "markdown",
     "checksum": "f50432605361b6756cb2d34555df6451",
     "grade": false,
     "grade_id": "cell-9bad2a4b4f95b18d",
     "locked": true,
     "schema_version": 3,
     "solution": false
    }
   },
   "source": [
    "If you print out more, and scroll down, you'll see some rows with missing data. "
   ]
  },
  {
   "cell_type": "code",
   "execution_count": 7,
   "metadata": {
    "deletable": false,
    "editable": false,
    "nbgrader": {
     "cell_type": "code",
     "checksum": "bc59192b49d12691cb843223737185de",
     "grade": false,
     "grade_id": "cell-dbf2938a926e4835",
     "locked": true,
     "schema_version": 3,
     "solution": false
    }
   },
   "outputs": [
    {
     "data": {
      "text/html": [
       "<div>\n",
       "<style scoped>\n",
       "    .dataframe tbody tr th:only-of-type {\n",
       "        vertical-align: middle;\n",
       "    }\n",
       "\n",
       "    .dataframe tbody tr th {\n",
       "        vertical-align: top;\n",
       "    }\n",
       "\n",
       "    .dataframe thead th {\n",
       "        text-align: right;\n",
       "    }\n",
       "</style>\n",
       "<table border=\"1\" class=\"dataframe\">\n",
       "  <thead>\n",
       "    <tr style=\"text-align: right;\">\n",
       "      <th></th>\n",
       "      <th>timestamp</th>\n",
       "      <th>year</th>\n",
       "      <th>major</th>\n",
       "      <th>age</th>\n",
       "      <th>gender</th>\n",
       "      <th>height</th>\n",
       "      <th>weight</th>\n",
       "      <th>eye_color</th>\n",
       "      <th>born_in_CA</th>\n",
       "      <th>favorite_icecream</th>\n",
       "    </tr>\n",
       "  </thead>\n",
       "  <tbody>\n",
       "    <tr>\n",
       "      <th>48</th>\n",
       "      <td>False</td>\n",
       "      <td>False</td>\n",
       "      <td>False</td>\n",
       "      <td>False</td>\n",
       "      <td>False</td>\n",
       "      <td>False</td>\n",
       "      <td>False</td>\n",
       "      <td>False</td>\n",
       "      <td>False</td>\n",
       "      <td>False</td>\n",
       "    </tr>\n",
       "    <tr>\n",
       "      <th>49</th>\n",
       "      <td>False</td>\n",
       "      <td>True</td>\n",
       "      <td>False</td>\n",
       "      <td>False</td>\n",
       "      <td>False</td>\n",
       "      <td>True</td>\n",
       "      <td>True</td>\n",
       "      <td>False</td>\n",
       "      <td>False</td>\n",
       "      <td>False</td>\n",
       "    </tr>\n",
       "  </tbody>\n",
       "</table>\n",
       "</div>"
      ],
      "text/plain": [
       "    timestamp   year  major    age  gender  height  weight  eye_color  \\\n",
       "48      False  False  False  False   False   False   False      False   \n",
       "49      False   True  False  False   False    True    True      False   \n",
       "\n",
       "    born_in_CA  favorite_icecream  \n",
       "48       False              False  \n",
       "49       False              False  "
      ]
     },
     "execution_count": 7,
     "metadata": {},
     "output_type": "execute_result"
    }
   ],
   "source": [
    "# For example:\n",
    "df.isnull().iloc[48:50, :]"
   ]
  },
  {
   "cell_type": "markdown",
   "metadata": {
    "deletable": false,
    "editable": false,
    "nbgrader": {
     "cell_type": "markdown",
     "checksum": "28719ab62ef0e0ab7af7968c3b1aeba2",
     "grade": false,
     "grade_id": "cell-5b2dd5b0166bbdd2",
     "locked": true,
     "schema_version": 3,
     "solution": false
    }
   },
   "source": [
    " Check an example, row 49, in which an entry has missing data:"
   ]
  },
  {
   "cell_type": "code",
   "execution_count": 8,
   "metadata": {
    "deletable": false,
    "editable": false,
    "nbgrader": {
     "cell_type": "code",
     "checksum": "141beec388a87e84d75fc79552376f37",
     "grade": false,
     "grade_id": "cell-30d70e19a2fdf110",
     "locked": true,
     "schema_version": 3,
     "solution": false
    }
   },
   "outputs": [
    {
     "data": {
      "text/plain": [
       "timestamp            1/9/18 14:50\n",
       "year                          NaN\n",
       "major                     Cog Sci\n",
       "age                            21\n",
       "gender                     Female\n",
       "height                        NaN\n",
       "weight                        NaN\n",
       "eye_color                   Brown\n",
       "born_in_CA                    Yes\n",
       "favorite_icecream       Chocolate\n",
       "Name: 49, dtype: object"
      ]
     },
     "execution_count": 8,
     "metadata": {},
     "output_type": "execute_result"
    }
   ],
   "source": [
    "df.iloc[49, :]"
   ]
  },
  {
   "cell_type": "markdown",
   "metadata": {
    "deletable": false,
    "editable": false,
    "nbgrader": {
     "cell_type": "markdown",
     "checksum": "a5480c82772aec1820ba77956beb0a80",
     "grade": false,
     "grade_id": "cell-ab125f3306fbd956",
     "locked": true,
     "schema_version": 3,
     "solution": false
    }
   },
   "source": [
    "Granted, the example above is not very informative. As you can see, the output of `isnull()` is a dataframe where the values at each cell is either True or False. Most cells have the value of `False`. We expect this to be the case since most people gave out answers to each question in our survey. \n",
    "\n",
    "However, some rows such as row 49 show that some people chose not to answer certain questions. In the case of row 49, it seems that someone did not give out an answer for 'What year (in school) are you?'\n",
    "\n",
    "However, what if we wanted to use `isnull()` to see all rows where our dataframe `df` has missing values? In other words, what if we want to see the ACTUAL rows with missing values instead of this dataframe with True or False cells. For that, we need to write the following line of code:\n",
    "<br>\n",
    "<br>\n",
    "`df[df.isnull().any(axis=1)]`"
   ]
  },
  {
   "cell_type": "markdown",
   "metadata": {
    "deletable": false,
    "editable": false,
    "nbgrader": {
     "cell_type": "markdown",
     "checksum": "8d8827775eea23876f9b55e6a449b2f8",
     "grade": false,
     "grade_id": "cell-486936dea9781d9e",
     "locked": true,
     "schema_version": 3,
     "solution": false
    }
   },
   "source": [
    "### 1b) Find missing data\n",
    "Find all rows that have missing data in them.\n",
    "\n",
    "Save the ouput, as a dataframe, into a variable called `rows_to_drop`.\n",
    "\n",
    "In other words, copy over and use the line of code that we gave out in the cell above."
   ]
  },
  {
   "cell_type": "code",
   "execution_count": 9,
   "metadata": {
    "deletable": false,
    "nbgrader": {
     "cell_type": "code",
     "checksum": "40ec54c3224c6a142cd2ca9675fb68fa",
     "grade": false,
     "grade_id": "cell-e3440fa7cdd2647d",
     "locked": false,
     "schema_version": 3,
     "solution": true
    }
   },
   "outputs": [],
   "source": [
    "rows_to_drop = df[df.isnull().any(axis=1)]"
   ]
  },
  {
   "cell_type": "code",
   "execution_count": 10,
   "metadata": {},
   "outputs": [
    {
     "data": {
      "text/plain": [
       "(29, 10)"
      ]
     },
     "execution_count": 10,
     "metadata": {},
     "output_type": "execute_result"
    }
   ],
   "source": [
    "# check output\n",
    "rows_to_drop.shape"
   ]
  },
  {
   "cell_type": "code",
   "execution_count": 11,
   "metadata": {
    "deletable": false,
    "editable": false,
    "nbgrader": {
     "cell_type": "code",
     "checksum": "d405c81b6c2e3581afbb1371bf38be97",
     "grade": true,
     "grade_id": "cell-1fe471d877a8f859",
     "locked": true,
     "points": 0.1,
     "schema_version": 3,
     "solution": false
    }
   },
   "outputs": [],
   "source": [
    "assert isinstance(rows_to_drop, pd.DataFrame)\n",
    "assert rows_to_drop.shape == (29, 10)"
   ]
  },
  {
   "cell_type": "markdown",
   "metadata": {
    "deletable": false,
    "editable": false,
    "nbgrader": {
     "cell_type": "markdown",
     "checksum": "4445b1ebe03c91c590a72b42991af8a7",
     "grade": false,
     "grade_id": "cell-3315a8862e040169",
     "locked": true,
     "schema_version": 3,
     "solution": false
    }
   },
   "source": [
    "In the cell below, briefly explain below how `df[df.isnull().any(axis=1)]` works, in a couple sentences. \n",
    "\n",
    "Include an explanation of what `any(axis=1)` means and how it affects the code."
   ]
  },
  {
   "cell_type": "markdown",
   "metadata": {
    "deletable": false,
    "nbgrader": {
     "cell_type": "markdown",
     "checksum": "507d6774c06f53efa226e23350b30983",
     "grade": true,
     "grade_id": "cell-fa3000a3bcda221f",
     "locked": false,
     "points": 0,
     "schema_version": 3,
     "solution": true
    }
   },
   "source": [
    "We are returning any row that fits the requirement that any of it's columns has a value that is null."
   ]
  },
  {
   "cell_type": "markdown",
   "metadata": {
    "deletable": false,
    "editable": false,
    "nbgrader": {
     "cell_type": "markdown",
     "checksum": "1b59fb6fe9c4970b6c9aaa376aa4d017",
     "grade": false,
     "grade_id": "cell-07430f641017036f",
     "locked": true,
     "schema_version": 3,
     "solution": false
    }
   },
   "source": [
    "Run the following cell and look at its output, but you don't need to add any code here.\n",
    "\n",
    "Real world data are messy. As an example of it, we consider the data shown in `rows_to_drop` (below).\n",
    "\n",
    "If you've done everything correctly so far, you should see an unexpected response with emojis at index 357. These types of responses, although funny, are hard to parse when dealing with big datasets. \n",
    "\n",
    "We'll learn about solutions to these types of problems in the upcoming cells."
   ]
  },
  {
   "cell_type": "code",
   "execution_count": 12,
   "metadata": {
    "deletable": false,
    "editable": false,
    "nbgrader": {
     "cell_type": "code",
     "checksum": "a779aac34d9c1b7cda1ffe4cbe6c9854",
     "grade": false,
     "grade_id": "cell-edcb7dd3662adfe8",
     "locked": true,
     "schema_version": 3,
     "solution": false
    }
   },
   "outputs": [
    {
     "data": {
      "text/html": [
       "<div>\n",
       "<style scoped>\n",
       "    .dataframe tbody tr th:only-of-type {\n",
       "        vertical-align: middle;\n",
       "    }\n",
       "\n",
       "    .dataframe tbody tr th {\n",
       "        vertical-align: top;\n",
       "    }\n",
       "\n",
       "    .dataframe thead th {\n",
       "        text-align: right;\n",
       "    }\n",
       "</style>\n",
       "<table border=\"1\" class=\"dataframe\">\n",
       "  <thead>\n",
       "    <tr style=\"text-align: right;\">\n",
       "      <th></th>\n",
       "      <th>timestamp</th>\n",
       "      <th>year</th>\n",
       "      <th>major</th>\n",
       "      <th>age</th>\n",
       "      <th>gender</th>\n",
       "      <th>height</th>\n",
       "      <th>weight</th>\n",
       "      <th>eye_color</th>\n",
       "      <th>born_in_CA</th>\n",
       "      <th>favorite_icecream</th>\n",
       "    </tr>\n",
       "  </thead>\n",
       "  <tbody>\n",
       "    <tr>\n",
       "      <th>29</th>\n",
       "      <td>1/9/18 14:50</td>\n",
       "      <td>senior</td>\n",
       "      <td>math&amp;econ</td>\n",
       "      <td>20.0</td>\n",
       "      <td>female</td>\n",
       "      <td>173</td>\n",
       "      <td>130</td>\n",
       "      <td>black</td>\n",
       "      <td>No</td>\n",
       "      <td>NaN</td>\n",
       "    </tr>\n",
       "    <tr>\n",
       "      <th>38</th>\n",
       "      <td>1/9/18 14:50</td>\n",
       "      <td>3rd</td>\n",
       "      <td>Computer Engineering</td>\n",
       "      <td>21.0</td>\n",
       "      <td>Female</td>\n",
       "      <td>NaN</td>\n",
       "      <td>NaN</td>\n",
       "      <td>Brown</td>\n",
       "      <td>No</td>\n",
       "      <td>NaN</td>\n",
       "    </tr>\n",
       "    <tr>\n",
       "      <th>49</th>\n",
       "      <td>1/9/18 14:50</td>\n",
       "      <td>NaN</td>\n",
       "      <td>Cog Sci</td>\n",
       "      <td>21.0</td>\n",
       "      <td>Female</td>\n",
       "      <td>NaN</td>\n",
       "      <td>NaN</td>\n",
       "      <td>Brown</td>\n",
       "      <td>Yes</td>\n",
       "      <td>Chocolate</td>\n",
       "    </tr>\n",
       "    <tr>\n",
       "      <th>58</th>\n",
       "      <td>1/9/18 14:50</td>\n",
       "      <td>3rd</td>\n",
       "      <td>Computer Science</td>\n",
       "      <td>20.0</td>\n",
       "      <td>Female</td>\n",
       "      <td>5ft 2in</td>\n",
       "      <td>NaN</td>\n",
       "      <td>brown</td>\n",
       "      <td>No</td>\n",
       "      <td>cookies and cream</td>\n",
       "    </tr>\n",
       "    <tr>\n",
       "      <th>66</th>\n",
       "      <td>1/9/18 14:50</td>\n",
       "      <td>Sophomore</td>\n",
       "      <td>Cognitive Science - Design and Interaction</td>\n",
       "      <td>19.0</td>\n",
       "      <td>Female</td>\n",
       "      <td>5'5</td>\n",
       "      <td>NaN</td>\n",
       "      <td>Brown</td>\n",
       "      <td>No</td>\n",
       "      <td>Chubby hubby ben and jerrys</td>\n",
       "    </tr>\n",
       "    <tr>\n",
       "      <th>67</th>\n",
       "      <td>1/9/18 14:50</td>\n",
       "      <td>2</td>\n",
       "      <td>Computer Science</td>\n",
       "      <td>19.0</td>\n",
       "      <td>Male</td>\n",
       "      <td>NaN</td>\n",
       "      <td>170</td>\n",
       "      <td>Brown</td>\n",
       "      <td>Yes</td>\n",
       "      <td>Chocolate</td>\n",
       "    </tr>\n",
       "    <tr>\n",
       "      <th>83</th>\n",
       "      <td>1/9/18 14:50</td>\n",
       "      <td>Senior</td>\n",
       "      <td>Computer Science</td>\n",
       "      <td>22.0</td>\n",
       "      <td>Male</td>\n",
       "      <td>5'11</td>\n",
       "      <td>155 lb</td>\n",
       "      <td>dark brown</td>\n",
       "      <td>No</td>\n",
       "      <td>NaN</td>\n",
       "    </tr>\n",
       "    <tr>\n",
       "      <th>91</th>\n",
       "      <td>1/9/18 14:50</td>\n",
       "      <td>Third</td>\n",
       "      <td>Computer Science</td>\n",
       "      <td>21.0</td>\n",
       "      <td>Female</td>\n",
       "      <td>NaN</td>\n",
       "      <td>NaN</td>\n",
       "      <td>Black</td>\n",
       "      <td>No</td>\n",
       "      <td>Green tea</td>\n",
       "    </tr>\n",
       "    <tr>\n",
       "      <th>92</th>\n",
       "      <td>1/9/18 14:50</td>\n",
       "      <td>4</td>\n",
       "      <td>Computer Science</td>\n",
       "      <td>21.0</td>\n",
       "      <td>Female</td>\n",
       "      <td>5'2\"</td>\n",
       "      <td>NaN</td>\n",
       "      <td>Brown</td>\n",
       "      <td>Yes</td>\n",
       "      <td>Mint chip</td>\n",
       "    </tr>\n",
       "    <tr>\n",
       "      <th>133</th>\n",
       "      <td>1/9/18 14:50</td>\n",
       "      <td>2018</td>\n",
       "      <td>computer science</td>\n",
       "      <td>22.0</td>\n",
       "      <td>male</td>\n",
       "      <td>NaN</td>\n",
       "      <td>NaN</td>\n",
       "      <td>brown</td>\n",
       "      <td>No</td>\n",
       "      <td>NaN</td>\n",
       "    </tr>\n",
       "    <tr>\n",
       "      <th>140</th>\n",
       "      <td>1/9/18 14:50</td>\n",
       "      <td>Senior</td>\n",
       "      <td>Chemical Engineering</td>\n",
       "      <td>25.0</td>\n",
       "      <td>Female</td>\n",
       "      <td>5 ft 3</td>\n",
       "      <td>NaN</td>\n",
       "      <td>Black</td>\n",
       "      <td>No</td>\n",
       "      <td>Green tea</td>\n",
       "    </tr>\n",
       "    <tr>\n",
       "      <th>150</th>\n",
       "      <td>1/9/18 14:50</td>\n",
       "      <td>Second</td>\n",
       "      <td>Cognitive Science</td>\n",
       "      <td>19.0</td>\n",
       "      <td>Female</td>\n",
       "      <td>NaN</td>\n",
       "      <td>NaN</td>\n",
       "      <td>NaN</td>\n",
       "      <td>Yes</td>\n",
       "      <td>Cookies and Cream</td>\n",
       "    </tr>\n",
       "    <tr>\n",
       "      <th>159</th>\n",
       "      <td>1/9/18 14:50</td>\n",
       "      <td>Fourth</td>\n",
       "      <td>Cognitive Science</td>\n",
       "      <td>21.0</td>\n",
       "      <td>Female</td>\n",
       "      <td>NaN</td>\n",
       "      <td>NaN</td>\n",
       "      <td>Black</td>\n",
       "      <td>Yes</td>\n",
       "      <td>Sea salt cookies and cream</td>\n",
       "    </tr>\n",
       "    <tr>\n",
       "      <th>168</th>\n",
       "      <td>1/9/18 14:50</td>\n",
       "      <td>Second</td>\n",
       "      <td>Cogs sci</td>\n",
       "      <td>20.0</td>\n",
       "      <td>female</td>\n",
       "      <td>178</td>\n",
       "      <td>NaN</td>\n",
       "      <td>brown</td>\n",
       "      <td>No</td>\n",
       "      <td>green tea</td>\n",
       "    </tr>\n",
       "    <tr>\n",
       "      <th>181</th>\n",
       "      <td>1/9/18 14:50</td>\n",
       "      <td>Second</td>\n",
       "      <td>Computer science</td>\n",
       "      <td>18.0</td>\n",
       "      <td>Male</td>\n",
       "      <td>NaN</td>\n",
       "      <td>NaN</td>\n",
       "      <td>Brown</td>\n",
       "      <td>No</td>\n",
       "      <td>Cookies and cream</td>\n",
       "    </tr>\n",
       "    <tr>\n",
       "      <th>232</th>\n",
       "      <td>1/9/18 14:51</td>\n",
       "      <td>Second</td>\n",
       "      <td>Bioengineering</td>\n",
       "      <td>20.0</td>\n",
       "      <td>Male</td>\n",
       "      <td>1.7 m</td>\n",
       "      <td>70kg</td>\n",
       "      <td>Black</td>\n",
       "      <td>No</td>\n",
       "      <td>NaN</td>\n",
       "    </tr>\n",
       "    <tr>\n",
       "      <th>241</th>\n",
       "      <td>1/9/18 14:51</td>\n",
       "      <td>4th</td>\n",
       "      <td>Cogs Sci HCI</td>\n",
       "      <td>21.0</td>\n",
       "      <td>Female</td>\n",
       "      <td>5 feet 4 in</td>\n",
       "      <td>NaN</td>\n",
       "      <td>brown</td>\n",
       "      <td>Yes</td>\n",
       "      <td>Mint chocolate</td>\n",
       "    </tr>\n",
       "    <tr>\n",
       "      <th>249</th>\n",
       "      <td>1/9/18 14:51</td>\n",
       "      <td>2</td>\n",
       "      <td>Computer Science</td>\n",
       "      <td>20.0</td>\n",
       "      <td>Male</td>\n",
       "      <td>175cm</td>\n",
       "      <td>NaN</td>\n",
       "      <td>Brown</td>\n",
       "      <td>No</td>\n",
       "      <td>Mint</td>\n",
       "    </tr>\n",
       "    <tr>\n",
       "      <th>264</th>\n",
       "      <td>1/9/18 14:51</td>\n",
       "      <td>4</td>\n",
       "      <td>Computer Science</td>\n",
       "      <td>21.0</td>\n",
       "      <td>Female</td>\n",
       "      <td>168cm</td>\n",
       "      <td>NaN</td>\n",
       "      <td>Dark Brown</td>\n",
       "      <td>Yes</td>\n",
       "      <td>Vanilla</td>\n",
       "    </tr>\n",
       "    <tr>\n",
       "      <th>285</th>\n",
       "      <td>1/9/18 14:51</td>\n",
       "      <td>4</td>\n",
       "      <td>Molecular Biology</td>\n",
       "      <td>21.0</td>\n",
       "      <td>NaN</td>\n",
       "      <td>NaN</td>\n",
       "      <td>NaN</td>\n",
       "      <td>NaN</td>\n",
       "      <td>NaN</td>\n",
       "      <td>Green Tea</td>\n",
       "    </tr>\n",
       "    <tr>\n",
       "      <th>293</th>\n",
       "      <td>1/9/18 14:51</td>\n",
       "      <td>2nd</td>\n",
       "      <td>Computer Engineering</td>\n",
       "      <td>NaN</td>\n",
       "      <td>Male</td>\n",
       "      <td>10-May</td>\n",
       "      <td>160 pounds</td>\n",
       "      <td>Brown</td>\n",
       "      <td>Yes</td>\n",
       "      <td>NaN</td>\n",
       "    </tr>\n",
       "    <tr>\n",
       "      <th>304</th>\n",
       "      <td>1/9/18 14:51</td>\n",
       "      <td>3</td>\n",
       "      <td>Computer Science</td>\n",
       "      <td>20.0</td>\n",
       "      <td>Male</td>\n",
       "      <td>NaN</td>\n",
       "      <td>NaN</td>\n",
       "      <td>Brown</td>\n",
       "      <td>Yes</td>\n",
       "      <td>Strawberry</td>\n",
       "    </tr>\n",
       "    <tr>\n",
       "      <th>352</th>\n",
       "      <td>1/9/18 14:52</td>\n",
       "      <td>4th</td>\n",
       "      <td>Cognitive Science</td>\n",
       "      <td>21.0</td>\n",
       "      <td>Female</td>\n",
       "      <td>5’7’’</td>\n",
       "      <td>NaN</td>\n",
       "      <td>Brown</td>\n",
       "      <td>No</td>\n",
       "      <td>NaN</td>\n",
       "    </tr>\n",
       "    <tr>\n",
       "      <th>354</th>\n",
       "      <td>1/9/18 14:52</td>\n",
       "      <td>4</td>\n",
       "      <td>Cognitive Science - Machine Learning and Neura...</td>\n",
       "      <td>21.0</td>\n",
       "      <td>Nonbinary</td>\n",
       "      <td>5'5\"</td>\n",
       "      <td>120 lbs.</td>\n",
       "      <td>Brown</td>\n",
       "      <td>Yes</td>\n",
       "      <td>NaN</td>\n",
       "    </tr>\n",
       "    <tr>\n",
       "      <th>357</th>\n",
       "      <td>1/9/18 14:52</td>\n",
       "      <td>2</td>\n",
       "      <td>EECS</td>\n",
       "      <td>19.0</td>\n",
       "      <td>NaN</td>\n",
       "      <td>6.21</td>\n",
       "      <td>150</td>\n",
       "      <td>chocolate pudding</td>\n",
       "      <td>Yes</td>\n",
       "      <td>👌👀👌👀👌👀👌👀👌👀 good shit go౦ԁ sHit👌 thats ✔ some g...</td>\n",
       "    </tr>\n",
       "    <tr>\n",
       "      <th>376</th>\n",
       "      <td>1/9/18 14:52</td>\n",
       "      <td>1</td>\n",
       "      <td>MathCS</td>\n",
       "      <td>18.0</td>\n",
       "      <td>M</td>\n",
       "      <td>5 10</td>\n",
       "      <td>NaN</td>\n",
       "      <td>Brown</td>\n",
       "      <td>No</td>\n",
       "      <td>Matcha</td>\n",
       "    </tr>\n",
       "    <tr>\n",
       "      <th>381</th>\n",
       "      <td>1/9/18 14:52</td>\n",
       "      <td>second year</td>\n",
       "      <td>computer science</td>\n",
       "      <td>19.0</td>\n",
       "      <td>male</td>\n",
       "      <td>NaN</td>\n",
       "      <td>NaN</td>\n",
       "      <td>NaN</td>\n",
       "      <td>No</td>\n",
       "      <td>strawberry</td>\n",
       "    </tr>\n",
       "    <tr>\n",
       "      <th>402</th>\n",
       "      <td>1/9/18 14:53</td>\n",
       "      <td>4</td>\n",
       "      <td>Computer Science</td>\n",
       "      <td>21.0</td>\n",
       "      <td>Female</td>\n",
       "      <td>5'8\"</td>\n",
       "      <td>NaN</td>\n",
       "      <td>Brown</td>\n",
       "      <td>Yes</td>\n",
       "      <td>Strawberry</td>\n",
       "    </tr>\n",
       "    <tr>\n",
       "      <th>412</th>\n",
       "      <td>1/9/18 14:55</td>\n",
       "      <td>3</td>\n",
       "      <td>Computer Science</td>\n",
       "      <td>20.0</td>\n",
       "      <td>M</td>\n",
       "      <td>68in</td>\n",
       "      <td>NaN</td>\n",
       "      <td>Brown</td>\n",
       "      <td>Yes</td>\n",
       "      <td>NaN</td>\n",
       "    </tr>\n",
       "  </tbody>\n",
       "</table>\n",
       "</div>"
      ],
      "text/plain": [
       "        timestamp         year  \\\n",
       "29   1/9/18 14:50       senior   \n",
       "38   1/9/18 14:50          3rd   \n",
       "49   1/9/18 14:50          NaN   \n",
       "58   1/9/18 14:50          3rd   \n",
       "66   1/9/18 14:50    Sophomore   \n",
       "67   1/9/18 14:50            2   \n",
       "83   1/9/18 14:50       Senior   \n",
       "91   1/9/18 14:50        Third   \n",
       "92   1/9/18 14:50            4   \n",
       "133  1/9/18 14:50         2018   \n",
       "140  1/9/18 14:50       Senior   \n",
       "150  1/9/18 14:50       Second   \n",
       "159  1/9/18 14:50       Fourth   \n",
       "168  1/9/18 14:50       Second   \n",
       "181  1/9/18 14:50       Second   \n",
       "232  1/9/18 14:51       Second   \n",
       "241  1/9/18 14:51          4th   \n",
       "249  1/9/18 14:51            2   \n",
       "264  1/9/18 14:51            4   \n",
       "285  1/9/18 14:51            4   \n",
       "293  1/9/18 14:51          2nd   \n",
       "304  1/9/18 14:51            3   \n",
       "352  1/9/18 14:52          4th   \n",
       "354  1/9/18 14:52            4   \n",
       "357  1/9/18 14:52            2   \n",
       "376  1/9/18 14:52            1   \n",
       "381  1/9/18 14:52  second year   \n",
       "402  1/9/18 14:53            4   \n",
       "412  1/9/18 14:55            3   \n",
       "\n",
       "                                                 major   age     gender  \\\n",
       "29                                           math&econ  20.0     female   \n",
       "38                                Computer Engineering  21.0     Female   \n",
       "49                                             Cog Sci  21.0     Female   \n",
       "58                                    Computer Science  20.0     Female   \n",
       "66          Cognitive Science - Design and Interaction  19.0     Female   \n",
       "67                                    Computer Science  19.0       Male   \n",
       "83                                    Computer Science  22.0       Male   \n",
       "91                                    Computer Science  21.0     Female   \n",
       "92                                    Computer Science  21.0     Female   \n",
       "133                                   computer science  22.0       male   \n",
       "140                               Chemical Engineering  25.0     Female   \n",
       "150                                  Cognitive Science  19.0     Female   \n",
       "159                                  Cognitive Science  21.0     Female   \n",
       "168                                           Cogs sci  20.0     female   \n",
       "181                                   Computer science  18.0       Male   \n",
       "232                                    Bioengineering   20.0       Male   \n",
       "241                                       Cogs Sci HCI  21.0     Female   \n",
       "249                                  Computer Science   20.0       Male   \n",
       "264                                   Computer Science  21.0     Female   \n",
       "285                                 Molecular Biology   21.0        NaN   \n",
       "293                               Computer Engineering   NaN       Male   \n",
       "304                                   Computer Science  20.0       Male   \n",
       "352                                  Cognitive Science  21.0     Female   \n",
       "354  Cognitive Science - Machine Learning and Neura...  21.0  Nonbinary   \n",
       "357                                               EECS  19.0        NaN   \n",
       "376                                             MathCS  18.0          M   \n",
       "381                                   computer science  19.0       male   \n",
       "402                                   Computer Science  21.0     Female   \n",
       "412                                   Computer Science  20.0          M   \n",
       "\n",
       "          height      weight          eye_color born_in_CA  \\\n",
       "29           173         130              black         No   \n",
       "38           NaN         NaN              Brown         No   \n",
       "49           NaN         NaN              Brown        Yes   \n",
       "58       5ft 2in         NaN              brown         No   \n",
       "66           5'5         NaN              Brown         No   \n",
       "67           NaN         170              Brown        Yes   \n",
       "83          5'11      155 lb         dark brown         No   \n",
       "91           NaN         NaN              Black         No   \n",
       "92          5'2\"         NaN              Brown        Yes   \n",
       "133          NaN         NaN              brown         No   \n",
       "140       5 ft 3         NaN              Black         No   \n",
       "150          NaN         NaN                NaN        Yes   \n",
       "159          NaN         NaN              Black        Yes   \n",
       "168          178         NaN              brown         No   \n",
       "181          NaN         NaN              Brown         No   \n",
       "232        1.7 m        70kg              Black         No   \n",
       "241  5 feet 4 in         NaN              brown        Yes   \n",
       "249        175cm         NaN              Brown         No   \n",
       "264        168cm         NaN         Dark Brown        Yes   \n",
       "285          NaN         NaN                NaN        NaN   \n",
       "293       10-May  160 pounds              Brown        Yes   \n",
       "304          NaN         NaN              Brown        Yes   \n",
       "352        5’7’’         NaN              Brown         No   \n",
       "354         5'5\"    120 lbs.             Brown         Yes   \n",
       "357         6.21         150  chocolate pudding        Yes   \n",
       "376         5 10         NaN              Brown         No   \n",
       "381          NaN         NaN                NaN         No   \n",
       "402         5'8\"         NaN              Brown        Yes   \n",
       "412         68in         NaN              Brown        Yes   \n",
       "\n",
       "                                     favorite_icecream  \n",
       "29                                                 NaN  \n",
       "38                                                 NaN  \n",
       "49                                           Chocolate  \n",
       "58                                   cookies and cream  \n",
       "66                         Chubby hubby ben and jerrys  \n",
       "67                                           Chocolate  \n",
       "83                                                 NaN  \n",
       "91                                           Green tea  \n",
       "92                                           Mint chip  \n",
       "133                                                NaN  \n",
       "140                                          Green tea  \n",
       "150                                  Cookies and Cream  \n",
       "159                         Sea salt cookies and cream  \n",
       "168                                          green tea  \n",
       "181                                  Cookies and cream  \n",
       "232                                                NaN  \n",
       "241                                     Mint chocolate  \n",
       "249                                               Mint  \n",
       "264                                            Vanilla  \n",
       "285                                          Green Tea  \n",
       "293                                                NaN  \n",
       "304                                         Strawberry  \n",
       "352                                                NaN  \n",
       "354                                                NaN  \n",
       "357  👌👀👌👀👌👀👌👀👌👀 good shit go౦ԁ sHit👌 thats ✔ some g...  \n",
       "376                                             Matcha  \n",
       "381                                         strawberry  \n",
       "402                                         Strawberry  \n",
       "412                                                NaN  "
      ]
     },
     "execution_count": 12,
     "metadata": {},
     "output_type": "execute_result"
    }
   ],
   "source": [
    "rows_to_drop"
   ]
  },
  {
   "cell_type": "markdown",
   "metadata": {
    "deletable": false,
    "editable": false,
    "nbgrader": {
     "cell_type": "markdown",
     "checksum": "cc8d97ae5fbb4acc5de0df01b344b696",
     "grade": false,
     "grade_id": "cell-33af0ba718e81752",
     "locked": true,
     "schema_version": 3,
     "solution": false
    }
   },
   "source": [
    "### 1c) Drop the rows with NaN values\n",
    "\n",
    "Drop any rows with missing data, but only for the columns `major`, `height`, `gender` and `age`. These will be the data of primary interest for our analyses, so we drop missing data here. \n",
    "\n",
    "Note that there are other missing data (in other rows) but this is fine for our analyses, so we keep them. \n",
    "\n",
    "To do this, use the pandas `dropna` method, inplace, using the `subset` arguments to specify columns."
   ]
  },
  {
   "cell_type": "code",
   "execution_count": 13,
   "metadata": {
    "deletable": false,
    "nbgrader": {
     "cell_type": "code",
     "checksum": "c0825f2f7b2c060c3fb4d62705faadfa",
     "grade": false,
     "grade_id": "1c",
     "locked": false,
     "schema_version": 3,
     "solution": true
    }
   },
   "outputs": [],
   "source": [
    "df.dropna(subset=['major', 'height', 'gender', 'age'], inplace=True)"
   ]
  },
  {
   "cell_type": "code",
   "execution_count": 14,
   "metadata": {
    "deletable": false,
    "editable": false,
    "nbgrader": {
     "cell_type": "code",
     "checksum": "f7f2dd4b5530cbdffd20f73c8e05f29a",
     "grade": true,
     "grade_id": "1c_ans",
     "locked": true,
     "points": 0.1,
     "schema_version": 3,
     "solution": false
    }
   },
   "outputs": [],
   "source": [
    "assert df.shape == (403, 10)"
   ]
  },
  {
   "cell_type": "markdown",
   "metadata": {
    "deletable": false,
    "editable": false,
    "nbgrader": {
     "cell_type": "markdown",
     "checksum": "d0f98a120c2b6f4771a237997cbee5ca",
     "grade": false,
     "grade_id": "cell-cda3e6787ee48a04",
     "locked": true,
     "schema_version": 3,
     "solution": false
    }
   },
   "source": [
    "**Note**: For the following few cells you should run, read, and understand the code provided, but you don't have to add any code until Q1d."
   ]
  },
  {
   "cell_type": "markdown",
   "metadata": {
    "deletable": false,
    "editable": false,
    "nbgrader": {
     "cell_type": "markdown",
     "checksum": "85e6586cf4ff972ed07652a7b0b3efef",
     "grade": false,
     "grade_id": "cell-ec7c94363479cbcb",
     "locked": true,
     "schema_version": 3,
     "solution": false
    }
   },
   "source": [
    "Now we have to standardize the data!\n",
    "\n",
    "Check all different values given for majors. It's a lot!"
   ]
  },
  {
   "cell_type": "code",
   "execution_count": 15,
   "metadata": {
    "deletable": false,
    "editable": false,
    "nbgrader": {
     "cell_type": "code",
     "checksum": "4035a70cc7534a4da00aa25935685e96",
     "grade": false,
     "grade_id": "cell-4121a97eb3f8c1f5",
     "locked": true,
     "schema_version": 3,
     "solution": false
    }
   },
   "outputs": [
    {
     "data": {
      "text/plain": [
       "array(['Cognitive Science', 'Computer Science', 'Cogs HCI',\n",
       "       'Cognitive Science w/ a specialization in Computation',\n",
       "       'International Studies', 'Computer Engineering',\n",
       "       'computer science', 'Chemical Engineering / Literature Writing',\n",
       "       'Cognitive Science w/ Specialization in Human Computer Interaction',\n",
       "       'Cognitive Science-- Machine Learning and Neural Computation ',\n",
       "       'Cse', 'Cognitive Science - Design and Interaction',\n",
       "       'cognitive science', 'CSE', 'Cog sci design interaction',\n",
       "       'Math CS', 'Electrical Engineering', 'math&econ',\n",
       "       'Cognitive Science spec/ HCI', 'Cognitive science', 'Math-CS',\n",
       "       'Data Science', 'Cognitive science ', 'Cognitive Science ',\n",
       "       'Math - CS ', 'Cognitive Science Human Computer Interaction',\n",
       "       'Cognitive Science with specialization in HCI ',\n",
       "       'Cognitive Science (HCI)', 'Probability & Statistics', 'Cog Sci',\n",
       "       'Cognitive Science - Machine Learning',\n",
       "       'Mathematics-computer science', 'Computer science ',\n",
       "       'Computer Science-Bioinformatics', 'Computer Scientist',\n",
       "       'Cognitive science (HCI)',\n",
       "       'Cogsci specializing in machine learning and neural computation ',\n",
       "       'cognitive science with specialization in machine learning and neural computation',\n",
       "       'Cogntive Science with emphasis on Clinical Aspects',\n",
       "       'Computer Science ', 'Cognitive Science ML&NC major, CSE minor',\n",
       "       'math-cs', 'Cognitive Science: Human-Computer Interaction',\n",
       "       'Political Science',\n",
       "       'Cognitive Science with a specialization in Neuroscience',\n",
       "       'Molecular Biology', 'Mathematics-Computer Science',\n",
       "       'Cognitive Science with a Specialization in Neuroscience ',\n",
       "       'Economics', 'computer engineering ',\n",
       "       'Cognitive Science with Specialization in Machine Learning and Neural Computation',\n",
       "       'Computer Engineering ', 'Economics ',\n",
       "       'Cognitive Science (Design & Interaction)',\n",
       "       'Cognitive Science Specialization in Design and Interaction',\n",
       "       'Cognitive Science w/ Focus on Human Computer Interaction', 'Math',\n",
       "       'Math-Computer Science',\n",
       "       'Cognitive Science with an emphasis in machine learning and neural computation',\n",
       "       'Math-Cs', 'Cogs Sci design specilization',\n",
       "       'Cognitive Science / HCI', 'Applied Mathematics', 'Applied math',\n",
       "       'Cognitive Science (Specialization in Design & Interaction)',\n",
       "       'MathCS', 'Chemical Engineering', 'Cogsci HCI',\n",
       "       'Cognitive Science-Design', 'cognitive science - hci',\n",
       "       'Computer science',\n",
       "       'Cognitive Science- Machine Learning & Neural Computation ',\n",
       "       'Bioinformatics', 'CogSci', 'Cognitive Science HCI',\n",
       "       'Cognitive Science in HCI', 'Cogs sci', 'Cogs machine learning',\n",
       "       'cogs hci', 'Bioinformatics ', 'Psychology',\n",
       "       'Math & Computer Science', 'Cog Sci HCI', 'MATH-CS',\n",
       "       'CogSci w/ Spec in HCI', 'Cogs Spec ML and NC',\n",
       "       'Probability and Statistics', 'Cognitive Neuroscience',\n",
       "       'Computer Science Engineer', 'Cogsci/HCI', 'CS',\n",
       "       'Physiology and neuroscience', 'Computer engineering ',\n",
       "       'Cognitive Science - HCI', 'Management Science',\n",
       "       'Cognit ive Science', 'Bioengineering ', 'ICAM & COGS',\n",
       "       'Cognitive Science with a Specialization in Human Cognition',\n",
       "       'cog sci', 'Cogs Sci HCI', 'Mathematics Computer Science ',\n",
       "       'Psychology and Cognitive Science ', 'Computer Engineer',\n",
       "       'Biochemistry and Cell Biology', 'Cognitive Science  ',\n",
       "       'Cognitive Science w/ HCI ', 'Cog Sci ',\n",
       "       'Cognitive science spec HCI', 'Cog sci',\n",
       "       'Cognitive Science (Machine Learning and Neural Computation)',\n",
       "       'Cognitive science neuroscience', 'CogSci specialization ML',\n",
       "       'Psychology Cognitive Science', 'Probability and statistics',\n",
       "       'Mathematics - Computer Science',\n",
       "       'Interdisciplinary Computing & the Arts',\n",
       "       'Cognitive Science - Neuroscience', 'Management Science ',\n",
       "       'Cognitive Science with a Specialization in Design and Interaction',\n",
       "       'MathCs', 'Cogs with specialization in HCI',\n",
       "       'Cognitive Science (with specialization in computation)', 'Cogs',\n",
       "       'COGS（ML）', 'Cognitive Science, Human-Computer Interaction',\n",
       "       'Cognitive Science specializing in Machine Learning and Computer Science double major',\n",
       "       'Cognitive Science - Specialization in Neuroscience.',\n",
       "       'Cognitive science machine learning and neural computation',\n",
       "       'Cognitive Science (Spec. Design and Interaction)',\n",
       "       'Machine Learning', 'Cognitive and Behavioral Neuroscience',\n",
       "       'Cog Sci, B.S and Poli Sci, B.A.', 'Human Computer Interaction',\n",
       "       'Electrical engineering', 'Linguistics',\n",
       "       'MathCS & CogsSci ML Double Major', 'bioinformatics',\n",
       "       'Cognitive science HCI',\n",
       "       'Cognitive Science- Human Computer Interaction',\n",
       "       'Cognitive Science - Machine Learning and Neural Computation',\n",
       "       'Cognitive science- design and interaction ',\n",
       "       'Cognitive Science- Neuroscience',\n",
       "       'Cognitive Science: Machine Learning & Neural Computation',\n",
       "       'Cognitive science specialized in machine learning and neural computetion',\n",
       "       'Cognitive Science with a Specialization in Machine Learning & Neural Computation ',\n",
       "       'Computer engineering', 'Neuroscience',\n",
       "       'General Linguistics and Cognitive Science (with Spec. in Clinical Aspects)',\n",
       "       'Cog Sci w/ specialization in Neuroscience', 'cs',\n",
       "       'COGS spc Machine Learning', 'COGS HCI ', 'Electrical engineer',\n",
       "       'Cognitive Science with specialization in Neuroscience ',\n",
       "       'Cognitive Science specializing in HCI',\n",
       "       'Cognitive Science: Neuroscience', 'computer science ',\n",
       "       'Cognitive Science specializing in Neuroscience ',\n",
       "       'CogSci Machine Learning', 'Bioengineering'], dtype=object)"
      ]
     },
     "execution_count": 15,
     "metadata": {},
     "output_type": "execute_result"
    }
   ],
   "source": [
    "df['major'].unique()"
   ]
  },
  {
   "cell_type": "markdown",
   "metadata": {
    "deletable": false,
    "editable": false,
    "nbgrader": {
     "cell_type": "markdown",
     "checksum": "409ff9b8fa01a208f87d9edfc244025f",
     "grade": false,
     "grade_id": "cell-0bccb2cd7c863c75",
     "locked": true,
     "schema_version": 3,
     "solution": false
    }
   },
   "source": [
    "We'll write a function performing some simple substring checking in order to group many responses together."
   ]
  },
  {
   "cell_type": "code",
   "execution_count": 16,
   "metadata": {
    "deletable": false,
    "editable": false,
    "nbgrader": {
     "cell_type": "code",
     "checksum": "0df7933f0b0878405618ca6484e44077",
     "grade": false,
     "grade_id": "cell-9385b62fe387df90",
     "locked": true,
     "schema_version": 3,
     "solution": false
    }
   },
   "outputs": [],
   "source": [
    "def standardize_major(string):\n",
    "    \n",
    "    string = string.lower()\n",
    "    string = string.strip()\n",
    "    \n",
    "    if 'cog' in string:\n",
    "        output = 'COGSCI'\n",
    "    elif 'computer' in string:\n",
    "        output = 'COMPSCI'\n",
    "    elif 'cs' in string:\n",
    "        output = 'COMPSCI'\n",
    "    elif 'math' in string:\n",
    "        output = 'MATH'\n",
    "    elif 'electrical' in string:\n",
    "        output = 'ECE'\n",
    "    elif 'bio' in string:\n",
    "        output = 'BIO'\n",
    "    elif 'chem' in string:\n",
    "        output = 'CHEM'\n",
    "    # Otherwise, if uncaught - keep as is\n",
    "    else:\n",
    "        output = string\n",
    "    \n",
    "    return output"
   ]
  },
  {
   "cell_type": "markdown",
   "metadata": {
    "deletable": false,
    "editable": false,
    "nbgrader": {
     "cell_type": "markdown",
     "checksum": "2090a47dc68390955302668b41bcfda9",
     "grade": false,
     "grade_id": "cell-bdc400e73e4ded53",
     "locked": true,
     "schema_version": 3,
     "solution": false
    }
   },
   "source": [
    "We then have to apply the transformation using the function we just defined."
   ]
  },
  {
   "cell_type": "code",
   "execution_count": 17,
   "metadata": {
    "deletable": false,
    "editable": false,
    "nbgrader": {
     "cell_type": "code",
     "checksum": "2a888a8e213df5e8c79bfbfde047e0d8",
     "grade": false,
     "grade_id": "cell-09d04f8d107994ce",
     "locked": true,
     "schema_version": 3,
     "solution": false
    }
   },
   "outputs": [],
   "source": [
    "df['major'] = df['major'].apply(standardize_major)"
   ]
  },
  {
   "cell_type": "markdown",
   "metadata": {
    "deletable": false,
    "editable": false,
    "nbgrader": {
     "cell_type": "markdown",
     "checksum": "d2ffe92e4e0df282b7dfca735f56092f",
     "grade": false,
     "grade_id": "cell-45fa4288b93a776e",
     "locked": true,
     "schema_version": 3,
     "solution": false
    }
   },
   "source": [
    "Previewing the results of the previous transformation.\n",
    "\n",
    "It looks a lot better, though it's not perfect, but we'll run with this."
   ]
  },
  {
   "cell_type": "code",
   "execution_count": 18,
   "metadata": {
    "deletable": false,
    "editable": false,
    "nbgrader": {
     "cell_type": "code",
     "checksum": "7fc6938d37ee15844aacb7f912d3722f",
     "grade": false,
     "grade_id": "cell-ebea1ef0aedc6e5e",
     "locked": true,
     "schema_version": 3,
     "solution": false
    }
   },
   "outputs": [
    {
     "data": {
      "text/plain": [
       "array(['COGSCI', 'COMPSCI', 'international studies', 'CHEM', 'ECE',\n",
       "       'MATH', 'data science', 'political science', 'BIO', 'psychology',\n",
       "       'physiology and neuroscience', 'management science',\n",
       "       'interdisciplinary computing & the arts', 'machine learning',\n",
       "       'neuroscience'], dtype=object)"
      ]
     },
     "execution_count": 18,
     "metadata": {},
     "output_type": "execute_result"
    }
   ],
   "source": [
    "df['major'].unique()"
   ]
  },
  {
   "cell_type": "markdown",
   "metadata": {
    "deletable": false,
    "editable": false,
    "nbgrader": {
     "cell_type": "markdown",
     "checksum": "efeefdf5fe07ca34e06e5e2fb0c4170e",
     "grade": false,
     "grade_id": "cell-e81c26b20ffb78a5",
     "locked": true,
     "schema_version": 3,
     "solution": false
    }
   },
   "source": [
    "Next let's check the 'gender' column. \n",
    "\n",
    "Check the different responses received for gender, including how many of each response we have"
   ]
  },
  {
   "cell_type": "code",
   "execution_count": 19,
   "metadata": {
    "deletable": false,
    "editable": false,
    "nbgrader": {
     "cell_type": "code",
     "checksum": "a78905205af4e9aa52ddd332741dde58",
     "grade": false,
     "grade_id": "cell-a364c6969663170d",
     "locked": true,
     "schema_version": 3,
     "solution": false
    }
   },
   "outputs": [
    {
     "data": {
      "text/plain": [
       "Male           229\n",
       "Female          95\n",
       "female          26\n",
       "male            18\n",
       "F               10\n",
       "Male             6\n",
       "Female           6\n",
       "M                6\n",
       "men              1\n",
       "Woman            1\n",
       "Nonbinary        1\n",
       "Rainbow          1\n",
       "Transgender      1\n",
       "MALE             1\n",
       "Famale           1\n",
       "Name: gender, dtype: int64"
      ]
     },
     "execution_count": 19,
     "metadata": {},
     "output_type": "execute_result"
    }
   ],
   "source": [
    "df['gender'].value_counts()"
   ]
  },
  {
   "cell_type": "markdown",
   "metadata": {
    "deletable": false,
    "editable": false,
    "nbgrader": {
     "cell_type": "markdown",
     "checksum": "85bf97546c348cd39c2ffe84b7285d3b",
     "grade": false,
     "grade_id": "cell-23811a6de901ba24",
     "locked": true,
     "schema_version": 3,
     "solution": false
    }
   },
   "source": [
    "### 1d) Standardize 'gender' function\n",
    "Using a similar approach to what we used for major, you'll write a `standardize_gender` function.\n",
    "\n",
    "Note: for the purposes of the following analyses, we will keep self-reported gender for categories in which we have a sizable number of responses, in this case, those which correspond to 'female' and 'male'.\n",
    "\n",
    "To do this you'll:\n",
    "- convert all text to lowercase\n",
    "- use the string method `strip()` to remove leading and trailing characters from the gender value\n",
    "- use an `if/elif/else` to:\n",
    "    - output 'female' if the gender value is 'female', 'f', 'woman', or 'women'\n",
    "    - output 'male' if the gender value is 'male', 'm', 'man', or 'men'\n",
    "    - output `np.nan` otherwise\n",
    "- return the output"
   ]
  },
  {
   "cell_type": "code",
   "execution_count": 20,
   "metadata": {
    "deletable": false,
    "nbgrader": {
     "cell_type": "code",
     "checksum": "ebc7f3514e89792e4cd486a0ffcf1098",
     "grade": false,
     "grade_id": "cell-2720852762f49edd",
     "locked": false,
     "schema_version": 3,
     "solution": true
    }
   },
   "outputs": [],
   "source": [
    "def standardize_gender(string):\n",
    "    string = string.lower()\n",
    "    string = string.strip()\n",
    "    \n",
    "    if string =='female':\n",
    "        output = 'female'\n",
    "    elif 'f' == string:\n",
    "        output = 'female'\n",
    "    elif 'woman' == string:\n",
    "        output = 'female'\n",
    "    elif 'women' == string:\n",
    "        output = 'female'\n",
    "    elif 'm' == string:\n",
    "        output = 'male'\n",
    "    elif 'man' == string:\n",
    "        output = 'male'\n",
    "    elif 'men' == string:\n",
    "        output = 'male'\n",
    "    elif 'male' == string:\n",
    "        output = 'male'\n",
    "    # Otherwise, if uncaught - keep as is\n",
    "    else:\n",
    "        output = np.nan\n",
    "    \n",
    "    return output"
   ]
  },
  {
   "cell_type": "code",
   "execution_count": 21,
   "metadata": {
    "deletable": false,
    "editable": false,
    "nbgrader": {
     "cell_type": "code",
     "checksum": "78562ab2a4be29b09709fa5eb2e22658",
     "grade": true,
     "grade_id": "cell-a3748b058a2402f3",
     "locked": true,
     "points": 0.5,
     "schema_version": 3,
     "solution": false
    }
   },
   "outputs": [],
   "source": [
    "assert standardize_gender('f') == 'female'\n",
    "assert standardize_gender('male') == 'male'\n"
   ]
  },
  {
   "cell_type": "markdown",
   "metadata": {
    "deletable": false,
    "editable": false,
    "nbgrader": {
     "cell_type": "markdown",
     "checksum": "7a8fe284703d76ce58b374537c77a41b",
     "grade": false,
     "grade_id": "cell-037459867516ae1d",
     "locked": true,
     "schema_version": 3,
     "solution": false
    }
   },
   "source": [
    "### 1e) Transform 'gender' column\n",
    "\n",
    "Apply the transformation, meaning, use your function and standardize gender in `df`\n",
    "\n",
    "Then, drop any rows with missing gender information."
   ]
  },
  {
   "cell_type": "code",
   "execution_count": 22,
   "metadata": {
    "deletable": false,
    "nbgrader": {
     "cell_type": "code",
     "checksum": "dba752821dca9f5e1df14a644c8a33f2",
     "grade": false,
     "grade_id": "cell-291cf93820c28b6d",
     "locked": false,
     "schema_version": 3,
     "solution": true
    }
   },
   "outputs": [
    {
     "data": {
      "text/html": [
       "<div>\n",
       "<style scoped>\n",
       "    .dataframe tbody tr th:only-of-type {\n",
       "        vertical-align: middle;\n",
       "    }\n",
       "\n",
       "    .dataframe tbody tr th {\n",
       "        vertical-align: top;\n",
       "    }\n",
       "\n",
       "    .dataframe thead th {\n",
       "        text-align: right;\n",
       "    }\n",
       "</style>\n",
       "<table border=\"1\" class=\"dataframe\">\n",
       "  <thead>\n",
       "    <tr style=\"text-align: right;\">\n",
       "      <th></th>\n",
       "      <th>timestamp</th>\n",
       "      <th>year</th>\n",
       "      <th>major</th>\n",
       "      <th>age</th>\n",
       "      <th>gender</th>\n",
       "      <th>height</th>\n",
       "      <th>weight</th>\n",
       "      <th>eye_color</th>\n",
       "      <th>born_in_CA</th>\n",
       "      <th>favorite_icecream</th>\n",
       "    </tr>\n",
       "  </thead>\n",
       "  <tbody>\n",
       "    <tr>\n",
       "      <th>0</th>\n",
       "      <td>1/9/18 14:49</td>\n",
       "      <td>4</td>\n",
       "      <td>COGSCI</td>\n",
       "      <td>21.0</td>\n",
       "      <td>male</td>\n",
       "      <td>5'8\"</td>\n",
       "      <td>147</td>\n",
       "      <td>Brown</td>\n",
       "      <td>Yes</td>\n",
       "      <td>Vanilla</td>\n",
       "    </tr>\n",
       "    <tr>\n",
       "      <th>1</th>\n",
       "      <td>1/9/18 14:49</td>\n",
       "      <td>3</td>\n",
       "      <td>COGSCI</td>\n",
       "      <td>20.0</td>\n",
       "      <td>male</td>\n",
       "      <td>5'8</td>\n",
       "      <td>150</td>\n",
       "      <td>Brown</td>\n",
       "      <td>Yes</td>\n",
       "      <td>Cookies and Cream</td>\n",
       "    </tr>\n",
       "    <tr>\n",
       "      <th>2</th>\n",
       "      <td>1/9/18 14:49</td>\n",
       "      <td>Third</td>\n",
       "      <td>COMPSCI</td>\n",
       "      <td>21.0</td>\n",
       "      <td>male</td>\n",
       "      <td>178cm</td>\n",
       "      <td>74kg</td>\n",
       "      <td>Black</td>\n",
       "      <td>Yes</td>\n",
       "      <td>Matcha</td>\n",
       "    </tr>\n",
       "    <tr>\n",
       "      <th>3</th>\n",
       "      <td>1/9/18 14:49</td>\n",
       "      <td>2</td>\n",
       "      <td>COGSCI</td>\n",
       "      <td>20.0</td>\n",
       "      <td>male</td>\n",
       "      <td>5’8</td>\n",
       "      <td>133</td>\n",
       "      <td>Brown</td>\n",
       "      <td>Yes</td>\n",
       "      <td>Cookies and Cream</td>\n",
       "    </tr>\n",
       "    <tr>\n",
       "      <th>4</th>\n",
       "      <td>1/9/18 14:49</td>\n",
       "      <td>3</td>\n",
       "      <td>COMPSCI</td>\n",
       "      <td>20.0</td>\n",
       "      <td>male</td>\n",
       "      <td>5'8\"</td>\n",
       "      <td>160</td>\n",
       "      <td>Brown</td>\n",
       "      <td>Yes</td>\n",
       "      <td>Cookies n' Cream</td>\n",
       "    </tr>\n",
       "    <tr>\n",
       "      <th>...</th>\n",
       "      <td>...</td>\n",
       "      <td>...</td>\n",
       "      <td>...</td>\n",
       "      <td>...</td>\n",
       "      <td>...</td>\n",
       "      <td>...</td>\n",
       "      <td>...</td>\n",
       "      <td>...</td>\n",
       "      <td>...</td>\n",
       "      <td>...</td>\n",
       "    </tr>\n",
       "    <tr>\n",
       "      <th>411</th>\n",
       "      <td>1/9/18 14:54</td>\n",
       "      <td>Senior</td>\n",
       "      <td>COGSCI</td>\n",
       "      <td>29.0</td>\n",
       "      <td>male</td>\n",
       "      <td>185 cm</td>\n",
       "      <td>185 lbs</td>\n",
       "      <td>Brown</td>\n",
       "      <td>No</td>\n",
       "      <td>Cookies and Cream</td>\n",
       "    </tr>\n",
       "    <tr>\n",
       "      <th>412</th>\n",
       "      <td>1/9/18 14:55</td>\n",
       "      <td>3</td>\n",
       "      <td>COMPSCI</td>\n",
       "      <td>20.0</td>\n",
       "      <td>male</td>\n",
       "      <td>68in</td>\n",
       "      <td>NaN</td>\n",
       "      <td>Brown</td>\n",
       "      <td>Yes</td>\n",
       "      <td>NaN</td>\n",
       "    </tr>\n",
       "    <tr>\n",
       "      <th>413</th>\n",
       "      <td>1/9/18 14:55</td>\n",
       "      <td>Sineor</td>\n",
       "      <td>COMPSCI</td>\n",
       "      <td>28.0</td>\n",
       "      <td>male</td>\n",
       "      <td>5’9”</td>\n",
       "      <td>170</td>\n",
       "      <td>Brown</td>\n",
       "      <td>No</td>\n",
       "      <td>Chocolate</td>\n",
       "    </tr>\n",
       "    <tr>\n",
       "      <th>414</th>\n",
       "      <td>1/9/18 14:57</td>\n",
       "      <td>4</td>\n",
       "      <td>BIO</td>\n",
       "      <td>23.0</td>\n",
       "      <td>male</td>\n",
       "      <td>5'9\"</td>\n",
       "      <td>155</td>\n",
       "      <td>brown</td>\n",
       "      <td>No</td>\n",
       "      <td>peanut butter</td>\n",
       "    </tr>\n",
       "    <tr>\n",
       "      <th>415</th>\n",
       "      <td>1/9/18 15:04</td>\n",
       "      <td>Fourth</td>\n",
       "      <td>COMPSCI</td>\n",
       "      <td>21.0</td>\n",
       "      <td>male</td>\n",
       "      <td>6’1”</td>\n",
       "      <td>145</td>\n",
       "      <td>Brown</td>\n",
       "      <td>No</td>\n",
       "      <td>Vanilla</td>\n",
       "    </tr>\n",
       "  </tbody>\n",
       "</table>\n",
       "<p>399 rows × 10 columns</p>\n",
       "</div>"
      ],
      "text/plain": [
       "        timestamp     year    major   age gender  height   weight eye_color  \\\n",
       "0    1/9/18 14:49        4   COGSCI  21.0   male    5'8\"      147     Brown   \n",
       "1    1/9/18 14:49        3   COGSCI  20.0   male     5'8      150     Brown   \n",
       "2    1/9/18 14:49    Third  COMPSCI  21.0   male   178cm     74kg     Black   \n",
       "3    1/9/18 14:49        2   COGSCI  20.0   male     5’8      133     Brown   \n",
       "4    1/9/18 14:49        3  COMPSCI  20.0   male    5'8\"      160     Brown   \n",
       "..            ...      ...      ...   ...    ...     ...      ...       ...   \n",
       "411  1/9/18 14:54   Senior   COGSCI  29.0   male  185 cm  185 lbs     Brown   \n",
       "412  1/9/18 14:55        3  COMPSCI  20.0   male    68in      NaN     Brown   \n",
       "413  1/9/18 14:55  Sineor   COMPSCI  28.0   male    5’9”      170    Brown    \n",
       "414  1/9/18 14:57        4      BIO  23.0   male    5'9\"      155     brown   \n",
       "415  1/9/18 15:04   Fourth  COMPSCI  21.0   male    6’1”      145     Brown   \n",
       "\n",
       "    born_in_CA  favorite_icecream  \n",
       "0          Yes            Vanilla  \n",
       "1          Yes  Cookies and Cream  \n",
       "2          Yes             Matcha  \n",
       "3          Yes  Cookies and Cream  \n",
       "4          Yes   Cookies n' Cream  \n",
       "..         ...                ...  \n",
       "411         No  Cookies and Cream  \n",
       "412        Yes                NaN  \n",
       "413         No         Chocolate   \n",
       "414         No      peanut butter  \n",
       "415         No            Vanilla  \n",
       "\n",
       "[399 rows x 10 columns]"
      ]
     },
     "execution_count": 22,
     "metadata": {},
     "output_type": "execute_result"
    }
   ],
   "source": [
    "df['gender'] = df['gender'].apply(standardize_gender)\n",
    "df.dropna(subset=['gender'], inplace=True)\n",
    "df"
   ]
  },
  {
   "cell_type": "code",
   "execution_count": 23,
   "metadata": {
    "deletable": false,
    "editable": false,
    "nbgrader": {
     "cell_type": "code",
     "checksum": "9af8a0a4bac1adb4568ff7913b921e0b",
     "grade": false,
     "grade_id": "cell-17fff0622ea53c05",
     "locked": true,
     "schema_version": 3,
     "solution": false
    }
   },
   "outputs": [
    {
     "data": {
      "text/plain": [
       "array(['male', 'female'], dtype=object)"
      ]
     },
     "execution_count": 23,
     "metadata": {},
     "output_type": "execute_result"
    }
   ],
   "source": [
    "# Check the results\n",
    "df['gender'].unique()"
   ]
  },
  {
   "cell_type": "code",
   "execution_count": 24,
   "metadata": {
    "deletable": false,
    "editable": false,
    "nbgrader": {
     "cell_type": "code",
     "checksum": "df7903155db19a6c78ccce482638d5b8",
     "grade": true,
     "grade_id": "cell-2c24bd8912a04a3f",
     "locked": true,
     "points": 0.25,
     "schema_version": 3,
     "solution": false
    }
   },
   "outputs": [],
   "source": [
    "assert len(df['gender'].unique()) == 2\n",
    "assert df.shape == (399, 10)"
   ]
  },
  {
   "cell_type": "markdown",
   "metadata": {},
   "source": [
    "### 1f) Standardize other columns \n",
    "Find, programatically, the number of unique responses in the 'year' column.\n",
    "\n",
    "Save the result in a variable named `num_unique_responses`. \n",
    "\n",
    "Hint: you can answer this question using the `unique` method, used above. "
   ]
  },
  {
   "cell_type": "code",
   "execution_count": 25,
   "metadata": {
    "deletable": false,
    "nbgrader": {
     "cell_type": "code",
     "checksum": "32982b87b5c14ce0e6e8237f0bda9361",
     "grade": false,
     "grade_id": "cell-67b62cbc121b186a",
     "locked": false,
     "schema_version": 3,
     "solution": true
    }
   },
   "outputs": [],
   "source": [
    "num_unique_responses = df['year'].unique().size"
   ]
  },
  {
   "cell_type": "code",
   "execution_count": 26,
   "metadata": {
    "deletable": false,
    "editable": false,
    "nbgrader": {
     "cell_type": "code",
     "checksum": "dd245104d662b29b0eb49fe0351ee14b",
     "grade": true,
     "grade_id": "cell-5f6082fc06a61a10",
     "locked": true,
     "points": 0.1,
     "schema_version": 3,
     "solution": false
    }
   },
   "outputs": [],
   "source": [
    "assert num_unique_responses\n",
    "assert isinstance(num_unique_responses, int)\n"
   ]
  },
  {
   "cell_type": "code",
   "execution_count": 27,
   "metadata": {
    "deletable": false,
    "editable": false,
    "nbgrader": {
     "cell_type": "code",
     "checksum": "16d4f41f832456cbb5d2969cfc30a4a2",
     "grade": false,
     "grade_id": "cell-d0d60f556b961d79",
     "locked": true,
     "schema_version": 3,
     "solution": false
    }
   },
   "outputs": [
    {
     "data": {
      "text/plain": [
       "array(['4', '3', 'Third', '2', '3rd', '3rd year', '5th', 'Second',\n",
       "       '4th Year', '5', 'Senior', 'Junior', '2nd', '1', 'senior', 'third',\n",
       "       'first year', '4th', 'Junior ', 'Freshman', 'Sophomore',\n",
       "       '4th year', '6', 'second year', 'Third Year', '2nd year', 'First',\n",
       "       '5th (2nd year transfer)', '2018', 'last year', 'UCSD',\n",
       "       'Fifth Year', '2021', 'Fifth year', '3rd Year', '3rd year ',\n",
       "       'Second year', 'fourth year', 'First year', 'Sophmore',\n",
       "       'Second Year', 'Junior year', '2020', 'Fifth ', 'Sophomore ',\n",
       "       '2nd year ', '4th year ', '2nd Year', '4+', 'second', 'Fourth',\n",
       "       'Senior Year', '2nd (Sophomore)', 'Senior ', ' 3rd Year',\n",
       "       'Fourth Year', 'Junior standing', 'Fourth year', 'Fifth',\n",
       "       'Third year', 'Sineor '], dtype=object)"
      ]
     },
     "execution_count": 27,
     "metadata": {},
     "output_type": "execute_result"
    }
   ],
   "source": [
    "# Print out all the different answers in 'year'\n",
    "df['year'].unique()"
   ]
  },
  {
   "cell_type": "markdown",
   "metadata": {
    "deletable": false,
    "editable": false,
    "nbgrader": {
     "cell_type": "markdown",
     "checksum": "2b573833a7240fad96b2c6cbd6c66ffb",
     "grade": false,
     "grade_id": "cell-3c5e3e0128fbe90b",
     "locked": true,
     "schema_version": 3,
     "solution": false
    }
   },
   "source": [
    "The line of code above shows us the different values we got, to the question 'What year (in school) are you?'.\n",
    "\n",
    "As you can tell, it is a <b>mess</b>!. For example, if you are a junior student, then you might have answered: 3, three, third, 3rd year, junior, junior year, Junior, etc. \n",
    "\n",
    "That is an issue. We want to be able to analyze this data and, in order to do this successfully, we need to all answers with the same meaning to be written in the same way. Therefore, we're gonna have to transform answers such as '3, third, 3rd, junior, etc' into a single possible value. We'll do this for all values that mean the same. "
   ]
  },
  {
   "cell_type": "markdown",
   "metadata": {
    "deletable": false,
    "editable": false,
    "nbgrader": {
     "cell_type": "markdown",
     "checksum": "0fbcbe1205263495e1c764097a811978",
     "grade": false,
     "grade_id": "cell-2b7366b65afc6bcc",
     "locked": true,
     "schema_version": 3,
     "solution": false
    }
   },
   "source": [
    "In the rest of Part 1, we will work on writing code, organized into functions that will allow us to transform similar respones into the same value. We will call this process: standardizing the data. \n",
    "\n",
    "The cell below provides an example for the kind of code you will need to write to answer this question. This example is separate from our actual data, and is a potential function we might use to standardize messy data - in this case, hypothetical data to the question 'What is your favourite major python version?'. \n",
    "\n",
    "Note some things used in this example that you need to use to standardize data:\n",
    "- string methods, such as `lower` and `strip` to transform strings\n",
    "- the `replace` string method, to replace a set of characters with something else\n",
    "- if/else statements that check what's in our string (number, letters, etc)\n",
    "- type casting, for example using `int()` to turn a variable into an integer\n",
    "- using `np.nan` (which stands for 'not a number') to denote missing or unknown data"
   ]
  },
  {
   "cell_type": "code",
   "execution_count": 28,
   "metadata": {
    "deletable": false,
    "editable": false,
    "nbgrader": {
     "cell_type": "code",
     "checksum": "dbdf0178168d8d2f72776cf944275c8d",
     "grade": false,
     "grade_id": "cell-f17c3740350c93ec",
     "locked": true,
     "schema_version": 3,
     "solution": false
    }
   },
   "outputs": [
    {
     "name": "stdout",
     "output_type": "stream",
     "text": [
      "INPUT \t\t-\t OUTPUT\n",
      "version 3  \t-\t 3\n",
      "42         \t-\t nan\n",
      "2          \t-\t 2\n",
      "python 3   \t-\t 3\n",
      "nonsense-lolz \t-\t nan\n"
     ]
    }
   ],
   "source": [
    "def example_standardize_function(str_in):\n",
    "    '''Standardize data to the question 'what is your favorite major python version?'\n",
    "    \n",
    "    Parameters\n",
    "    ----------\n",
    "    str_in : string\n",
    "        A provided answer.\n",
    "        \n",
    "    Returns\n",
    "    -------\n",
    "    int_out : int or np.nan\n",
    "        A standardized integer response.\n",
    "    '''\n",
    "    \n",
    "    # Make the input all lowercase\n",
    "    str_in = str_in.lower()\n",
    "    \n",
    "    # Drop all whitespace\n",
    "    str_in = str_in.strip()\n",
    "    \n",
    "    # Replace things (and then strip again afterwords)\n",
    "    #  Note that the 'replace' replaces the first argument, with the second\n",
    "    #   The first argument does not need to be present in the string,\n",
    "    #    if it's not there 'replace' does nothing (but does not error), so the code moves on.\n",
    "    str_in = str_in.replace('version', '')\n",
    "    str_in = str_in.replace('python', '')\n",
    "    str_in = str_in.strip()\n",
    "    \n",
    "    # Cast to integer, if what's left seems appropriate\n",
    "    if str_in.isnumeric() and len(str_in) == 1:\n",
    "        out = int(str_in)\n",
    "    # Otherwise, consider input was probably ill-formed, return nan\n",
    "    else: \n",
    "        out = np.nan\n",
    "    \n",
    "    return out\n",
    "\n",
    "# Check how this function help standardize data:\n",
    "#  Example possible answers to the question 'What is your favourite major version of Python':\n",
    "print('INPUT', '\\t\\t-\\t', 'OUTPUT')\n",
    "for inp in ['version 3', '42', '2', 'python 3', 'nonsense-lolz']:\n",
    "    print('{:10s} \\t-\\t {:1.0f}'.format(inp, example_standardize_function(inp)))"
   ]
  },
  {
   "cell_type": "markdown",
   "metadata": {},
   "source": [
    "### 1g)  Standardize 'year' column\n",
    "\n",
    "Write a function named `standardize_year` that takes in as input a string and returns an integer.\n",
    "\n",
    "The function will do the following (in the order specified):\n",
    "\n",
    "Note that for these detailed instructions, each line corresponds to one line of code you need to write.\n",
    "\n",
    "- 1) convert all characters of the string into lowercase\n",
    "- 2) strip the string of all leading and trailing whitespace\n",
    "- 3) replace any occurences of 'first' with '1'\n",
    "- 4) replace any occurences of 'second' with '2'\n",
    "- 5) replace any occurences of 'third' with '3'\n",
    "- 6) replace any occurences of 'fourth' with '4'\n",
    "- 7) replace any occurences of 'fifth' with '5'\n",
    "- 8) replace any occurences of 'sixth' with '6'\n",
    "\n",
    "- 9) replace any occurences of 'freshman' with '1'\n",
    "- 10) replace any occurences of 'sophomore' with '2'\n",
    "- 11) replace any occurences of 'junior' with '3'\n",
    "- 12) replace any occurences of 'senior' with 4'\n",
    "- 13) replace any occurences of 'year' with '' (remove it from the string)\n",
    "\n",
    "- 14) replace any occurences of 'th' with '' (remove it from the string)\n",
    "- 15) replace any occurences of 'rd' with '' (remove it from the string)\n",
    "- 16) replace any occurences of 'nd' with '' (remove it from the string)\n",
    "- 17) strip the string of all leading and trailing whitespace (again)\n",
    "- 18) If the resulting string is a number and it is less than 10, then cast it into an integer and return that value\n",
    "- 19) Else return np.nan to symbolize that the student's response was not a valid entry\n",
    "\n",
    "HINTS: you will need to use the functions `lower()`, `strip()`, `isnumeric()` and `replace()`"
   ]
  },
  {
   "cell_type": "code",
   "execution_count": 29,
   "metadata": {
    "deletable": false,
    "nbgrader": {
     "cell_type": "code",
     "checksum": "3402181b20a82ed824f1c619231eba0a",
     "grade": false,
     "grade_id": "cell-0d5ebacd71733a00",
     "locked": false,
     "schema_version": 3,
     "solution": true
    }
   },
   "outputs": [],
   "source": [
    "def standardize_year(str_in):\n",
    "     # Make the input all lowercase\n",
    "    str_in = str_in.lower()\n",
    "    \n",
    "    # Drop all whitespace\n",
    "    str_in = str_in.strip()\n",
    "    \n",
    "    str_in = str_in.replace('first', '1')\n",
    "    str_in = str_in.replace('second', '2')\n",
    "    str_in = str_in.replace('third', '3')\n",
    "    str_in = str_in.replace('fourth', '4')\n",
    "    str_in = str_in.replace('fifth', '5')\n",
    "    str_in = str_in.replace('sixth', '6')\n",
    "    str_in = str_in.replace('freshman', '1')\n",
    "    str_in = str_in.replace('sophomore', '2')\n",
    "    str_in = str_in.replace('junior', '3')\n",
    "    str_in = str_in.replace('senior', '4')\n",
    "    str_in = str_in.replace('year', '')\n",
    "    str_in = str_in.replace('th', '')\n",
    "    str_in = str_in.replace('rd', '')\n",
    "    str_in = str_in.replace('nd', '')\n",
    "    str_in = str_in.strip()\n",
    "    if str_in.isnumeric() and len(str_in) == 1:\n",
    "        out = int(str_in)\n",
    "    # Otherwise, consider input was probably ill-formed, return nan\n",
    "    else: \n",
    "        out = np.nan\n",
    "    return out\n"
   ]
  },
  {
   "cell_type": "code",
   "execution_count": 30,
   "metadata": {
    "deletable": false,
    "editable": false,
    "nbgrader": {
     "cell_type": "code",
     "checksum": "9d19d5ecff8eb12e766fe63506a3b94b",
     "grade": true,
     "grade_id": "cell-ba092cbd3aa73da8",
     "locked": true,
     "points": 0.5,
     "schema_version": 3,
     "solution": false
    }
   },
   "outputs": [],
   "source": [
    "assert standardize_year('2nd') == 2\n",
    "assert standardize_year('sophomore') == 2\n",
    "assert standardize_year('3rd year') == 3\n",
    "assert standardize_year('5th') == 5\n",
    "assert standardize_year('7    ') == 7\n",
    "assert standardize_year('randomText') is np.nan"
   ]
  },
  {
   "cell_type": "markdown",
   "metadata": {},
   "source": [
    "### 1h) Transform 'year' column\n",
    "\n",
    "Use `standardize_year` to transform the data in column 'What year (in school) are you?'.\n",
    "\n",
    "Hint: use the `apply` function AND remember to save your output inside the dataframe"
   ]
  },
  {
   "cell_type": "code",
   "execution_count": 31,
   "metadata": {
    "deletable": false,
    "nbgrader": {
     "cell_type": "code",
     "checksum": "5a44c5b34b3ddb212210b9b45873e255",
     "grade": false,
     "grade_id": "cell-9e2b64ce81ef09c3",
     "locked": false,
     "schema_version": 3,
     "solution": true
    }
   },
   "outputs": [],
   "source": [
    "df['year'] = df['year'].apply(standardize_year)\n"
   ]
  },
  {
   "cell_type": "code",
   "execution_count": 32,
   "metadata": {
    "deletable": false,
    "editable": false,
    "nbgrader": {
     "cell_type": "code",
     "checksum": "422dd5c6b901f12de7c490abce0ffc47",
     "grade": true,
     "grade_id": "cell-e4c266be688ef4d8",
     "locked": true,
     "points": 0.1,
     "schema_version": 3,
     "solution": false
    }
   },
   "outputs": [],
   "source": [
    "assert len(df['year'].unique()) == 7"
   ]
  },
  {
   "cell_type": "markdown",
   "metadata": {
    "deletable": false,
    "editable": false,
    "nbgrader": {
     "cell_type": "markdown",
     "checksum": "baf6a7e3b4fa5877d9cc88d71768a853",
     "grade": false,
     "grade_id": "cell-5a3e9946608829bc",
     "locked": true,
     "schema_version": 3,
     "solution": false
    }
   },
   "source": [
    "Assuming that all is correct up to this point, the line below should show all values now found in `df['year']`. \n",
    "\n",
    "It should look a lot better. With this data, we can now make insightful analyses.\n",
    "\n",
    "You should see an array with elements 1,2,3,4,5,6 and nan (not necessarily in that order).\n",
    "\n",
    "Note that if you check the data type of this column, you'll see that pandas converts these numbers to `float`, even though the applied function returns `int`, because `np.nan` is considered a float. This is fine. "
   ]
  },
  {
   "cell_type": "code",
   "execution_count": 33,
   "metadata": {
    "deletable": false,
    "editable": false,
    "nbgrader": {
     "cell_type": "code",
     "checksum": "611352e9f978a01204275f161861f5eb",
     "grade": false,
     "grade_id": "cell-898e3b677a0502e1",
     "locked": true,
     "schema_version": 3,
     "solution": false
    }
   },
   "outputs": [
    {
     "data": {
      "text/plain": [
       "array([ 4.,  3.,  2.,  5.,  1.,  6., nan])"
      ]
     },
     "execution_count": 33,
     "metadata": {},
     "output_type": "execute_result"
    }
   ],
   "source": [
    "df['year'].unique()"
   ]
  },
  {
   "cell_type": "markdown",
   "metadata": {
    "deletable": false,
    "editable": false,
    "nbgrader": {
     "cell_type": "markdown",
     "checksum": "a8cab23272a975ecdff26c44de0fe880",
     "grade": false,
     "grade_id": "cell-4f6c1c2d7afe02e5",
     "locked": true,
     "schema_version": 3,
     "solution": false
    }
   },
   "source": [
    "Let's do it again. Let's take a look at the responses in the 'weight' column, and then standardize them."
   ]
  },
  {
   "cell_type": "code",
   "execution_count": 34,
   "metadata": {},
   "outputs": [],
   "source": [
    "# First, ensure that all types are consistent, use strings\n",
    "df['weight'] = df['weight'].astype(str)"
   ]
  },
  {
   "cell_type": "code",
   "execution_count": 35,
   "metadata": {
    "deletable": false,
    "editable": false,
    "nbgrader": {
     "cell_type": "code",
     "checksum": "476cb816a36058f111363b404873c4f1",
     "grade": false,
     "grade_id": "cell-1da977c3f5a68607",
     "locked": true,
     "schema_version": 3,
     "solution": false
    }
   },
   "outputs": [
    {
     "data": {
      "text/plain": [
       "array(['147', '150', '74kg', '133', '160', '106 lb', '155', '170 pounds',\n",
       "       '170', '135', '115', '110', '167 lbs', '60kg', '136', '140', '120',\n",
       "       '78kg', '128 lbs', '220', '145lb', '180', '95', '160lbs', '130',\n",
       "       '177g', '125 pounds', '125', '210', '69kg', '165', '160 lbs',\n",
       "       '123', '135lbs', '112 pounds', '190', '145lbs', '150 lbs', 'nan',\n",
       "       '173lbs', '73kg', '133 lb', '107 pounds', '200', '240', '47kg',\n",
       "       '175', '120 lbs', '164', '110 lbs', '128lbs', '155 lb', '185',\n",
       "       '167', '84 kg', '113', '235', '128lb', '119 lbs', '110 lb', '72kg',\n",
       "       '122', '140 lbs', '70 kg', '155 pounds ', '128', '125 lb', '108',\n",
       "       '15', '215', '48kg', '52kg', '145', '185lbs. ', '230lb', '125 lbs',\n",
       "       '140 lb', '168lb', '100', '130 pounds', '124', '84kg', '119',\n",
       "       \"I don't know dude but heavy probably\", '103', '140lbs', '170lbs',\n",
       "       '155 lbs', '50kg', '190 lbs', '52 kg', '168lbs', '189', '168',\n",
       "       '76KG', '77kg', '181', '146', '156', '140 pounds', '128 lb',\n",
       "       '46kg', '140 lb ', '120 lb', '146lb', '169lb', '250', '130lb',\n",
       "       '146 Pounds', '58 kg', '173lb', '70kg', '56 kg', '190lb', 'Secret',\n",
       "       '66 kg', '134', '125lb', '145 lbs', '102 lbs', '67kg', '51kg',\n",
       "       '105', '320', '142', '130 lbs.', '145 pounds', '119lb', '280',\n",
       "       '95kg', '175 lbs', '58lbs', '134 pounds', '129', '85kg', '152 lbs',\n",
       "       '138 pounds', '112', '141', '100lbs', '102 kbs', '98 lb', '91 kg',\n",
       "       '107 lb', '150lb', '145 lbs ', '205', '98lbs', '145 lb.',\n",
       "       '112 lbs', '106', '124pounds', '110 pounds', '82kg', \"6'1\",\n",
       "       '100 lbs', '45kg', '154', '122 pounds', '150 lb', '155lb', '179lb',\n",
       "       '130 lbs', '158', '116', '107 lbs', '105 lbs', '91 lbs', '168 lb',\n",
       "       '140lb', '76kg', '75', '145 lb', '85 kg', '114', '105 pounds',\n",
       "       '115 lbs', '85', '102', '85 lbs', '63kg', '160 pounds', '185 lbs'],\n",
       "      dtype=object)"
      ]
     },
     "execution_count": 35,
     "metadata": {},
     "output_type": "execute_result"
    }
   ],
   "source": [
    "# Check all the different answers we received\n",
    "df['weight'].unique()"
   ]
  },
  {
   "cell_type": "markdown",
   "metadata": {},
   "source": [
    "### 1i) Standardize 'weight' column \n",
    "\n",
    "Write a function named `standardize_weight` that takes in as input a string and returns an integer.\n",
    "\n",
    "The function will do the following (in the order specified):\n",
    "\n",
    "- 1) convert all characters of the string into lowercase\n",
    "- 2) strip the string of all leading and trailing whitespace\n",
    "- 3) replace any occurences of 'lbs' with '' (remove it from the string)\n",
    "- 4) replace any occurences of 'lb' with '' (remove it from the string)\n",
    "- 5) replace any occurences of 'pounds' with '' (remove it from the string)\n",
    "- 6) If the string contains the substring 'kg', then:\n",
    "    - 6.1) replace 'kg' with ''\n",
    "    - 6.2) strip the string of whitespace\n",
    "    - 6.3) cast the string into a float type using the function `float()`\n",
    "    - 6.4) multiply the resulting float by 2.2 (an approximate conversion of kilograms to pounds) \n",
    "- 8) `try` to return the `int` of your `string`. If it cannot, return `np.nan`. "
   ]
  },
  {
   "cell_type": "code",
   "execution_count": 36,
   "metadata": {
    "deletable": false,
    "nbgrader": {
     "cell_type": "code",
     "checksum": "be64a6b63d42331bc8680611cf14b25e",
     "grade": false,
     "grade_id": "cell-95fed6ce419a8d85",
     "locked": false,
     "schema_version": 3,
     "solution": true
    }
   },
   "outputs": [],
   "source": [
    "def standardize_weight(str_in):\n",
    "     # Make the input all lowercase\n",
    "    str_in = str_in.lower()\n",
    "    \n",
    "    # Drop all whitespace\n",
    "    str_in = str_in.strip()\n",
    "    \n",
    "    str_in = str_in.replace('lbs', '')\n",
    "    str_in = str_in.replace('lb', '')\n",
    "    str_in = str_in.replace('pound', '')\n",
    "    if 'kg' in str_in:\n",
    "        str_in = str_in.replace('kg', '')\n",
    "        str_in = str_in.strip()\n",
    "        str_in = float(str_in) *2.2\n",
    "        #str_in = str_in *2.2\n",
    "    try:\n",
    "        int(str_in)\n",
    "    except:\n",
    "        return np.nan\n",
    "    else:\n",
    "        return int(str_in)\n",
    "\n"
   ]
  },
  {
   "cell_type": "code",
   "execution_count": 37,
   "metadata": {
    "deletable": false,
    "editable": false,
    "nbgrader": {
     "cell_type": "code",
     "checksum": "ad700b33fd1f2ce0b5072a1b90fc3cb6",
     "grade": true,
     "grade_id": "cell-50d719bde09d79ca",
     "locked": true,
     "points": 0.5,
     "schema_version": 3,
     "solution": false
    }
   },
   "outputs": [],
   "source": [
    "assert standardize_weight('34 lbs') == 34\n",
    "assert standardize_weight('101 kg') == 222\n"
   ]
  },
  {
   "cell_type": "markdown",
   "metadata": {},
   "source": [
    "### 1j) Transform 'weight' column \n",
    "\n",
    "Use `standardize_weight` to transform the data in the 'weight' column.\n",
    "\n",
    "Hint: use the `apply` function AND remember to save your output inside the dataframe"
   ]
  },
  {
   "cell_type": "code",
   "execution_count": 38,
   "metadata": {
    "deletable": false,
    "nbgrader": {
     "cell_type": "code",
     "checksum": "a8f8a1abcd7a03ccc8d763a639393865",
     "grade": false,
     "grade_id": "cell-e359512e3c8a1667",
     "locked": false,
     "schema_version": 3,
     "solution": true
    }
   },
   "outputs": [
    {
     "data": {
      "text/plain": [
       "(83,)"
      ]
     },
     "execution_count": 38,
     "metadata": {},
     "output_type": "execute_result"
    }
   ],
   "source": [
    "df['weight'] = df['weight'].apply(standardize_weight)\n",
    "df['weight'].unique().shape"
   ]
  },
  {
   "cell_type": "code",
   "execution_count": 39,
   "metadata": {
    "deletable": false,
    "editable": false,
    "nbgrader": {
     "cell_type": "code",
     "checksum": "68ef3b2c2b05a059e7ec746b5e09f190",
     "grade": true,
     "grade_id": "cell-aec6ff6de9a88081",
     "locked": true,
     "points": 0.1,
     "schema_version": 3,
     "solution": false
    }
   },
   "outputs": [],
   "source": [
    "assert df['weight'].unique().shape == (83,)"
   ]
  },
  {
   "cell_type": "markdown",
   "metadata": {
    "deletable": false,
    "editable": false,
    "nbgrader": {
     "cell_type": "markdown",
     "checksum": "60669a74e66a65eb69a9355971eb514f",
     "grade": false,
     "grade_id": "cell-0b4cc15bc5d0d5fc",
     "locked": true,
     "schema_version": 3,
     "solution": false
    }
   },
   "source": [
    "Now, let's see the result of our hard work. The code below should output all numbers (or nan)."
   ]
  },
  {
   "cell_type": "code",
   "execution_count": 40,
   "metadata": {
    "deletable": false,
    "editable": false,
    "nbgrader": {
     "cell_type": "code",
     "checksum": "1a8a7e074c4b9dfc8d3b5e81af0401a9",
     "grade": false,
     "grade_id": "cell-7597a3a13c682b42",
     "locked": true,
     "schema_version": 3,
     "solution": false
    }
   },
   "outputs": [
    {
     "data": {
      "text/plain": [
       "array([147., 150., 162., 133., 160., 106., 155.,  nan, 170., 135., 115.,\n",
       "       110., 167., 132., 136., 140., 120., 171., 128., 220., 145., 180.,\n",
       "        95., 130., 125., 210., 151., 165., 123., 190., 173., 200., 240.,\n",
       "       103., 175., 164., 185., 184., 113., 235., 119., 158., 122., 154.,\n",
       "       108.,  15., 215., 105., 114., 230., 168., 100., 124., 189., 169.,\n",
       "       181., 146., 156., 101., 250., 127., 134., 102., 112., 320., 142.,\n",
       "       280., 209.,  58., 129., 187., 152., 141.,  98., 107., 205.,  99.,\n",
       "       179., 116.,  91.,  75.,  85., 138.])"
      ]
     },
     "execution_count": 40,
     "metadata": {},
     "output_type": "execute_result"
    }
   ],
   "source": [
    "df['weight'].unique()"
   ]
  },
  {
   "cell_type": "markdown",
   "metadata": {
    "deletable": false,
    "editable": false,
    "nbgrader": {
     "cell_type": "markdown",
     "checksum": "24d98c56fa550eac26a035dca841dae2",
     "grade": false,
     "grade_id": "cell-7b74df6be96a492c",
     "locked": true,
     "schema_version": 3,
     "solution": false
    }
   },
   "source": [
    "### 1k) Standardize 'favorite_icecream' column \n",
    "\n",
    "Write a function named `standardize_icecream` that takes in as input a string and returns a standardized string.\n",
    "\n",
    "This function should:\n",
    "- ensure all inputs are strings (Note: np.nan is considered a float)\n",
    "- convert all characters of the string into lowercase\n",
    "- strip the string of all leading and trailing whitespace\n",
    "- standardize the flavors such that:\n",
    "    - if either 'don't' or 'no favorite' is in the response, the flavor is recorded as 'none'\n",
    "    - if either 'cream' or 'creme' is in the response, the flavor is 'cookies & cream'\n",
    "    - if 'dough' is in the response, the flavor is recorded as 'chocolate chip cookie dough' (we'll consider cookie dough and chocolate chip chooke dough to be the same)\n",
    "    - if 'vanilla' is in the response, the flavor is recorded as 'vanilla'\n",
    "    - if 'mint' is in the response, the flavor is recorded as 'mint chocolate chip' (we'll consider mint and mint chocolate chip to be the same)\n",
    "    - if 'oreo' is in the response, the flavor is recorded as 'oreo'\n",
    "    - if 'pistac'  is in the response, the flavor is recorded as 'pistachio' (note the different spellings in original)\n",
    "    - if 'matcha' is in the response, the flavor is recorded as 'matcha'\n",
    "- return the standardized ice cream flavor"
   ]
  },
  {
   "cell_type": "code",
   "execution_count": 41,
   "metadata": {},
   "outputs": [
    {
     "data": {
      "text/plain": [
       "array(['Vanilla', 'Cookies and Cream', 'Matcha', \"Cookies n' Cream\",\n",
       "       'Chocolate', 'Mint chocolate chip', 'mint', 'Cookie dough',\n",
       "       'cookies and cream', 'vanilla', 'Sweet cream', 'Cookie & Cream',\n",
       "       'None', 'Mint Chocolate Chip', 'mint chocolate chip', 'phish food',\n",
       "       'chocolate chip', nan, 'rose', 'Chocolate Chip Cookie Dough',\n",
       "       'Moose Tracks', 'butterscotch', 'Pistacchio', 'Mocha',\n",
       "       'Butter Pecan', 'Strawberry', 'Pistachio', 'Chocolate ', 'coffee',\n",
       "       'Cookies & Cream', 'Mint Chocolate', 'Cookie Dough ', 'Lemon',\n",
       "       'Green tea', 'Strawberry ', 'Cookie Dough', 'Half Baked', 'Mango',\n",
       "       'Chubby hubby ben and jerrys', 'Coffee', 'Pecan praline',\n",
       "       'cookie dough', 'Green Tea', 'chocolate espresso cookie crumble',\n",
       "       'Oreo Cookies and Creme', 'tofu', 'Cookies n Cream', 'Phish Food',\n",
       "       'mint and chip', 'Oreos', 'pistachio',\n",
       "       \"Cookies and Cream (or Ben & Jerry's Half Baked)\", 'Mint chip',\n",
       "       'Cake Batter', 'Chocolate chip cookie dough', 'Mint- brownie',\n",
       "       'Earl Gray', 'Raspberry ', 'French Vanilla',\n",
       "       'Yogurt or any fruity flavor', 'Phish food', 'Cookies and cream',\n",
       "       'Yams', 'McVoytek', 'Cookies n Creme', \"I'm vegan\", 'Mint',\n",
       "       'vanila', 'Vanilla Bean', 'chocolate', 'Chocolate Carmel',\n",
       "       'Chocolate chip ', 'green ', 'Mint chocolate',\n",
       "       'Strawberry cheesecake', 'Birthday Cake', 'Green Tea Mango',\n",
       "       'Caramel Fudge', 'Vanilla ', 'Peanut butter', 'three musketeers',\n",
       "       'strawberry', 'Vanilla Honey Lavendar', 'Almond', 'Human',\n",
       "       'original', 'green tea', 'Rainbow', 'Cherry Garcia', 'GREEN TEAAA',\n",
       "       'Mint Chip', 'Fruit, Cookie and Cream', 'Straciatella ',\n",
       "       \"I don't like ice cream.\", 'Coconut', 'Nutty Coconut', 'Shorbet ',\n",
       "       'Butterscotch', 'Chocolate chip cookie dough ', 'Oreo', 'Banana',\n",
       "       'Cookies and Cream ', 'Sweet taro', 'Strawberry Cheesecake ',\n",
       "       'wasabi', 'Milk', 'Salted caramel', '💩', 'peanut butter',\n",
       "       'Brownie', 'Peppermint ', 'Cookies n’ Cream', 'coffee ',\n",
       "       'Dulce de lece',\n",
       "       'wintermelon milk green tea 70% sweet less ice with boba',\n",
       "       'Milk & Cereal ', 'Fruit/Lyche', 'Dark chocolate chip ',\n",
       "       'Chocolate Fudge Brownie', 'Rocky Road', 'Caramel Core',\n",
       "       'cookie dough ', \"i don't like ice cream \", 'Mint chip ', 'banana',\n",
       "       'Orange Sherbet', 'Cookie Dough <3', 'honey lavender',\n",
       "       'cookie&cream', 'Matcha/ Green Tea', 'mint chocolate',\n",
       "       'Chocolate/Coffee', 'Anything not too sweet ', 'Captain Crunch ',\n",
       "       'Chocolate Vanilla', \"I don't like ice cream \", 'Peanut Butter',\n",
       "       'Chocolate, green tea!', 'Cookie and Cream', 'Nutty Coconut!',\n",
       "       \"Don't like ice cream\", \"Cookie's n Cream\", 'Red bean', 'matcha',\n",
       "       'Black Sesame', 'Dulce de leche', 'Mint Choclate', 'chocolate ',\n",
       "       'Salted Caramel ', 'Cookie dough ', 'Rocky road',\n",
       "       'Machine Learning', 'oreo', 'Mint with chocolate chip flakes',\n",
       "       'No favorite flavor', 'Wintermelon', 'mint chip', 'Bubble gum',\n",
       "       'cherry vanilla', 'cookies n cream ', 'Sea salt caramel '],\n",
       "      dtype=object)"
      ]
     },
     "execution_count": 41,
     "metadata": {},
     "output_type": "execute_result"
    }
   ],
   "source": [
    "# Check all the different answers we received\n",
    "df['favorite_icecream'].unique()"
   ]
  },
  {
   "cell_type": "code",
   "execution_count": 42,
   "metadata": {
    "deletable": false,
    "nbgrader": {
     "cell_type": "code",
     "checksum": "997977f4807c71d157dd67e0895e28eb",
     "grade": false,
     "grade_id": "cell-cf0cf035336a8b4f",
     "locked": false,
     "schema_version": 3,
     "solution": true
    }
   },
   "outputs": [],
   "source": [
    "def standardize_icecream(str_in):\n",
    "     # Make the input all lowercase\n",
    "    #print(str_in)\n",
    "    #if(str_in ==np.nan):\n",
    "     #   return 'nan'\n",
    "    str_in = str(str_in)\n",
    "    str_in = str_in.lower()\n",
    "    \n",
    "    # Drop all whitespace\n",
    "    str_in = str_in.strip()\n",
    "    \n",
    "    if ('don\\'t' in str_in) or ('no favorite' in str_in):\n",
    "        str_in = 'none'\n",
    "    elif ('cream' in str_in) or ('creme' in str_in):\n",
    "        str_in = 'cookies & cream'\n",
    "    elif 'dough' in str_in:\n",
    "        str_in = 'chocolate chip cookie dough'\n",
    "    elif 'mint' in str_in:\n",
    "        str_in = 'mint chocolate chip'\n",
    "    elif 'vanilla' in str_in:\n",
    "        str_in = 'vanilla'\n",
    "    elif 'pistac' in str_in:\n",
    "        str_in = 'pistachio'\n",
    "    elif 'oreo' in str_in:\n",
    "        str_in = 'oreo'\n",
    "    elif 'matcha' in str_in:\n",
    "        str_in = 'matcha'\n",
    "    return str_in\n",
    "\n"
   ]
  },
  {
   "cell_type": "code",
   "execution_count": 43,
   "metadata": {
    "deletable": false,
    "editable": false,
    "nbgrader": {
     "cell_type": "code",
     "checksum": "f287ac4591336f43092a540ba3ab4964",
     "grade": true,
     "grade_id": "cell-f842c0e6ed6b0aa5",
     "locked": true,
     "points": 0.5,
     "schema_version": 3,
     "solution": false
    }
   },
   "outputs": [],
   "source": [
    "assert standardize_icecream('vanilla') == 'vanilla'\n",
    "assert standardize_icecream('Vanilla') == 'vanilla'\n",
    "assert standardize_icecream(np.nan) == 'nan'\n"
   ]
  },
  {
   "cell_type": "markdown",
   "metadata": {
    "deletable": false,
    "editable": false,
    "nbgrader": {
     "cell_type": "markdown",
     "checksum": "640f38b8efff78a746866dde049a98a8",
     "grade": false,
     "grade_id": "cell-db938078ed587efc",
     "locked": true,
     "schema_version": 3,
     "solution": false
    }
   },
   "source": [
    "### 1l) Transform 'favorite_icecream' column \n",
    "\n",
    "Use `standardize_icecream` to transform the data in the 'favorite_icecream' column.\n",
    "\n",
    "Hint: use the `apply` function AND remember to save your output inside the dataframe"
   ]
  },
  {
   "cell_type": "code",
   "execution_count": 44,
   "metadata": {
    "deletable": false,
    "nbgrader": {
     "cell_type": "code",
     "checksum": "bc6be31461f9b13adff2a0a8a139e948",
     "grade": false,
     "grade_id": "cell-9012f7c97586c6d6",
     "locked": false,
     "schema_version": 3,
     "solution": true
    }
   },
   "outputs": [
    {
     "data": {
      "text/plain": [
       "(82,)"
      ]
     },
     "execution_count": 44,
     "metadata": {},
     "output_type": "execute_result"
    }
   ],
   "source": [
    "df['favorite_icecream'] = df['favorite_icecream'].apply(standardize_icecream)\n",
    "df['favorite_icecream'].unique().shape"
   ]
  },
  {
   "cell_type": "code",
   "execution_count": 45,
   "metadata": {
    "deletable": false,
    "editable": false,
    "nbgrader": {
     "cell_type": "code",
     "checksum": "d16f991a43e46480f436f840406b76f8",
     "grade": false,
     "grade_id": "cell-86934d87c04abc1a",
     "locked": true,
     "schema_version": 3,
     "solution": false
    }
   },
   "outputs": [
    {
     "data": {
      "text/plain": [
       "array(['vanilla', 'cookies & cream', 'matcha', 'chocolate',\n",
       "       'mint chocolate chip', 'chocolate chip cookie dough', 'none',\n",
       "       'phish food', 'chocolate chip', 'nan', 'rose', 'moose tracks',\n",
       "       'butterscotch', 'pistachio', 'mocha', 'butter pecan', 'strawberry',\n",
       "       'coffee', 'lemon', 'green tea', 'half baked', 'mango',\n",
       "       'chubby hubby ben and jerrys', 'pecan praline',\n",
       "       'chocolate espresso cookie crumble', 'tofu', 'oreo', 'cake batter',\n",
       "       'earl gray', 'raspberry', 'yogurt or any fruity flavor', 'yams',\n",
       "       'mcvoytek', \"i'm vegan\", 'vanila', 'chocolate carmel', 'green',\n",
       "       'strawberry cheesecake', 'birthday cake', 'green tea mango',\n",
       "       'caramel fudge', 'peanut butter', 'three musketeers', 'almond',\n",
       "       'human', 'original', 'rainbow', 'cherry garcia', 'green teaaa',\n",
       "       'straciatella', 'coconut', 'nutty coconut', 'shorbet', 'banana',\n",
       "       'sweet taro', 'wasabi', 'milk', 'salted caramel', '💩', 'brownie',\n",
       "       'dulce de lece',\n",
       "       'wintermelon milk green tea 70% sweet less ice with boba',\n",
       "       'milk & cereal', 'fruit/lyche', 'dark chocolate chip',\n",
       "       'chocolate fudge brownie', 'rocky road', 'caramel core',\n",
       "       'orange sherbet', 'honey lavender', 'chocolate/coffee',\n",
       "       'anything not too sweet', 'captain crunch',\n",
       "       'chocolate, green tea!', 'nutty coconut!', 'red bean',\n",
       "       'black sesame', 'dulce de leche', 'machine learning',\n",
       "       'wintermelon', 'bubble gum', 'sea salt caramel'], dtype=object)"
      ]
     },
     "execution_count": 45,
     "metadata": {},
     "output_type": "execute_result"
    }
   ],
   "source": [
    "# check output now that we've standardized\n",
    "df['favorite_icecream'].unique()"
   ]
  },
  {
   "cell_type": "code",
   "execution_count": 46,
   "metadata": {
    "deletable": false,
    "editable": false,
    "nbgrader": {
     "cell_type": "code",
     "checksum": "b37572a95e893de9a2021e067d68fdcf",
     "grade": true,
     "grade_id": "cell-a82d556ef8592e2d",
     "locked": true,
     "points": 0.1,
     "schema_version": 3,
     "solution": false
    }
   },
   "outputs": [],
   "source": [
    "assert df['favorite_icecream'].unique().shape == (82,)"
   ]
  },
  {
   "cell_type": "markdown",
   "metadata": {
    "deletable": false,
    "editable": false,
    "nbgrader": {
     "cell_type": "markdown",
     "checksum": "42688d8836aa49e8b8eba0e62d041699",
     "grade": false,
     "grade_id": "cell-a4aeb2f0805cd10f",
     "locked": true,
     "schema_version": 3,
     "solution": false
    }
   },
   "source": [
    "So far, you've gotten a taste of what it is like to deal with messy data. It's not easy, as you can tell. \n",
    "\n",
    "The last variable we need to standardize for the purposes of our analysis is 'height'. We will standardize that one for you.\n",
    "\n",
    "Do read the code below and try to understand what it is doing."
   ]
  },
  {
   "cell_type": "code",
   "execution_count": 47,
   "metadata": {
    "deletable": false,
    "editable": false,
    "nbgrader": {
     "cell_type": "code",
     "checksum": "d8d55f6b5d207a960fced9d19f79431b",
     "grade": false,
     "grade_id": "cell-ea232e3affe16d6f",
     "locked": true,
     "schema_version": 3,
     "solution": false
    }
   },
   "outputs": [
    {
     "data": {
      "text/plain": [
       "array(['5\\'8\"', \"5'8\", '178cm', '5’8', '5\\'11\"', \"5'9\", '5 ft, 3 in',\n",
       "       \"5'10\", '180 cm', '5\\'3\"', '5\\'9\"', '5\\'2\"', '5ft 5inches',\n",
       "       '158cm', '5\\'7\"', '5 feet 8 inches', \"5'7''\", \"5' 8'' \", '184cm',\n",
       "       '5\\' 7\"', '6’2”', \"6'1''\", \"4'11\", '5\\'10\"', '173', '177cm',\n",
       "       '5\\'6\"', \"5'4\", '5’5', \"5'5\", \"6'2\", '171cm', \"5' 5''\", \"5'2\",\n",
       "       \"5'7\", '5\\' 8\"', \"5'3\", '5 feet 9 inches', '6’0', '5’3', \"5'11\",\n",
       "       '64 in', \"5' 7''\", '5ft 2in', '5’3”', '66', '173cm', '5’8”',\n",
       "       '5 feet 2 in', '5 7', '6’', '5.4', '6 feet', '5’0”', '1.6m',\n",
       "       '5 ft 2 in', '5\\'1\"', '5’5”', \"5' 8''\", '6\\'2\"', '6\\'4\"',\n",
       "       '5\\'8.5\"', '178 cm', '5\\'5\"', \"6'1\", '5”7’', '174cm', '71', \"5' 1\",\n",
       "       '6 ft', '5” 4’', '177 cm', '69 inches ', \"5'4''\", '5\\' 4\"',\n",
       "       '5 foot 11', \"5''2'\", '6 feet 0 inches', '67', '167cm', '6\\'1\"',\n",
       "       \"5'11''\", '168cm', '5\"8', '5\\' 10\"', '6ft', '163 cm',\n",
       "       '5 Feet 6 inches', '6.1', \"5' 3''\", '5 foot 7', '5 ft 3', '5 7\"',\n",
       "       '172 cm', '5-Jun', '5’ 6’’', '6’0”', \"5'0\", '6 foot', '6’ 1”',\n",
       "       '10-May', \"5'\", '5 ft 8 in', '5 foot 11 inches', '6', '5’6”',\n",
       "       '1.7 m', '178', '5\\' 6\"', '5 11', \"5'1\", '5’4', '5 ft. 9 in',\n",
       "       '170 cm ', '6 ft 1 in', '5’9', '5’ 10”', \"6'\", '190cm', \"5'8 feet\",\n",
       "       '6’q', '5 ft 7 in', '5 foot 10', '5 foot 8 inches', '5’9”',\n",
       "       '161cm', '5 ft', '5’ 5”', '5’8’’', '6\\'3\"', '5’10', '5’6',\n",
       "       \"5' 10''\", '5 Feet 11 Inches', '5 foot 6', \"6'3''\", '162 cm',\n",
       "       '65in', '5’8.5”', \"5' 1''\", '185 cm', '6 feet 1 in', '176cm',\n",
       "       'Secret', '5’11', '170 cm', '5 feet 4 in', \"5'3''\", '175cm',\n",
       "       '5ft 7in', '67in', '5’1', '179cm', '160cm', '5\\'0\"', \"5'6\",\n",
       "       '5 ft 10 in', '5\\' 9\"', '6 feet 0 inch', '5”6’', '4\\'11\"',\n",
       "       '65 inches', '172cm', '189', \"165 cm/5'4'' feet\", '6\\'0\"',\n",
       "       '5ft 6in', '5\\' 6.5\"', '6\\' 1.5\"', '5’7”', '5’2”', '5 ft 8in',\n",
       "       '5 feet and 9 1/2 inches', '5.8', '6’4”', '5\\'4\"', '5”4',\n",
       "       '5 ft 2 in.', '5’ 2”', '72 inches', '5 ft 3 inches',\n",
       "       '5 feet 6 inches', '6\\' 1\"', '5”6', \"6'0\", '186cm', '167', '5’10”',\n",
       "       '5 8', '6`1``', '1.6meter', '5 foot 3 inches', '5.9', '70',\n",
       "       '5 ft 7', '5’7’’', '5’ 2', '5 foot ', '4\\'20\"', '4’11', \"5'0''\",\n",
       "       '5foot 7inch', '5’7', '5\\' 11\"', '5 10', '4 ft 11 inches', '176',\n",
       "       '5', '5\\' 02\"', '5’1”', '4’ 11”', '5’ 3.75”', '5 ft 4 in',\n",
       "       '4’ 10”', '5 5', '68in', '6’1”'], dtype=object)"
      ]
     },
     "execution_count": 47,
     "metadata": {},
     "output_type": "execute_result"
    }
   ],
   "source": [
    "# First, we'll look at the possible values for height\n",
    "df['height'].unique()"
   ]
  },
  {
   "cell_type": "markdown",
   "metadata": {},
   "source": [
    "It seems like we'll have to handle different measurement systems. Ugh, ok...\n",
    "\n",
    "\n",
    "Let's write a function that converts all those values to inches."
   ]
  },
  {
   "cell_type": "code",
   "execution_count": 48,
   "metadata": {
    "deletable": false,
    "editable": false,
    "nbgrader": {
     "cell_type": "code",
     "checksum": "6dd74519073559a7a50cdc7b46d34bf4",
     "grade": false,
     "grade_id": "cell-c275572c89e5fca6",
     "locked": true,
     "schema_version": 3,
     "solution": false
    }
   },
   "outputs": [],
   "source": [
    "# convert all values to inches\n",
    "def standardize_height(string):\n",
    "    \n",
    "    orig = string\n",
    "    output = None\n",
    "    \n",
    "    # Basic string pre-processing\n",
    "    string = string.lower()\n",
    "    string = string.strip()\n",
    "    \n",
    "    string = string.replace('foot', 'ft')\n",
    "    string = string.replace('feet', 'ft')\n",
    "    string = string.replace('inches', 'in')\n",
    "    string = string.replace('inch', 'in')\n",
    "    string = string.replace('meters', 'm')\n",
    "    string = string.replace('meter', 'm')\n",
    "    string = string.replace('centimeters', 'cm')\n",
    "    string = string.replace('centimeter', 'cm')\n",
    "    string = string.replace(',', '')\n",
    "    string = string.strip()\n",
    "    \n",
    "    # CASE 1: string is written in the format FEET <DIVIDER> INCHES\n",
    "    dividers = [\"'\", \"ft\", \"’\", '”', '\"','`', \"-\", \"''\"]\n",
    "    \n",
    "    for divider in dividers:\n",
    "        \n",
    "        # Split it into its elements\n",
    "        elements = string.split(divider)\n",
    "\n",
    "        # If the divider creates two elements\n",
    "        if (len(elements) >= 2) and ((len(string) -1) != string.find(divider)):\n",
    "            feet = elements[0]\n",
    "            inch = elements[1] if elements[1] is not '' else '0'\n",
    "            \n",
    "            # Cleaning extranious symbols\n",
    "            for symbol in dividers:\n",
    "                feet = feet.replace(symbol, '')\n",
    "                inch = inch.replace(symbol, '')\n",
    "                inch = inch.replace('in','')\n",
    "            \n",
    "            # Removing whitespace\n",
    "            feet = feet.strip()\n",
    "            inch = inch.strip()\n",
    "            \n",
    "            # By this point, we expect 'feet' and 'inch' to be numeric\n",
    "            # If not...we ignore this case\n",
    "            if feet.replace('.', '').isnumeric() and inch.replace('.', '').isnumeric():\n",
    "                \n",
    "                # Converting feet to inches and adding it to the current inches\n",
    "                output = (float(feet) * 12) + float(inch)\n",
    "                break\n",
    "            \n",
    "    # CASE 2: string is written in the format FEET ft INCHES in \n",
    "    if ('ft' in string) and ('in' in string):\n",
    "        \n",
    "        # Split it into its elements\n",
    "        elements = string.split('ft')\n",
    "        feet = elements[0]\n",
    "        inch = elements[1]\n",
    "        \n",
    "        # Removing extraneous symbols and stripping whitespace\n",
    "        inch = inch.replace('inch', '')\n",
    "        inch = inch.replace('in', '')\n",
    "        feet = feet.strip()\n",
    "        inch = inch.strip()\n",
    "        \n",
    "        # By this point, we expect 'feet' and 'inch' to be numeric\n",
    "        # If not...we ignore this case\n",
    "        if feet.replace('.', '').isnumeric() and inch.replace('.', '').isnumeric():\n",
    "                \n",
    "            # Converting feet to inches and adding it to the current inches\n",
    "            output = (float(feet) * 12) + float(inch)\n",
    "        \n",
    "    # CASE 3: answer was given ONLY in cm\n",
    "    #  Convert to inches: approximately 0.39 inches in a meter\n",
    "    elif 'cm' in string:\n",
    "        centimeters = string.replace('cm', '')\n",
    "        centimeters = centimeters.strip()\n",
    "        \n",
    "        if centimeters.replace('.', '').isnumeric():\n",
    "            output = float(centimeters) * 0.39\n",
    "        \n",
    "    # CASE 4: answer was given ONLY in meters\n",
    "    #  Convert to inches: approximately 39 inches in a meter\n",
    "    elif 'm' in string:\n",
    "        \n",
    "        meters = string.replace('m', '')\n",
    "        meters = meters.strip()\n",
    "        \n",
    "        if meters.replace('.', '').isnumeric():\n",
    "            output = float(meters)*39\n",
    "        \n",
    "    # CASE 5: answer was given ONLY in feet\n",
    "    elif 'ft' in string:\n",
    "\n",
    "        feet = string.replace('ft', '')\n",
    "        feet = feet.strip()\n",
    "        \n",
    "        if feet.replace('.', '').isnumeric():\n",
    "            output = float(feet)*12\n",
    "    \n",
    "    # CASE 6: answer was given ONLY in inches\n",
    "    elif 'in' in string:\n",
    "        inches = string.replace('in', '')\n",
    "        inches = inches.strip()\n",
    "        \n",
    "        if inches.replace('.', '').isnumeric():\n",
    "            output = float(inches)\n",
    "        \n",
    "    # CASE 7: answer not covered by existing scenarios / was invalid. \n",
    "    #  Return NaN\n",
    "    if not output:\n",
    "        output = np.nan\n",
    "\n",
    "    return output"
   ]
  },
  {
   "cell_type": "code",
   "execution_count": 49,
   "metadata": {
    "deletable": false,
    "editable": false,
    "nbgrader": {
     "cell_type": "code",
     "checksum": "cb5ef8529107109dd0fe0017a65a76c8",
     "grade": false,
     "grade_id": "cell-fba0c212116f4fa0",
     "locked": true,
     "schema_version": 3,
     "solution": false
    }
   },
   "outputs": [],
   "source": [
    "# Applying the transformation and dropping invalid rows\n",
    "df['height'] = df['height'].apply(standardize_height)\n",
    "df = df.dropna(subset=['height'])"
   ]
  },
  {
   "cell_type": "code",
   "execution_count": 50,
   "metadata": {
    "deletable": false,
    "editable": false,
    "nbgrader": {
     "cell_type": "code",
     "checksum": "ecdf1a1a897f54038431dd12b7db537e",
     "grade": false,
     "grade_id": "cell-57f6d2bac3cd54b9",
     "locked": true,
     "schema_version": 3,
     "solution": false
    }
   },
   "outputs": [
    {
     "data": {
      "text/plain": [
       "array([68.  , 69.42, 71.  , 69.  , 63.  , 70.  , 70.2 , 62.  , 65.  ,\n",
       "       61.62, 67.  , 71.76, 74.  , 73.  , 59.  , 69.03, 66.  , 64.  ,\n",
       "       66.69, 72.  , 67.47, 60.  , 62.4 , 61.  , 76.  , 68.5 , 67.86,\n",
       "       65.13, 65.52, 63.57, 67.08, 66.3 , 74.1 , 62.79, 75.  , 63.18,\n",
       "       72.15, 68.64, 68.25, 69.81, 66.5 , 73.5 , 72.54, 63.75, 58.  ])"
      ]
     },
     "execution_count": 50,
     "metadata": {},
     "output_type": "execute_result"
    }
   ],
   "source": [
    "# Check the height data, after applying our standardization\n",
    "df['height'].unique()"
   ]
  },
  {
   "cell_type": "code",
   "execution_count": 51,
   "metadata": {
    "deletable": false,
    "editable": false,
    "nbgrader": {
     "cell_type": "code",
     "checksum": "d3f9dca1e3cd28cd4d587a523d92ed3c",
     "grade": false,
     "grade_id": "cell-f89d49db32f46fe6",
     "locked": true,
     "schema_version": 3,
     "solution": false
    }
   },
   "outputs": [
    {
     "data": {
      "text/html": [
       "<div>\n",
       "<style scoped>\n",
       "    .dataframe tbody tr th:only-of-type {\n",
       "        vertical-align: middle;\n",
       "    }\n",
       "\n",
       "    .dataframe tbody tr th {\n",
       "        vertical-align: top;\n",
       "    }\n",
       "\n",
       "    .dataframe thead th {\n",
       "        text-align: right;\n",
       "    }\n",
       "</style>\n",
       "<table border=\"1\" class=\"dataframe\">\n",
       "  <thead>\n",
       "    <tr style=\"text-align: right;\">\n",
       "      <th></th>\n",
       "      <th>timestamp</th>\n",
       "      <th>year</th>\n",
       "      <th>major</th>\n",
       "      <th>age</th>\n",
       "      <th>gender</th>\n",
       "      <th>height</th>\n",
       "      <th>weight</th>\n",
       "      <th>eye_color</th>\n",
       "      <th>born_in_CA</th>\n",
       "      <th>favorite_icecream</th>\n",
       "    </tr>\n",
       "  </thead>\n",
       "  <tbody>\n",
       "    <tr>\n",
       "      <th>0</th>\n",
       "      <td>1/9/18 14:49</td>\n",
       "      <td>4.0</td>\n",
       "      <td>COGSCI</td>\n",
       "      <td>21</td>\n",
       "      <td>male</td>\n",
       "      <td>68.00</td>\n",
       "      <td>147.0</td>\n",
       "      <td>Brown</td>\n",
       "      <td>Yes</td>\n",
       "      <td>vanilla</td>\n",
       "    </tr>\n",
       "    <tr>\n",
       "      <th>1</th>\n",
       "      <td>1/9/18 14:49</td>\n",
       "      <td>3.0</td>\n",
       "      <td>COGSCI</td>\n",
       "      <td>20</td>\n",
       "      <td>male</td>\n",
       "      <td>68.00</td>\n",
       "      <td>150.0</td>\n",
       "      <td>Brown</td>\n",
       "      <td>Yes</td>\n",
       "      <td>cookies &amp; cream</td>\n",
       "    </tr>\n",
       "    <tr>\n",
       "      <th>2</th>\n",
       "      <td>1/9/18 14:49</td>\n",
       "      <td>3.0</td>\n",
       "      <td>COMPSCI</td>\n",
       "      <td>21</td>\n",
       "      <td>male</td>\n",
       "      <td>69.42</td>\n",
       "      <td>162.0</td>\n",
       "      <td>Black</td>\n",
       "      <td>Yes</td>\n",
       "      <td>matcha</td>\n",
       "    </tr>\n",
       "    <tr>\n",
       "      <th>3</th>\n",
       "      <td>1/9/18 14:49</td>\n",
       "      <td>2.0</td>\n",
       "      <td>COGSCI</td>\n",
       "      <td>20</td>\n",
       "      <td>male</td>\n",
       "      <td>68.00</td>\n",
       "      <td>133.0</td>\n",
       "      <td>Brown</td>\n",
       "      <td>Yes</td>\n",
       "      <td>cookies &amp; cream</td>\n",
       "    </tr>\n",
       "    <tr>\n",
       "      <th>4</th>\n",
       "      <td>1/9/18 14:49</td>\n",
       "      <td>3.0</td>\n",
       "      <td>COMPSCI</td>\n",
       "      <td>20</td>\n",
       "      <td>male</td>\n",
       "      <td>68.00</td>\n",
       "      <td>160.0</td>\n",
       "      <td>Brown</td>\n",
       "      <td>Yes</td>\n",
       "      <td>cookies &amp; cream</td>\n",
       "    </tr>\n",
       "  </tbody>\n",
       "</table>\n",
       "</div>"
      ],
      "text/plain": [
       "      timestamp  year    major  age gender  height  weight eye_color  \\\n",
       "0  1/9/18 14:49   4.0   COGSCI   21   male   68.00   147.0     Brown   \n",
       "1  1/9/18 14:49   3.0   COGSCI   20   male   68.00   150.0     Brown   \n",
       "2  1/9/18 14:49   3.0  COMPSCI   21   male   69.42   162.0     Black   \n",
       "3  1/9/18 14:49   2.0   COGSCI   20   male   68.00   133.0     Brown   \n",
       "4  1/9/18 14:49   3.0  COMPSCI   20   male   68.00   160.0     Brown   \n",
       "\n",
       "  born_in_CA favorite_icecream  \n",
       "0        Yes           vanilla  \n",
       "1        Yes   cookies & cream  \n",
       "2        Yes            matcha  \n",
       "3        Yes   cookies & cream  \n",
       "4        Yes   cookies & cream  "
      ]
     },
     "execution_count": 51,
     "metadata": {},
     "output_type": "execute_result"
    }
   ],
   "source": [
    "# Ensuring that the data types are correct - type cast age to int.\n",
    "df['age'] = df['age'].astype(np.int64)\n",
    "\n",
    "# Check out the data, after we've cleaned it!\n",
    "df.head()"
   ]
  },
  {
   "cell_type": "code",
   "execution_count": 52,
   "metadata": {},
   "outputs": [
    {
     "data": {
      "text/plain": [
       "364"
      ]
     },
     "execution_count": 52,
     "metadata": {},
     "output_type": "execute_result"
    }
   ],
   "source": [
    "len(df)"
   ]
  },
  {
   "cell_type": "code",
   "execution_count": 53,
   "metadata": {
    "deletable": false,
    "editable": false,
    "nbgrader": {
     "cell_type": "code",
     "checksum": "508ccac4d46fb8dc996b02a729305660",
     "grade": false,
     "grade_id": "cell-1c6f53e910ea33ba",
     "locked": true,
     "schema_version": 3,
     "solution": false
    }
   },
   "outputs": [],
   "source": [
    "# Check that the dataframe has the right number of columns\n",
    "#  If this doesn't pass - check your code in the section above.\n",
    "assert len(df) == 364"
   ]
  },
  {
   "cell_type": "markdown",
   "metadata": {
    "deletable": false,
    "editable": false,
    "nbgrader": {
     "cell_type": "markdown",
     "checksum": "6faaeaf74beca2a73156ca6453bda663",
     "grade": false,
     "grade_id": "part2",
     "locked": true,
     "schema_version": 3,
     "solution": false
    }
   },
   "source": [
    "## Part 2: Exploratory Data Vizualization (0.8 points)\n",
    "\n",
    "First, we need to do some exploratory data visualization, to get a feel for the data. \n",
    "\n",
    "For plotting questions, do not change or move the `plt.gcf()` lines. "
   ]
  },
  {
   "cell_type": "markdown",
   "metadata": {
    "deletable": false,
    "editable": false,
    "nbgrader": {
     "cell_type": "markdown",
     "checksum": "ee3eb3560635e2264451ed76d0b9e398",
     "grade": false,
     "grade_id": "cell-e68ae0bb38fa441b",
     "locked": true,
     "schema_version": 3,
     "solution": false
    }
   },
   "source": [
    "### 2a) Plot the data\n",
    "\n",
    "Using `scatter_matrix`, from `pandas`, plot `df`. Assign it to a variable called `fig`.\n"
   ]
  },
  {
   "cell_type": "code",
   "execution_count": 54,
   "metadata": {
    "deletable": false,
    "nbgrader": {
     "cell_type": "code",
     "checksum": "363af9872d1a451dada6957458bd046f",
     "grade": false,
     "grade_id": "2a",
     "locked": false,
     "schema_version": 3,
     "solution": true
    }
   },
   "outputs": [
    {
     "data": {
      "image/png": "[encoded data removed]",
      "text/plain": [
       "<Figure size 432x288 with 16 Axes>"
      ]
     },
     "metadata": {
      "needs_background": "light"
     },
     "output_type": "display_data"
    }
   ],
   "source": [
    "fig = pd.plotting.scatter_matrix(df)"
   ]
  },
  {
   "cell_type": "code",
   "execution_count": 55,
   "metadata": {
    "deletable": false,
    "editable": false,
    "nbgrader": {
     "cell_type": "code",
     "checksum": "fe4f33100de8bbac675e1361c2db896c",
     "grade": true,
     "grade_id": "2a_ans",
     "locked": true,
     "points": 0.2,
     "schema_version": 3,
     "solution": false
    }
   },
   "outputs": [],
   "source": [
    "assert np.all(fig)"
   ]
  },
  {
   "cell_type": "markdown",
   "metadata": {},
   "source": [
    "### 2b) Plot a bar chart showing the number of students in each major. \n",
    "\n",
    "Hint: \n",
    "- if using `seaborn`, you're looking to make a countplot\n",
    "- if using pandas, you can use `value_counts` to get the counts for each major. You can then use the `plot` method from `pandas` for plotting (You don't need `matplotlib`). \n"
   ]
  },
  {
   "cell_type": "code",
   "execution_count": 56,
   "metadata": {
    "deletable": false,
    "nbgrader": {
     "cell_type": "code",
     "checksum": "64b64f84bc002b7aaac46d4ea96c33f0",
     "grade": false,
     "grade_id": "2b",
     "locked": false,
     "schema_version": 3,
     "solution": true
    }
   },
   "outputs": [
    {
     "data": {
      "image/png": "[encoded data removed]",
      "text/plain": [
       "<Figure size 432x288 with 1 Axes>"
      ]
     },
     "metadata": {
      "needs_background": "light"
     },
     "output_type": "display_data"
    }
   ],
   "source": [
    "sns.countplot(data=df, y=\"major\")\n",
    "\n",
    "f1 = plt.gcf()\n",
    "#df"
   ]
  },
  {
   "cell_type": "code",
   "execution_count": 57,
   "metadata": {
    "deletable": false,
    "editable": false,
    "nbgrader": {
     "cell_type": "code",
     "checksum": "8c75c1398e21162ab71e40415f6d845c",
     "grade": true,
     "grade_id": "2b_ans",
     "locked": true,
     "points": 0.2,
     "schema_version": 3,
     "solution": false
    }
   },
   "outputs": [],
   "source": [
    "assert f1.gca().has_data()"
   ]
  },
  {
   "cell_type": "markdown",
   "metadata": {},
   "source": [
    "### 2c) Plot a histogram of the height data for all students who wrote 'COGSCI' as their major.\n"
   ]
  },
  {
   "cell_type": "code",
   "execution_count": 58,
   "metadata": {
    "deletable": false,
    "nbgrader": {
     "cell_type": "code",
     "checksum": "9b41d324cf9b66aef8dcd0693b8c09f9",
     "grade": false,
     "grade_id": "2c",
     "locked": false,
     "schema_version": 3,
     "solution": true
    }
   },
   "outputs": [
    {
     "ename": "NotImplementedError",
     "evalue": "",
     "output_type": "error",
     "traceback": [
      "\u001b[0;31m---------------------------------------------------------------------------\u001b[0m",
      "\u001b[0;31mNotImplementedError\u001b[0m                       Traceback (most recent call last)",
      "\u001b[0;32m<ipython-input-58-6d754a0d71ec>\u001b[0m in \u001b[0;36m<module>\u001b[0;34m\u001b[0m\n\u001b[1;32m      1\u001b[0m \u001b[0;31m# YOUR CODE HERE\u001b[0m\u001b[0;34m\u001b[0m\u001b[0;34m\u001b[0m\u001b[0;34m\u001b[0m\u001b[0m\n\u001b[0;32m----> 2\u001b[0;31m \u001b[0;32mraise\u001b[0m \u001b[0mNotImplementedError\u001b[0m\u001b[0;34m(\u001b[0m\u001b[0;34m)\u001b[0m\u001b[0;34m\u001b[0m\u001b[0;34m\u001b[0m\u001b[0m\n\u001b[0m\u001b[1;32m      3\u001b[0m \u001b[0;34m\u001b[0m\u001b[0m\n\u001b[1;32m      4\u001b[0m \u001b[0mf2\u001b[0m \u001b[0;34m=\u001b[0m \u001b[0mplt\u001b[0m\u001b[0;34m.\u001b[0m\u001b[0mgcf\u001b[0m\u001b[0;34m(\u001b[0m\u001b[0;34m)\u001b[0m\u001b[0;34m\u001b[0m\u001b[0;34m\u001b[0m\u001b[0m\n",
      "\u001b[0;31mNotImplementedError\u001b[0m: "
     ]
    }
   ],
   "source": [
    "# YOUR CODE HERE\n",
    "raise NotImplementedError()\n",
    "\n",
    "f2 = plt.gcf()"
   ]
  },
  {
   "cell_type": "code",
   "execution_count": null,
   "metadata": {
    "deletable": false,
    "editable": false,
    "nbgrader": {
     "cell_type": "code",
     "checksum": "0ff64e2b3d7875650ded7de7dcc204a4",
     "grade": true,
     "grade_id": "2c_ans",
     "locked": true,
     "points": 0.2,
     "schema_version": 3,
     "solution": false
    }
   },
   "outputs": [],
   "source": [
    "assert f2.gca().has_data()"
   ]
  },
  {
   "cell_type": "markdown",
   "metadata": {},
   "source": [
    "### 2d) Plot a histogram of the height data for all students who wrote 'COMPSCI' as their major.\n"
   ]
  },
  {
   "cell_type": "code",
   "execution_count": null,
   "metadata": {
    "deletable": false,
    "nbgrader": {
     "cell_type": "code",
     "checksum": "062233509df758cad71b7939aa00549b",
     "grade": false,
     "grade_id": "2d",
     "locked": false,
     "schema_version": 3,
     "solution": true
    }
   },
   "outputs": [],
   "source": [
    "df2 = df[df['major'] == 'COMPSCI']\n",
    "df2.hist('height')\n",
    "\n",
    "f3 = plt.gcf()"
   ]
  },
  {
   "cell_type": "code",
   "execution_count": null,
   "metadata": {
    "deletable": false,
    "editable": false,
    "nbgrader": {
     "cell_type": "code",
     "checksum": "017fb08c0c2fdaf0365a428f719e83fc",
     "grade": true,
     "grade_id": "2d_ans",
     "locked": true,
     "points": 0.2,
     "schema_version": 3,
     "solution": false
    }
   },
   "outputs": [],
   "source": [
    "assert f3.gca().has_data()"
   ]
  },
  {
   "cell_type": "markdown",
   "metadata": {
    "deletable": false,
    "editable": false,
    "nbgrader": {
     "cell_type": "markdown",
     "checksum": "1c7098a57e4e81da6ce2dc2625526b8e",
     "grade": false,
     "grade_id": "part3",
     "locked": true,
     "schema_version": 3,
     "solution": false
    }
   },
   "source": [
    "## Part 3: Exploring The Data (0.8 points)\n",
    "\n",
    "Beyond just plotting the data, we should check some other basic properties of the data. This serves both as a way to get a 'feel' for the data, and to look for any quirks or oddities about the data, that may indicate issues that need resolving. To do this, let's explore that data a bit (not limiting ourselves to only features that we plan to use - exploring the dataset as a whole can help us find any issues). \n",
    "\n",
    "Notes:\n",
    "- Your answers should NOT be pandas objects (Series or DataFrames), extract answers so the variables are ints, floats or strings (as appropriate).\n",
    "- You must answer these questions programmatically: do not count / check and hard code particular values."
   ]
  },
  {
   "cell_type": "markdown",
   "metadata": {},
   "source": [
    "### 3a) How many different majors are in the dataset?\n",
    "\n",
    "Save this number to a variable `n_majors`."
   ]
  },
  {
   "cell_type": "code",
   "execution_count": null,
   "metadata": {
    "deletable": false,
    "nbgrader": {
     "cell_type": "code",
     "checksum": "ff806b57798b129e9c952cd63e8ae471",
     "grade": false,
     "grade_id": "3a",
     "locked": false,
     "schema_version": 3,
     "solution": true
    }
   },
   "outputs": [],
   "source": [
    "n_majors = df['major'].unique().size"
   ]
  },
  {
   "cell_type": "code",
   "execution_count": null,
   "metadata": {
    "deletable": false,
    "editable": false,
    "nbgrader": {
     "cell_type": "code",
     "checksum": "b5afdadf047a7846a3fd2db865dbbce3",
     "grade": true,
     "grade_id": "3a_ans",
     "locked": true,
     "points": 0.2,
     "schema_version": 3,
     "solution": false
    }
   },
   "outputs": [],
   "source": [
    "assert n_majors\n"
   ]
  },
  {
   "cell_type": "markdown",
   "metadata": {},
   "source": [
    "### 3b) What is the range (max value - min value) of ages in the dataset?\n",
    "\n",
    "Save this number to a variable `r_age`."
   ]
  },
  {
   "cell_type": "code",
   "execution_count": null,
   "metadata": {
    "deletable": false,
    "nbgrader": {
     "cell_type": "code",
     "checksum": "99a946da649a637388abf10392d6d0a3",
     "grade": false,
     "grade_id": "3b",
     "locked": false,
     "schema_version": 3,
     "solution": true
    }
   },
   "outputs": [],
   "source": [
    "r_age = df['age'].max() - df['age'].min()"
   ]
  },
  {
   "cell_type": "code",
   "execution_count": null,
   "metadata": {
    "deletable": false,
    "editable": false,
    "nbgrader": {
     "cell_type": "code",
     "checksum": "d5330a85882d770fe4eb129380a8385a",
     "grade": true,
     "grade_id": "3b_ans",
     "locked": true,
     "points": 0.2,
     "schema_version": 3,
     "solution": false
    }
   },
   "outputs": [],
   "source": [
    "assert r_age\n"
   ]
  },
  {
   "cell_type": "markdown",
   "metadata": {},
   "source": [
    "### 3c) What is the most popular ice cream flavor?\n",
    "\n",
    "Save the ice cream name to the variable `f_ice`, and the number of people who like it to a variable `n_ice`.\n",
    "\n",
    "Hint: you can get these values using the `value_counts` method.\n"
   ]
  },
  {
   "cell_type": "code",
   "execution_count": null,
   "metadata": {
    "deletable": false,
    "nbgrader": {
     "cell_type": "code",
     "checksum": "5ce9f40fb8a1366426dfb1257f6ecdc6",
     "grade": false,
     "grade_id": "3c",
     "locked": false,
     "schema_version": 3,
     "solution": true
    }
   },
   "outputs": [],
   "source": [
    "f_ice = df['favorite_icecream'].value_counts().idxmax()\n",
    "n_ice = df['favorite_icecream'].value_counts().max()"
   ]
  },
  {
   "cell_type": "code",
   "execution_count": null,
   "metadata": {
    "deletable": false,
    "editable": false,
    "nbgrader": {
     "cell_type": "code",
     "checksum": "1392c41f3f4b5de855245591a6f5c677",
     "grade": true,
     "grade_id": "3c_ans",
     "locked": true,
     "points": 0.2,
     "schema_version": 3,
     "solution": false
    }
   },
   "outputs": [],
   "source": [
    "assert n_ice\n",
    "assert f_ice\n"
   ]
  },
  {
   "cell_type": "markdown",
   "metadata": {},
   "source": [
    "### 3d) How many people have a unique favorite ice cream? (In other words: how many ice cream flavors are only 1 person's favorite?)\n",
    "\n",
    "Save this number to a variable `u_ice`.\n"
   ]
  },
  {
   "cell_type": "code",
   "execution_count": null,
   "metadata": {
    "deletable": false,
    "nbgrader": {
     "cell_type": "code",
     "checksum": "f579f1ea1b6803fc39bc16e61b6c2455",
     "grade": false,
     "grade_id": "3d",
     "locked": false,
     "schema_version": 3,
     "solution": true
    }
   },
   "outputs": [],
   "source": [
    "item = df['favorite_icecream'].value_counts() == 1\n",
    "u_ice = np.sum(item)"
   ]
  },
  {
   "cell_type": "code",
   "execution_count": null,
   "metadata": {
    "deletable": false,
    "editable": false,
    "nbgrader": {
     "cell_type": "code",
     "checksum": "c8de55c9744c70c44709b01cd697f86a",
     "grade": true,
     "grade_id": "3d_ans",
     "locked": true,
     "points": 0.2,
     "schema_version": 3,
     "solution": false
    }
   },
   "outputs": [],
   "source": [
    "assert u_ice\n"
   ]
  },
  {
   "cell_type": "markdown",
   "metadata": {
    "deletable": false,
    "editable": false,
    "nbgrader": {
     "cell_type": "markdown",
     "checksum": "810da96809bb23d3a57dfb3ef57925f6",
     "grade": false,
     "grade_id": "cell-2d665b435307d5d8",
     "locked": true,
     "schema_version": 3,
     "solution": false
    }
   },
   "source": [
    "## Part 4: Testing Distributions (0.45 points)\n",
    "\n",
    "Soon, in the data analysis, we will want to run some statistical tests on our data. First, we should check the distributions!\n",
    "\n",
    "When using methods / statistical tests that make certain assumptions, it's always best to explicitly check if your data meet those assumptions (otherwise the results may be invalid). Let's test if our data are in fact normally distributed. \n",
    "\n",
    "See an example of how to test the distributions of data in the 'TestingDistributions' notebook in Tutorials."
   ]
  },
  {
   "cell_type": "markdown",
   "metadata": {},
   "source": [
    "For convenience, and consistency, we're providing this code to pull out the required data. Be sure to run the following cell and understand what it's doing.:\n"
   ]
  },
  {
   "cell_type": "code",
   "execution_count": null,
   "metadata": {
    "deletable": false,
    "editable": false,
    "nbgrader": {
     "cell_type": "code",
     "checksum": "784a48f84f00b0513029927b3f23e9f0",
     "grade": false,
     "grade_id": "cell-392680c490101a20",
     "locked": true,
     "schema_version": 3,
     "solution": false
    }
   },
   "outputs": [],
   "source": [
    "h_co = df[df['major'] == 'COGSCI']['height'].values\n",
    "h_cs = df[df['major'] == 'COMPSCI']['height'].values"
   ]
  },
  {
   "cell_type": "markdown",
   "metadata": {},
   "source": [
    "### 4a) Testing Normality\n",
    "\n",
    "For each of `h_co`, and `h_cs`, use the `normaltest` function to test for normality of the distribution.\n",
    "\n",
    "`normaltest` returns two values: (1) a test statistic and (2) a p-value\n",
    "\n",
    "Save these values as `st_co`, `p_co`, `st_cs`, and `p_cs`, respectively.\n"
   ]
  },
  {
   "cell_type": "code",
   "execution_count": null,
   "metadata": {
    "deletable": false,
    "nbgrader": {
     "cell_type": "code",
     "checksum": "2abec323017d565b6e9bf55cd7f39633",
     "grade": false,
     "grade_id": "cell-da8e2581c20cc94b",
     "locked": false,
     "schema_version": 3,
     "solution": true
    }
   },
   "outputs": [],
   "source": [
    "st_co, p_co = normaltest(h_co)\n",
    "st_cs, p_cs = normaltest(h_cs)"
   ]
  },
  {
   "cell_type": "code",
   "execution_count": null,
   "metadata": {
    "deletable": false,
    "editable": false,
    "nbgrader": {
     "cell_type": "code",
     "checksum": "a365b2630cb1fd368b4a75c431aa5be9",
     "grade": true,
     "grade_id": "cell-4dd51f5136f5b627",
     "locked": true,
     "points": 0.25,
     "schema_version": 3,
     "solution": false
    }
   },
   "outputs": [],
   "source": [
    "assert st_co\n",
    "assert p_co\n",
    "assert st_cs\n",
    "assert p_cs\n"
   ]
  },
  {
   "cell_type": "markdown",
   "metadata": {
    "deletable": false,
    "editable": false,
    "nbgrader": {
     "cell_type": "markdown",
     "checksum": "ecc03d811c27c5e3903eca326969a6cd",
     "grade": false,
     "grade_id": "cell-0fd213731126131a",
     "locked": true,
     "schema_version": 3,
     "solution": false
    }
   },
   "source": [
    "Have a look at the values returned. \n",
    "\n",
    "Based on these results, and using an alpha significance value of 0.01:\n",
    "\n",
    "Set boolean values (`True`, `False`) of whether each distribution can be considered to be normally distributed. Set as `True` if the test supports it is normally distributed (or, more formally, we fail to reject the null hypothesis) and `False` if the test suggests the data is not normally distributed (we should reject the null hypothesis)."
   ]
  },
  {
   "cell_type": "markdown",
   "metadata": {},
   "source": [
    "### 4b) Set boolean values, as specified above.\n",
    "\n",
    "For the `h_co` data, set a boolean value to the var `is_n_co`\n",
    "\n",
    "For the `h_cs` data, set a boolean value to the var `is_n_cs`\n"
   ]
  },
  {
   "cell_type": "code",
   "execution_count": null,
   "metadata": {
    "deletable": false,
    "nbgrader": {
     "cell_type": "code",
     "checksum": "05fb23b1e6cec3e0bebb44c96fc35340",
     "grade": false,
     "grade_id": "cell-158f8c1d15bd1824",
     "locked": false,
     "schema_version": 3,
     "solution": true
    }
   },
   "outputs": [],
   "source": [
    "alpha = .01\n",
    "if(p_co < alpha):\n",
    "    is_n_co = False\n",
    "else:\n",
    "    is_n_co = True\n",
    "    \n",
    "if(p_cs < alpha):\n",
    "    is_n_cs = False\n",
    "else:\n",
    "    is_n_cs = True"
   ]
  },
  {
   "cell_type": "code",
   "execution_count": null,
   "metadata": {
    "deletable": false,
    "editable": false,
    "nbgrader": {
     "cell_type": "code",
     "checksum": "11fc4b9eeb17f4c8e325c3576f5e45b1",
     "grade": true,
     "grade_id": "cell-8a1204d6fb264c05",
     "locked": true,
     "points": 0.2,
     "schema_version": 3,
     "solution": false
    }
   },
   "outputs": [],
   "source": [
    "assert isinstance(is_n_co, bool)\n",
    "assert isinstance(is_n_cs, bool)\n"
   ]
  },
  {
   "cell_type": "markdown",
   "metadata": {},
   "source": [
    "**CO data**: plot the comparison of the data and a normal distribution (this code provided)\n",
    "\n",
    "This plots a histogram, with the hypothetical normal distribution (with same mean and variance)\n"
   ]
  },
  {
   "cell_type": "code",
   "execution_count": null,
   "metadata": {
    "deletable": false,
    "editable": false,
    "nbgrader": {
     "cell_type": "code",
     "checksum": "bf60a4260c75fc529ae2e9298febad96",
     "grade": false,
     "grade_id": "cell-ce24c1eaa5caff05",
     "locked": true,
     "schema_version": 3,
     "solution": false
    }
   },
   "outputs": [],
   "source": [
    "xs = np.arange(h_co.min(), h_co.max(), 0.1)\n",
    "fit = stats.norm.pdf(xs, np.mean(h_co), np.std(h_co))\n",
    "# most easily done using matplotlib\n",
    "plt.plot(xs, fit, label = 'Normal Dist.', lw = 4)\n",
    "plt.hist(h_co, density = True, label = 'Actual Data');\n",
    "plt.title('Cognitive Science - Height Data')\n",
    "plt.legend();"
   ]
  },
  {
   "cell_type": "markdown",
   "metadata": {},
   "source": [
    "**CS data**: plot the comparison of the data and a normal distribution (this code provided)\n",
    "\n",
    "This plots a histogram, with the hypothetical normal distribution (with same mean and variance)\n"
   ]
  },
  {
   "cell_type": "code",
   "execution_count": null,
   "metadata": {
    "deletable": false,
    "editable": false,
    "nbgrader": {
     "cell_type": "code",
     "checksum": "992589215e13cf0c8ee6561ba2ae6542",
     "grade": false,
     "grade_id": "cell-43e7e03795d82943",
     "locked": true,
     "schema_version": 3,
     "solution": false
    }
   },
   "outputs": [],
   "source": [
    "xs = np.arange(h_cs.min(), h_cs.max(), 0.1)\n",
    "fit = stats.norm.pdf(xs, np.mean(h_cs), np.std(h_cs))\n",
    "plt.plot(xs, fit, label = 'Normal Dist.', lw = 4)\n",
    "plt.hist(h_cs, density = True, label = 'Actual Data');\n",
    "plt.title('Computer Science - Height Data')\n",
    "plt.legend();"
   ]
  },
  {
   "cell_type": "markdown",
   "metadata": {
    "deletable": false,
    "editable": false,
    "nbgrader": {
     "cell_type": "markdown",
     "checksum": "cd3b7cf598abd3924be2c875815f4044",
     "grade": false,
     "grade_id": "part5",
     "locked": true,
     "schema_version": 3,
     "solution": false
    }
   },
   "source": [
    "## Part 5: Data Analysis (2.4 points)\n",
    "\n",
    "Now let's analyze the data, to address our research question.\n",
    "\n",
    "For the purposes of this analysis, let's assume we need at least 75 students per major to analyze the height data. \n",
    "\n",
    "This means we are only going to use data from people who wrote 'COGSCI' or 'COMPSCI' as their major. \n"
   ]
  },
  {
   "cell_type": "markdown",
   "metadata": {},
   "source": [
    "### 5a) Pull out the data we are going to use:\n",
    "\n",
    "Save the height data for all 'COGSCI' majors to a variable called `h_co`\n",
    "\n",
    "Save the height data for all 'COMPSCI' majors to a variable called `h_cs`"
   ]
  },
  {
   "cell_type": "code",
   "execution_count": null,
   "metadata": {
    "deletable": false,
    "nbgrader": {
     "cell_type": "code",
     "checksum": "cfa6e2efde00ad5bbb79ad72a3c4710e",
     "grade": false,
     "grade_id": "5a",
     "locked": false,
     "schema_version": 3,
     "solution": true
    }
   },
   "outputs": [],
   "source": [
    "h_co = df[df['major'] == 'COGSCI']['height']\n",
    "h_cs = df[df['major'] == 'COMPSCI']['height']"
   ]
  },
  {
   "cell_type": "code",
   "execution_count": null,
   "metadata": {
    "deletable": false,
    "editable": false,
    "nbgrader": {
     "cell_type": "code",
     "checksum": "b01e6938b83bc4c4da39da3325a04b69",
     "grade": true,
     "grade_id": "5a_ans",
     "locked": true,
     "points": 0.25,
     "schema_version": 3,
     "solution": false
    }
   },
   "outputs": [],
   "source": [
    "assert np.all(h_co)\n",
    "assert np.all(h_cs)\n",
    "\n",
    "assert len(h_co) == 177\n",
    "assert len(h_cs) == 164"
   ]
  },
  {
   "cell_type": "markdown",
   "metadata": {},
   "source": [
    "### 5b) What is the average (mean) height for students from each major?\n",
    "\n",
    "Save these values to `avg_h_co` for COGSCI students, and `avg_h_cs` for COMPSCI students. \n"
   ]
  },
  {
   "cell_type": "code",
   "execution_count": null,
   "metadata": {
    "deletable": false,
    "nbgrader": {
     "cell_type": "code",
     "checksum": "ed7c901b0d9e0e0e2f2045da93928f0b",
     "grade": false,
     "grade_id": "5b",
     "locked": false,
     "schema_version": 3,
     "solution": true
    }
   },
   "outputs": [],
   "source": [
    "avg_h_co = h_co.mean()\n",
    "avg_h_cs = h_cs.mean()"
   ]
  },
  {
   "cell_type": "code",
   "execution_count": null,
   "metadata": {
    "deletable": false,
    "editable": false,
    "nbgrader": {
     "cell_type": "code",
     "checksum": "d03b274ed30fb7df6d89c340e0ac70b7",
     "grade": true,
     "grade_id": "5b_ans",
     "locked": true,
     "points": 0.2,
     "schema_version": 3,
     "solution": false
    }
   },
   "outputs": [],
   "source": [
    "assert avg_h_co\n",
    "assert avg_h_cs\n"
   ]
  },
  {
   "cell_type": "code",
   "execution_count": null,
   "metadata": {
    "deletable": false,
    "editable": false,
    "nbgrader": {
     "cell_type": "code",
     "checksum": "02901d3f841cd12a9a19ab7878dfa788",
     "grade": false,
     "grade_id": "print_avgs",
     "locked": true,
     "schema_version": 3,
     "solution": false
    }
   },
   "outputs": [],
   "source": [
    "# Print out the average heights - this code provided\n",
    "print('Average height of cogs majors is \\t {:2.2f} inches'.format(avg_h_co))\n",
    "print('Average height of cs majors is \\t\\t {:2.2f} inches'.format(avg_h_cs))"
   ]
  },
  {
   "cell_type": "markdown",
   "metadata": {
    "deletable": false,
    "editable": false,
    "nbgrader": {
     "cell_type": "markdown",
     "checksum": "cc8353ba524b264080920e0ca1ac2716",
     "grade": false,
     "grade_id": "ttest_instr",
     "locked": true,
     "schema_version": 3,
     "solution": false
    }
   },
   "source": [
    "Based on the cell above, it looks like there might indeed be a difference in the average height for students in cogs vs cs majors. \n",
    "\n",
    "Now we want to statistically test this difference. To do so, we will use a t-test. "
   ]
  },
  {
   "cell_type": "markdown",
   "metadata": {},
   "source": [
    "### 5c) Compare distributions: t-test \n",
    "\n",
    "Use the `ttest_ind` function) to compare the two height distributions (`h_co` vs `h_cs`)\n",
    "\n",
    "`ttest_ind` returns a t-statistic, and a p-value. Save these outputs to `t_val` and `p_val` respectively. \n"
   ]
  },
  {
   "cell_type": "code",
   "execution_count": null,
   "metadata": {
    "deletable": false,
    "nbgrader": {
     "cell_type": "code",
     "checksum": "60839cc1f39924f36a55bb2e0b284388",
     "grade": false,
     "grade_id": "5c",
     "locked": false,
     "schema_version": 3,
     "solution": true
    }
   },
   "outputs": [],
   "source": [
    "t_val, p_val = ttest_ind(h_co, h_cs)"
   ]
  },
  {
   "cell_type": "code",
   "execution_count": null,
   "metadata": {
    "deletable": false,
    "editable": false,
    "nbgrader": {
     "cell_type": "code",
     "checksum": "11940a6ab08211c6b71a27823edd1bff",
     "grade": true,
     "grade_id": "5c_ans",
     "locked": true,
     "points": 0.2,
     "schema_version": 3,
     "solution": false
    }
   },
   "outputs": [],
   "source": [
    "assert t_val\n",
    "assert p_val\n"
   ]
  },
  {
   "cell_type": "code",
   "execution_count": null,
   "metadata": {
    "deletable": false,
    "editable": false,
    "nbgrader": {
     "cell_type": "code",
     "checksum": "f964dc9faf81a9bcd9e5d145a80c3a42",
     "grade": false,
     "grade_id": "print_p",
     "locked": true,
     "schema_version": 3,
     "solution": false
    }
   },
   "outputs": [],
   "source": [
    "# Check if statistical test passes significance, using an alpha value of 0.01. This code provided.\n",
    "if p_val < 0.01:\n",
    "    print('Data Science accomplished, there is a significant difference!')\n",
    "else:\n",
    "    print('There is NOT a significant difference!')\n",
    "    \n",
    "# Editorial note:\n",
    "#  Chasing significant p-values as the goal itself is not actually a good way to do data (or any) science :)"
   ]
  },
  {
   "cell_type": "markdown",
   "metadata": {
    "deletable": false,
    "editable": false,
    "nbgrader": {
     "cell_type": "markdown",
     "checksum": "c8cb84a2233116ca33bb67b35728263f",
     "grade": false,
     "grade_id": "break",
     "locked": true,
     "schema_version": 3,
     "solution": false
    }
   },
   "source": [
    "Note: this test *should* pass significance. If it doesn't, double check your code up until this point.\n",
    "\n",
    "So - we've reached a conclusion! We're done right!?\n",
    "\n",
    "Nope. We have a first pass analysis, and an interim conclusion that happens to follow our hypothesis. \n",
    "\n",
    "Now let's try to break it. \n",
    "\n",
    "#### Let's explore some more\n",
    "\n",
    "You should always interrogate your findings, however they come out. What could be some alternate explanations, that would change our interpretations of the current analysis?\n",
    "\n",
    "In this case, we should be worried about confounding variables. We want to be able to say whether height relates to major specifically, but it could be the case that some other variable, that happens to differ between majors, better explains the differences in height. \n",
    "\n",
    "In this case, we also have data on gender. Let's check if differences in the gender ratio of the two majors can explain the difference in height. "
   ]
  },
  {
   "cell_type": "markdown",
   "metadata": {},
   "source": [
    "### 5d) Digging Deeper\n",
    "\n",
    "Using `value_counts` from pandas, extract the number of 'male' and 'female', separately for cogs and cs students. \n",
    "\n",
    "To do so:\n",
    "\n",
    "- select from the `df` each major, separately, extract the gender column, and use the `value_counts` method.\n",
    "- Save the counts for each gender for 'COGSCI' majors to a variable called `g_co`\n",
    "-  Save the counts for each gender for 'COMPSCI' majors to a variable called `g_cs`\n"
   ]
  },
  {
   "cell_type": "code",
   "execution_count": null,
   "metadata": {
    "deletable": false,
    "nbgrader": {
     "cell_type": "code",
     "checksum": "7a5ae9879a468426e3073f1c81ba800f",
     "grade": false,
     "grade_id": "5d",
     "locked": false,
     "schema_version": 3,
     "solution": true
    }
   },
   "outputs": [],
   "source": [
    "g_co = df[df['major'] == 'COGSCI']['gender'].value_counts()\n",
    "g_cs = df[df['major'] == 'COMPSCI']['gender'].value_counts()"
   ]
  },
  {
   "cell_type": "code",
   "execution_count": null,
   "metadata": {
    "deletable": false,
    "editable": false,
    "nbgrader": {
     "cell_type": "code",
     "checksum": "d7a9d023f0edba5b49851535f19d6596",
     "grade": true,
     "grade_id": "5d_ans",
     "locked": true,
     "points": 0.2,
     "schema_version": 3,
     "solution": false
    }
   },
   "outputs": [],
   "source": [
    "assert np.all(g_co)\n",
    "assert np.all(g_cs)\n",
    "\n",
    "assert g_co[0] == 91\n",
    "assert g_cs[1] == 38"
   ]
  },
  {
   "cell_type": "markdown",
   "metadata": {},
   "source": [
    "### 5e) What is the ratio of women in each major? \n",
    "\n",
    "By ratio, we mean the proportion of students that are female, as a ratio. This will be a value between 0.0 and 1.0, calculated as #F / (#M + #F) - done separately for each major\n",
    "\n",
    "You can use the `g_co` and `g_cs` variables to calculate these.\n",
    "\n",
    "Save the ratio of women in COGSCI to a variable `r_co`.\n",
    "\n",
    "Save the ratio of women in COMPSCI to a variable `r_cs`.\n",
    "\n",
    "Note: keep these numbers as ratios (they should be decimal numbers, less than 1).\n"
   ]
  },
  {
   "cell_type": "code",
   "execution_count": null,
   "metadata": {
    "deletable": false,
    "nbgrader": {
     "cell_type": "code",
     "checksum": "fa5a422adbab27feb3981373695801c6",
     "grade": false,
     "grade_id": "5e",
     "locked": false,
     "schema_version": 3,
     "solution": true
    }
   },
   "outputs": [],
   "source": [
    "r_co = g_co[1]/ (g_co[0] + g_co[1])\n",
    "r_cs = g_cs[1]/ (g_cs[0] + g_cs[1])"
   ]
  },
  {
   "cell_type": "code",
   "execution_count": null,
   "metadata": {
    "deletable": false,
    "editable": false,
    "nbgrader": {
     "cell_type": "code",
     "checksum": "b77beee79380f552ae7f0a008f377bf2",
     "grade": true,
     "grade_id": "5e_ans",
     "locked": true,
     "points": 0.2,
     "schema_version": 3,
     "solution": false
    }
   },
   "outputs": [],
   "source": [
    "assert r_co\n",
    "assert r_cs\n"
   ]
  },
  {
   "cell_type": "markdown",
   "metadata": {
    "deletable": false,
    "editable": false,
    "nbgrader": {
     "cell_type": "markdown",
     "checksum": "bf7ccccc44f78653927f8b9836a0419b",
     "grade": false,
     "grade_id": "cell-22867438369c5a91",
     "locked": true,
     "schema_version": 3,
     "solution": false
    }
   },
   "source": [
    "Make sure you print out and check the values of these ratios. They seem pretty different.\n",
    "\n",
    "We can actually ask, using a chi-squared test, whether this difference in gender-ratio between the majors is signficantly different.\n",
    "\n",
    "Code to do this is provided below. "
   ]
  },
  {
   "cell_type": "markdown",
   "metadata": {
    "deletable": false,
    "editable": false,
    "nbgrader": {
     "cell_type": "markdown",
     "checksum": "218fb52cae941d1670477040930d29e9",
     "grade": false,
     "grade_id": "cell-f0779bb4a9f4e382",
     "locked": true,
     "schema_version": 3,
     "solution": false
    }
   },
   "source": [
    "Run a chi-squared test of the difference of ratios of categorical data between groups:\n"
   ]
  },
  {
   "cell_type": "code",
   "execution_count": null,
   "metadata": {
    "deletable": false,
    "editable": false,
    "nbgrader": {
     "cell_type": "code",
     "checksum": "9417b7a73624e1945efcdd27d0fb71fb",
     "grade": false,
     "grade_id": "cell-9b13cd3bd898610e",
     "locked": true,
     "schema_version": 3,
     "solution": false
    }
   },
   "outputs": [],
   "source": [
    "chisq, p_val_chi = stats.chisquare(np.array([g_co.values, g_cs.values]), axis=None)\n",
    "\n",
    "if p_val_chi < 0.01:\n",
    "    print('There is a significant difference in ratios!')"
   ]
  },
  {
   "cell_type": "markdown",
   "metadata": {},
   "source": [
    "### 5f) Subsetting data\n",
    "\n",
    "Create a new dataframe, called `df2`, which only includes data from 'COGSCI' and 'COMPSCI' majors.\n",
    "\n",
    "Hint: you can do this using the or operater '|', with loc. \n"
   ]
  },
  {
   "cell_type": "code",
   "execution_count": null,
   "metadata": {
    "deletable": false,
    "nbgrader": {
     "cell_type": "code",
     "checksum": "90c9bd73a6567fa7e5c16b68d8da05f2",
     "grade": false,
     "grade_id": "5f",
     "locked": false,
     "schema_version": 3,
     "solution": true
    }
   },
   "outputs": [],
   "source": [
    "df2 = df[(df['major'] == 'COGSCI') | (df['major'] == 'COMPSCI')]"
   ]
  },
  {
   "cell_type": "code",
   "execution_count": null,
   "metadata": {
    "deletable": false,
    "editable": false,
    "nbgrader": {
     "cell_type": "code",
     "checksum": "4df65482b15b8eb8dde07e86c8c71a80",
     "grade": true,
     "grade_id": "5f_ans",
     "locked": true,
     "points": 0.2,
     "schema_version": 3,
     "solution": false
    }
   },
   "outputs": [],
   "source": [
    "assert isinstance(df2, pd.DataFrame)\n",
    "assert df2.shape == (341, 10)\n",
    "assert set(df2['major']) == set(['COGSCI', 'COMPSCI'])"
   ]
  },
  {
   "cell_type": "markdown",
   "metadata": {},
   "source": [
    "### 5g) Pivot Tables\n",
    "\n",
    "Another way to look at these kinds of comparisons is pivot tables. \n",
    "\n",
    "Use the pandas `pivot_table` method to create a pivot table, assign it to a variable `pv`.\n",
    "\n",
    "Set the values as 'height', and the indices as 'gender' and 'major' in the pivot table.\n",
    "\n",
    "Make sure you do this using `df2`. \n"
   ]
  },
  {
   "cell_type": "code",
   "execution_count": null,
   "metadata": {
    "deletable": false,
    "nbgrader": {
     "cell_type": "code",
     "checksum": "f6936f0419c248e96fcb3b3eea68f50f",
     "grade": false,
     "grade_id": "5g",
     "locked": false,
     "schema_version": 3,
     "solution": true
    }
   },
   "outputs": [],
   "source": [
    "pv = pd.pivot_table(df2, values='height', index=['gender', 'major'])"
   ]
  },
  {
   "cell_type": "code",
   "execution_count": null,
   "metadata": {
    "deletable": false,
    "editable": false,
    "nbgrader": {
     "cell_type": "code",
     "checksum": "de370e416a8e121c0fe2ff3f5059e24d",
     "grade": true,
     "grade_id": "5g_ans",
     "locked": true,
     "points": 0.2,
     "schema_version": 3,
     "solution": false
    }
   },
   "outputs": [],
   "source": [
    "assert np.all(pv)\n",
    "assert isinstance(pv.index, pd.MultiIndex)\n"
   ]
  },
  {
   "cell_type": "markdown",
   "metadata": {
    "deletable": false,
    "editable": false,
    "nbgrader": {
     "cell_type": "markdown",
     "checksum": "4c61472c1d241f1a7ad96e00c15991fe",
     "grade": false,
     "grade_id": "cell-34914c58e810fba3",
     "locked": true,
     "schema_version": 3,
     "solution": false
    }
   },
   "source": [
    "Print out the pivot table you just created. \n",
    "\n",
    "Compare the average height values, split up by major and gender.\n",
    "\n",
    "Does it look like there are differences in heights by major, when spit up by major?\n"
   ]
  },
  {
   "cell_type": "code",
   "execution_count": null,
   "metadata": {
    "deletable": false,
    "editable": false,
    "nbgrader": {
     "cell_type": "code",
     "checksum": "a466723843760d4937924a8f728c816b",
     "grade": false,
     "grade_id": "print_pv",
     "locked": true,
     "schema_version": 3,
     "solution": false
    }
   },
   "outputs": [],
   "source": [
    "pv"
   ]
  },
  {
   "cell_type": "markdown",
   "metadata": {
    "deletable": false,
    "editable": false,
    "nbgrader": {
     "cell_type": "markdown",
     "checksum": "b9dd4f8da2141cf1b0df0b16517753fa",
     "grade": false,
     "grade_id": "cell-53e9e3c26d67d758",
     "locked": true,
     "schema_version": 3,
     "solution": false
    }
   },
   "source": [
    "Let's recap where we are:\n",
    "- Our initial hypothesis suggested there is a significant difference between heights of people in different majors. \n",
    "- However, further analyses suggested there may be a confounding variable, as there is also a significantly different gender balance between majors. \n",
    "\n",
    "Checking the average height, per major, split up by gender, suggests there may not be a difference between major, other than what is explained by gender. \n",
    "\n",
    "Now we want to statistically ask this question: is there still a difference in height between majors, when controlling for differences in gender?"
   ]
  },
  {
   "cell_type": "markdown",
   "metadata": {
    "deletable": false,
    "editable": false,
    "nbgrader": {
     "cell_type": "markdown",
     "checksum": "0dce3adba50b555d234586a2187a8091",
     "grade": false,
     "grade_id": "lm_instr",
     "locked": true,
     "schema_version": 3,
     "solution": false
    }
   },
   "source": [
    "#### Linear Models\n",
    "\n",
    "For the following question you will need to make some linear models, using Ordinary Least Squares (OLS).\n",
    "\n",
    "There is more than one way to do this in Python. For the purposes of this assignment, you must use the method that is outlined in the 'LinearModels' Tutorial, using patsy, and statsmodels. \n",
    "\n",
    "That is: \n",
    "- Create design matrices with `patsy.dmatrices`\n",
    "- Initialize an OLS model with `sm.OLS`\n",
    "- Fit the OLS model\n",
    "- Check the summary for results. "
   ]
  },
  {
   "cell_type": "markdown",
   "metadata": {},
   "source": [
    "### 5h) Linear model\n",
    "\n",
    "Create a linear model to predict height from major (using `df2` as data).\n",
    "\n",
    "Use `patsy.dmatrices` to create the design matrices, calling the outputs `outcome_1`, `predictors_1`.\n",
    "\n",
    "Create an OLS model (`sm.OLS`) using `outcome_1` and `predictors_1`. Call it `mod_1`.\n",
    "\n",
    "Fit the model, assigning it to `res_1`."
   ]
  },
  {
   "cell_type": "code",
   "execution_count": null,
   "metadata": {
    "deletable": false,
    "nbgrader": {
     "cell_type": "code",
     "checksum": "c4ac03e3096e6ea121f32321448e6715",
     "grade": false,
     "grade_id": "5h",
     "locked": false,
     "schema_version": 3,
     "solution": true
    }
   },
   "outputs": [],
   "source": [
    "outcome_1, predictors_1 = patsy.dmatrices('height ~ major', df2)\n",
    "mod_1 = sm.OLS(outcome_1, predictors_1)\n",
    "res_1 = mod_1.fit()"
   ]
  },
  {
   "cell_type": "code",
   "execution_count": null,
   "metadata": {
    "deletable": false,
    "editable": false,
    "nbgrader": {
     "cell_type": "code",
     "checksum": "95fa31b6c786eb01b84704536d41ce28",
     "grade": true,
     "grade_id": "5h_ans",
     "locked": true,
     "points": 0.5,
     "schema_version": 3,
     "solution": false
    }
   },
   "outputs": [],
   "source": [
    "assert isinstance(outcome_1, patsy.design_info.DesignMatrix)\n",
    "assert isinstance(predictors_1, patsy.design_info.DesignMatrix)\n",
    "assert isinstance(mod_1, sm.regression.linear_model.OLS)\n",
    "assert isinstance(res_1, sm.regression.linear_model.RegressionResultsWrapper)\n"
   ]
  },
  {
   "cell_type": "code",
   "execution_count": null,
   "metadata": {
    "deletable": false,
    "editable": false,
    "nbgrader": {
     "cell_type": "code",
     "checksum": "60838c1d7fea9c0f6b34cee79d2af426",
     "grade": false,
     "grade_id": "print_lm1",
     "locked": true,
     "schema_version": 3,
     "solution": false
    }
   },
   "outputs": [],
   "source": [
    "# Print out the summary results of the model fitting\n",
    "print(res_1.summary())"
   ]
  },
  {
   "cell_type": "markdown",
   "metadata": {},
   "source": [
    "### 5i) Assess significance: `mod_1`\n",
    "\n",
    "Based on the model you ran above (using alpha value of 0.01), does major significantly predict height?\n",
    "\n",
    "Set your answer as a boolean (True / False) to a variable called `lm_1`."
   ]
  },
  {
   "cell_type": "code",
   "execution_count": null,
   "metadata": {
    "deletable": false,
    "nbgrader": {
     "cell_type": "code",
     "checksum": "26ad84cc16fdd5800de2a6618f68e503",
     "grade": false,
     "grade_id": "5i",
     "locked": false,
     "schema_version": 3,
     "solution": true
    }
   },
   "outputs": [],
   "source": [
    "lm_1 = True"
   ]
  },
  {
   "cell_type": "code",
   "execution_count": null,
   "metadata": {
    "deletable": false,
    "editable": false,
    "nbgrader": {
     "cell_type": "code",
     "checksum": "97974c04203d7e8f0c708ef0425a2a73",
     "grade": true,
     "grade_id": "5i_ans",
     "locked": true,
     "points": 0.1,
     "schema_version": 3,
     "solution": false
    }
   },
   "outputs": [],
   "source": [
    "assert isinstance(lm_1, bool)\n"
   ]
  },
  {
   "cell_type": "markdown",
   "metadata": {},
   "source": [
    "### 5j) Multivariate regression\n",
    "\n",
    "Create a linear model to predict height from both major and gender (using `df2` as data).\n",
    "\n",
    "Use `patsy.dmatrices` to create the design matrices, calling the outputs `outcome_2`, `predictors_2`\n",
    "\n",
    "Create an OLS model (`sm.OLS`) using `outcome_2` and `predictors_2`.  Call it `mod_2`.\n",
    "\n",
    "Fit the model, assigning it to `res_2`.\n"
   ]
  },
  {
   "cell_type": "code",
   "execution_count": null,
   "metadata": {
    "deletable": false,
    "nbgrader": {
     "cell_type": "code",
     "checksum": "a526a56849b463de5f93e46a651ecacd",
     "grade": false,
     "grade_id": "5j",
     "locked": false,
     "schema_version": 3,
     "solution": true
    }
   },
   "outputs": [],
   "source": [
    "outcome_2, predictors_2 = patsy.dmatrices('height ~ major + gender', df2)\n",
    "mod_2 = sm.OLS(outcome_2, predictors_2)\n",
    "res_2 = mod_2.fit()"
   ]
  },
  {
   "cell_type": "code",
   "execution_count": null,
   "metadata": {
    "deletable": false,
    "editable": false,
    "nbgrader": {
     "cell_type": "code",
     "checksum": "74743246d1ee9c5f417bfb746524ace6",
     "grade": true,
     "grade_id": "5j_ans",
     "locked": true,
     "points": 0.25,
     "schema_version": 3,
     "solution": false
    }
   },
   "outputs": [],
   "source": [
    "assert isinstance(outcome_2, patsy.design_info.DesignMatrix)\n",
    "assert isinstance(predictors_2, patsy.design_info.DesignMatrix)\n",
    "assert isinstance(mod_2, sm.regression.linear_model.OLS)\n",
    "assert isinstance(res_2, sm.regression.linear_model.RegressionResultsWrapper)\n"
   ]
  },
  {
   "cell_type": "code",
   "execution_count": null,
   "metadata": {
    "deletable": false,
    "editable": false,
    "nbgrader": {
     "cell_type": "code",
     "checksum": "5f50ad244b3bd379017fda0dcb36e7ba",
     "grade": false,
     "grade_id": "print_lm2",
     "locked": true,
     "schema_version": 3,
     "solution": false
    }
   },
   "outputs": [],
   "source": [
    "# Print out the results \n",
    "print(res_2.summary())"
   ]
  },
  {
   "cell_type": "markdown",
   "metadata": {},
   "source": [
    "### 5k) Assess significance: `mod_2`\n",
    "\n",
    "Based on the model you ran above (using alpha value of 0.01), does major significantly predict height?\n",
    "\n",
    "Set your answer as a boolean (True / False) to a variable called `lm_2`"
   ]
  },
  {
   "cell_type": "code",
   "execution_count": null,
   "metadata": {
    "deletable": false,
    "nbgrader": {
     "cell_type": "code",
     "checksum": "6205febe10ffb9f8d275cfd8cf5f95bd",
     "grade": false,
     "grade_id": "5k",
     "locked": false,
     "schema_version": 3,
     "solution": true
    }
   },
   "outputs": [],
   "source": [
    "lm_2 = False"
   ]
  },
  {
   "cell_type": "code",
   "execution_count": null,
   "metadata": {
    "deletable": false,
    "editable": false,
    "nbgrader": {
     "cell_type": "code",
     "checksum": "6b9fa8b616d50f53c82e37e1986efcbd",
     "grade": true,
     "grade_id": "5k_ans",
     "locked": true,
     "points": 0.1,
     "schema_version": 3,
     "solution": false
    }
   },
   "outputs": [],
   "source": [
    "assert isinstance(lm_2, bool)\n"
   ]
  },
  {
   "cell_type": "markdown",
   "metadata": {
    "deletable": false,
    "editable": false,
    "nbgrader": {
     "cell_type": "markdown",
     "checksum": "187256fa619215f1df192b5bcf8d69bd",
     "grade": false,
     "grade_id": "part6",
     "locked": true,
     "schema_version": 3,
     "solution": false
    }
   },
   "source": [
    "## Part 6: Discussion & Conclusions (0.1 points)"
   ]
  },
  {
   "cell_type": "markdown",
   "metadata": {},
   "source": [
    "### 6a) Conclusion\n",
    "\n",
    "Set a boolean variable, called `ans`, as True or False as the answer to the following statement:\n",
    "\n",
    "We have evidence supporting our research hypothesis:\n",
    "\n",
    "> People in different majors have systematically different heights (and this difference can be tied to their major).\n"
   ]
  },
  {
   "cell_type": "code",
   "execution_count": null,
   "metadata": {
    "deletable": false,
    "nbgrader": {
     "cell_type": "code",
     "checksum": "8bc847f044622f32d8db2a229e5e4554",
     "grade": false,
     "grade_id": "6a",
     "locked": false,
     "schema_version": 3,
     "solution": true
    }
   },
   "outputs": [],
   "source": [
    "ans = False"
   ]
  },
  {
   "cell_type": "code",
   "execution_count": null,
   "metadata": {
    "deletable": false,
    "editable": false,
    "nbgrader": {
     "cell_type": "code",
     "checksum": "a1838e6b75c0e2d2d36ccdb5bdd86f25",
     "grade": true,
     "grade_id": "6a_ans",
     "locked": true,
     "points": 0.1,
     "schema_version": 3,
     "solution": false
    }
   },
   "outputs": [],
   "source": [
    "assert isinstance(ans, bool)\n"
   ]
  },
  {
   "cell_type": "markdown",
   "metadata": {
    "collapsed": true,
    "deletable": false,
    "editable": false,
    "nbgrader": {
     "cell_type": "markdown",
     "checksum": "db9a3333a3dfbeb839d2d27d5656236d",
     "grade": false,
     "grade_id": "cell-e32a03e2cb2725bf",
     "locked": true,
     "schema_version": 3,
     "solution": false
    }
   },
   "source": [
    "### 6b) Summary\n",
    "\n",
    "Write a short response (1-2 sentence) summarizing the results.\n",
    "\n",
    "Did we support our hypothesis? Why or why not? What turned out to be the finding(s)?"
   ]
  },
  {
   "cell_type": "markdown",
   "metadata": {
    "deletable": false,
    "nbgrader": {
     "cell_type": "markdown",
     "checksum": "9e7d93c0b30ca1c4aaa296c87a7c5fbf",
     "grade": true,
     "grade_id": "cell-429b1246a4716b07",
     "locked": false,
     "points": 0,
     "schema_version": 3,
     "solution": true
    }
   },
   "source": [
    "We did not support our initial hypothesis as the differences in height between majors was a result of the gender distribution in these majors. Once this was accounted for the height differences between majors was not significant."
   ]
  },
  {
   "cell_type": "markdown",
   "metadata": {
    "deletable": false,
    "editable": false,
    "nbgrader": {
     "cell_type": "markdown",
     "checksum": "1102bb33348c2d071ee67e408d346194",
     "grade": false,
     "grade_id": "other_parts",
     "locked": true,
     "schema_version": 3,
     "solution": false
    }
   },
   "source": [
    "## Parts 7 & 8: Other Stuff - OPTIONAL!\n",
    "\n",
    "These parts of the assignment (the rest of it) are completely OPTIONAL, and are ungraded.\n",
    "\n",
    "The next couple sections break from the project narrative we've using above, and briefly explore some other topics, approaches and techniques that have (or will) be addressed in the class, and may be useful for your projects. \n",
    "\n",
    "This section is still set up like an assignment, asking you to answer questions to practice working with these methods, with the solutions posted later, but all tests for this section are public.\n",
    "\n",
    "There are example of using these methods in the Tutorials."
   ]
  },
  {
   "cell_type": "code",
   "execution_count": null,
   "metadata": {
    "deletable": false,
    "editable": false,
    "nbgrader": {
     "cell_type": "code",
     "checksum": "0577da9e33544a94b742f827c71f8611",
     "grade": false,
     "grade_id": "imports_2",
     "locked": true,
     "schema_version": 3,
     "solution": false
    }
   },
   "outputs": [],
   "source": [
    "# You will need the following functions for the last section of the assignment\n",
    "#  You should not need to import any other functions\n",
    "from sklearn.cluster import KMeans\n",
    "from scipy.cluster.vq import whiten\n",
    "from sklearn.decomposition import PCA"
   ]
  },
  {
   "cell_type": "markdown",
   "metadata": {
    "deletable": false,
    "editable": false,
    "nbgrader": {
     "cell_type": "markdown",
     "checksum": "94af99d34d9afa55af1455b4ef786ed5",
     "grade": false,
     "grade_id": "part7",
     "locked": true,
     "schema_version": 3,
     "solution": false
    }
   },
   "source": [
    "### Part 7: Clustering\n",
    "\n",
    "Suppose we have reason to believe there are distinct clusters of students in the class. However, we do not know which students are in which group, nor the boundaries that define the groups. \n",
    "\n",
    "This is a clustering problem - here you will use KMeans to try and find the clusters from the data. \n",
    "\n",
    "See an example of how to use sklearn, and specifically KMeans, for clustering in the 'Clustering' notebook in the Tutorials."
   ]
  },
  {
   "cell_type": "code",
   "execution_count": null,
   "metadata": {
    "deletable": false,
    "editable": false,
    "nbgrader": {
     "cell_type": "code",
     "checksum": "b0a39897683146694d02b27452a731bb",
     "grade": false,
     "grade_id": "cell-1bf059baf3355cc2",
     "locked": true,
     "schema_version": 3,
     "solution": false
    }
   },
   "outputs": [],
   "source": [
    "# Make a copy of the dataframe, to work with here, and drop any empty data in columns we're using\n",
    "df3 = df.copy(deep=True)\n",
    "df3.dropna(subset=['age', 'weight', 'year'], inplace=True)"
   ]
  },
  {
   "cell_type": "code",
   "execution_count": null,
   "metadata": {
    "deletable": false,
    "editable": false,
    "nbgrader": {
     "cell_type": "code",
     "checksum": "35b49ce1bce8d684bc799e8640917cee",
     "grade": false,
     "grade_id": "7_load",
     "locked": true,
     "schema_version": 3,
     "solution": false
    }
   },
   "outputs": [],
   "source": [
    "# For convenience, and consistency, we're providing this code to pull out the required data\n",
    "d1 = df3[df3['major'] == 'COGSCI']['weight'].values\n",
    "d2 = df3[df3['major'] == 'COGSCI']['age'].values"
   ]
  },
  {
   "cell_type": "markdown",
   "metadata": {
    "deletable": false,
    "editable": false,
    "nbgrader": {
     "cell_type": "markdown",
     "checksum": "f96825b9ae7e83b81addb9bf70302a4c",
     "grade": false,
     "grade_id": "cell-ca31c9055ab67ea0",
     "locked": true,
     "schema_version": 3,
     "solution": false
    }
   },
   "source": [
    "### Q7a) Whiten\n",
    "\n",
    "For both 'd1', and 'd2' (separately) use the 'whiten' function to whiten the data. Save the outputs to `d1w`, and `d2w` respectively. \n",
    "\n",
    "Note: look into what this function does, and why you might want or need to do it. \n"
   ]
  },
  {
   "cell_type": "code",
   "execution_count": null,
   "metadata": {
    "deletable": false,
    "nbgrader": {
     "cell_type": "code",
     "checksum": "14606537d2ce71dd8027b7b7998fb5f7",
     "grade": false,
     "grade_id": "7a",
     "locked": false,
     "schema_version": 3,
     "solution": true
    }
   },
   "outputs": [],
   "source": [
    "\n",
    "# YOUR CODE HERE\n",
    "raise NotImplementedError()"
   ]
  },
  {
   "cell_type": "code",
   "execution_count": null,
   "metadata": {
    "deletable": false,
    "editable": false,
    "nbgrader": {
     "cell_type": "code",
     "checksum": "4e16a03d7f4312ac28f2d19783e10258",
     "grade": true,
     "grade_id": "7a_ans",
     "locked": true,
     "points": 0,
     "schema_version": 3,
     "solution": false
    }
   },
   "outputs": [],
   "source": [
    "assert np.all(d1w)\n",
    "assert np.all(d2w)\n",
    "\n",
    "assert round(np.var(d1w)) == 1\n",
    "assert round(np.var(d2w)) == 1"
   ]
  },
  {
   "cell_type": "markdown",
   "metadata": {
    "deletable": false,
    "editable": false,
    "nbgrader": {
     "cell_type": "markdown",
     "checksum": "8eae9f3a0dd27213924eb705ac70f9f5",
     "grade": false,
     "grade_id": "cell-1631b3d355994c69",
     "locked": true,
     "schema_version": 3,
     "solution": false
    }
   },
   "source": [
    "### Q7b) KMeans\n",
    "\n",
    "Initialize a KMeans model object. Call it `km`.\n",
    "\n",
    "Initialize it with 'n_clusters' of 2, and 'random_state' of 42.\n"
   ]
  },
  {
   "cell_type": "code",
   "execution_count": null,
   "metadata": {
    "deletable": false,
    "nbgrader": {
     "cell_type": "code",
     "checksum": "694af96c0a7699d3b3d92672f7048511",
     "grade": false,
     "grade_id": "7b",
     "locked": false,
     "schema_version": 3,
     "solution": true
    }
   },
   "outputs": [],
   "source": [
    "\n",
    "# YOUR CODE HERE\n",
    "raise NotImplementedError()"
   ]
  },
  {
   "cell_type": "code",
   "execution_count": null,
   "metadata": {
    "deletable": false,
    "editable": false,
    "nbgrader": {
     "cell_type": "code",
     "checksum": "ddca5dcaf162d526ed6598173168d174",
     "grade": true,
     "grade_id": "7b_ans",
     "locked": true,
     "points": 0,
     "schema_version": 3,
     "solution": false
    }
   },
   "outputs": [],
   "source": [
    "assert isinstance(km, KMeans)\n",
    "\n",
    "assert km.n_clusters == 2\n",
    "assert km.random_state == 42"
   ]
  },
  {
   "cell_type": "code",
   "execution_count": null,
   "metadata": {
    "deletable": false,
    "editable": false,
    "nbgrader": {
     "cell_type": "code",
     "checksum": "d8d9b7cc05cab6b096c68c1c7cc3209d",
     "grade": false,
     "grade_id": "7_comb",
     "locked": true,
     "schema_version": 3,
     "solution": false
    }
   },
   "outputs": [],
   "source": [
    "# For convenience, and consistency, we're providing this code to combine the data into required format.\n",
    "cl_dat = np.array([d1w, d2w]).T"
   ]
  },
  {
   "cell_type": "markdown",
   "metadata": {
    "deletable": false,
    "editable": false,
    "nbgrader": {
     "cell_type": "markdown",
     "checksum": "0b9a8036296539ce8b73fe357a1ca3c3",
     "grade": false,
     "grade_id": "cell-c371120d7b9aef1d",
     "locked": true,
     "schema_version": 3,
     "solution": false
    }
   },
   "source": [
    "### Q7c) model fit\n",
    "\n",
    "Use the 'fit' method of the KMeans object (km) to fit the data ('cl_dat')."
   ]
  },
  {
   "cell_type": "code",
   "execution_count": null,
   "metadata": {
    "deletable": false,
    "nbgrader": {
     "cell_type": "code",
     "checksum": "72c684b4fc1a389883115945a25ce8c2",
     "grade": false,
     "grade_id": "7c",
     "locked": false,
     "schema_version": 3,
     "solution": true
    }
   },
   "outputs": [],
   "source": [
    "# YOUR CODE HERE\n",
    "raise NotImplementedError()"
   ]
  },
  {
   "cell_type": "code",
   "execution_count": null,
   "metadata": {
    "deletable": false,
    "editable": false,
    "nbgrader": {
     "cell_type": "code",
     "checksum": "04740499d0ee323cc580af41c2afa946",
     "grade": true,
     "grade_id": "7c_ans",
     "locked": true,
     "points": 0,
     "schema_version": 3,
     "solution": false
    }
   },
   "outputs": [],
   "source": [
    "assert np.any(km.labels_)\n",
    "assert sum(km.labels_) == 13"
   ]
  },
  {
   "cell_type": "code",
   "execution_count": null,
   "metadata": {},
   "outputs": [],
   "source": [
    "# Let's check out our clusters (this code provided).\n",
    "# seaborn\n",
    "sns.scatterplot(x=d1, y=d2, hue=km.labels_);\n",
    "\n",
    "# # matplotlib\n",
    "# plt.scatter(d1, d2, c = km.labels_);\n",
    "# plt.xlabel('Weight');\n",
    "# plt.ylabel('Age');"
   ]
  },
  {
   "cell_type": "markdown",
   "metadata": {
    "deletable": false,
    "editable": false,
    "nbgrader": {
     "cell_type": "markdown",
     "checksum": "b35f09913b3d0a88b730b34615b72e78",
     "grade": false,
     "grade_id": "cell-916208de320f403d",
     "locked": true,
     "schema_version": 3,
     "solution": false
    }
   },
   "source": [
    "Editorial note:\n",
    "- It does not appear, for this data, that there are particular clusters (or at least not that our current KMeans approach is picking up), but that's fine, we can consider this to have been an exploratory analysis. "
   ]
  },
  {
   "cell_type": "markdown",
   "metadata": {
    "deletable": false,
    "editable": false,
    "nbgrader": {
     "cell_type": "markdown",
     "checksum": "b9c2ec857e1155b0060b9fd79f281b03",
     "grade": false,
     "grade_id": "part8",
     "locked": true,
     "schema_version": 3,
     "solution": false
    }
   },
   "source": [
    "### Part 8: Dimensionality Reduction\n",
    "\n",
    "Sometimes we have data that have many dimensions, perhaps too many to deal with, and so we might need to try and use dimensionality reduction: that is to try and find a lower dimensional space that captures as much of the information as we can from the original, high-dimensional, dataset. \n",
    "\n",
    "As an example, in our data, we have height and weight that are quite correlated, and we could use Principal Components Analysis (PCA), in order to try and capture the most information about a person's height and weight in a single number - projecting this 2D data down into 1 dimension. \n",
    "\n",
    "See an example of how to use sklearn, and specifcally PCA, for dimensionality reduction in the 'Dimensionality Reduction' notebook in the Tutorials."
   ]
  },
  {
   "cell_type": "code",
   "execution_count": null,
   "metadata": {},
   "outputs": [],
   "source": [
    "# Check out the height vs. weight data\n",
    "# seaborn\n",
    "sns.scatterplot(x='height', y='weight', data=df3);\n",
    "\n",
    "# matplotlib\n",
    "# plt.plot(df3['height'].values, df3['weight'].values, '.')\n",
    "# plt.xlabel('Height');\n",
    "# plt.ylabel('Weight');"
   ]
  },
  {
   "cell_type": "code",
   "execution_count": null,
   "metadata": {
    "deletable": false,
    "editable": false,
    "nbgrader": {
     "cell_type": "code",
     "checksum": "91c2fcc3a2aa3750215eeb886326c6d0",
     "grade": false,
     "grade_id": "8_load",
     "locked": true,
     "schema_version": 3,
     "solution": false
    }
   },
   "outputs": [],
   "source": [
    "# For convenience, and consistency, we're providing this code to pull out the required data\n",
    "d1_h = df3['height'].values\n",
    "d2_w = df3['weight'].values"
   ]
  },
  {
   "cell_type": "markdown",
   "metadata": {
    "deletable": false,
    "editable": false,
    "nbgrader": {
     "cell_type": "markdown",
     "checksum": "a001e4b08dc060a394a9df3883b5334e",
     "grade": false,
     "grade_id": "cell-5cdb48fe31dc80b8",
     "locked": true,
     "schema_version": 3,
     "solution": false
    }
   },
   "source": [
    "### Q8a) PCA\n",
    "\n",
    "Initialize a PCA object. Call it `dr`. \n",
    "\n",
    "Initialize it with 'n_components' of 1, and 'whiten' as True.\n",
    "\n"
   ]
  },
  {
   "cell_type": "code",
   "execution_count": null,
   "metadata": {
    "deletable": false,
    "nbgrader": {
     "cell_type": "code",
     "checksum": "c5e74b452fa0837b0c19c2fc6962dc95",
     "grade": false,
     "grade_id": "8a",
     "locked": false,
     "schema_version": 3,
     "solution": true
    }
   },
   "outputs": [],
   "source": [
    "\n",
    "# YOUR CODE HERE\n",
    "raise NotImplementedError()"
   ]
  },
  {
   "cell_type": "code",
   "execution_count": null,
   "metadata": {
    "deletable": false,
    "editable": false,
    "nbgrader": {
     "cell_type": "code",
     "checksum": "56da601a176e17cd933d6f49a5fbd410",
     "grade": true,
     "grade_id": "8a_ans",
     "locked": true,
     "points": 0,
     "schema_version": 3,
     "solution": false
    }
   },
   "outputs": [],
   "source": [
    "assert isinstance(dr, PCA)\n",
    "\n",
    "assert dr.n_components == 1\n",
    "assert dr.whiten"
   ]
  },
  {
   "cell_type": "code",
   "execution_count": null,
   "metadata": {
    "deletable": false,
    "editable": false,
    "nbgrader": {
     "cell_type": "code",
     "checksum": "f41c07d00ddbb57eb0731c585ef02c2a",
     "grade": false,
     "grade_id": "8_comb",
     "locked": true,
     "schema_version": 3,
     "solution": false
    }
   },
   "outputs": [],
   "source": [
    "# For convenience, and consistency, we're providing this code to combine the data into required format\n",
    "dr_dat = np.array([d1_h, d2_w]).T"
   ]
  },
  {
   "cell_type": "markdown",
   "metadata": {
    "deletable": false,
    "editable": false,
    "nbgrader": {
     "cell_type": "markdown",
     "checksum": "02187cbc2ba73d0fb216a765095a34b4",
     "grade": false,
     "grade_id": "cell-6a152f828ef394eb",
     "locked": true,
     "schema_version": 3,
     "solution": false
    }
   },
   "source": [
    "### Q8b) fit model\n",
    "\n",
    "Use the `fit_transform` method of the PCA object (`dr`) on the data (`dr_dat`)\n",
    "\n",
    "This method fits the dimensionality reduction model, and then transforms the data with it. \n",
    "\n",
    "Save the output (the transformed data) to `out`."
   ]
  },
  {
   "cell_type": "code",
   "execution_count": null,
   "metadata": {
    "deletable": false,
    "nbgrader": {
     "cell_type": "code",
     "checksum": "10d784122a95b6f393aa0f3b41cb5459",
     "grade": false,
     "grade_id": "8b",
     "locked": false,
     "schema_version": 3,
     "solution": true
    }
   },
   "outputs": [],
   "source": [
    "\n",
    "# YOUR CODE HERE\n",
    "raise NotImplementedError()"
   ]
  },
  {
   "cell_type": "code",
   "execution_count": null,
   "metadata": {
    "deletable": false,
    "editable": false,
    "nbgrader": {
     "cell_type": "code",
     "checksum": "bbab34084fb88588d4fd1fbdac630078",
     "grade": true,
     "grade_id": "8b_ans",
     "locked": true,
     "points": 0,
     "schema_version": 3,
     "solution": false
    }
   },
   "outputs": [],
   "source": [
    "assert np.all(out)"
   ]
  },
  {
   "cell_type": "code",
   "execution_count": null,
   "metadata": {
    "deletable": false,
    "editable": false,
    "nbgrader": {
     "cell_type": "code",
     "checksum": "484e186fe9b8406f4f41d2da552af1cf",
     "grade": false,
     "grade_id": "8_plot_2",
     "locked": true,
     "schema_version": 3,
     "solution": false
    }
   },
   "outputs": [],
   "source": [
    "# Check the transformed data (this matplotlib code provided)\n",
    "#  Since this data is now 1D, the x-axis is just the index number of each data point\n",
    "#  Now, for each student, we have a (whitened) single number representing combined height & weight \n",
    "plt.plot(out, '.');\n",
    "plt.xlabel('Subject Number');\n",
    "plt.ylabel('PC1');"
   ]
  },
  {
   "cell_type": "markdown",
   "metadata": {
    "deletable": false,
    "editable": false,
    "nbgrader": {
     "cell_type": "markdown",
     "checksum": "7558d16646be70bd202bc2d6183fab5f",
     "grade": false,
     "grade_id": "cell-46042968a5ec7ae8",
     "locked": true,
     "schema_version": 3,
     "solution": false
    }
   },
   "source": [
    "## The End!\n",
    "\n",
    "Good work! Have a look back over your answers, and also make sure to `Restart & Run All` from the kernel menu to double check that everything is working properly. You can also use the 'Validate' button above, which runs your notebook from top to bottom and checks to ensure all `assert` statements pass silently. When you are ready, submit on datahub!"
   ]
  }
 ],
 "metadata": {
  "kernelspec": {
   "display_name": "Python 3",
   "language": "python",
   "name": "python3"
  },
  "language_info": {
   "codemirror_mode": {
    "name": "ipython",
    "version": 3
   },
   "file_extension": ".py",
   "mimetype": "text/x-python",
   "name": "python",
   "nbconvert_exporter": "python",
   "pygments_lexer": "ipython3",
   "version": "3.6.7"
  }
 },
 "nbformat": 4,
 "nbformat_minor": 2
}
