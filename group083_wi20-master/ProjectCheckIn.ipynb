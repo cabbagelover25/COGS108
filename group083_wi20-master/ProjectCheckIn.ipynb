{
 "cells": [
  {
   "cell_type": "markdown",
   "metadata": {},
   "source": [
    "# COGS 108 Final Project Check-In"
   ]
  },
  {
   "cell_type": "markdown",
   "metadata": {},
   "source": [
    "# Names\n",
    "\n",
    "- Sean Reynolds\n",
    "- Kari Garcia\n",
    "- Sam Kapusta\n",
    "- Tam Tran\n",
    "- Randy Kim"
   ]
  },
  {
   "cell_type": "markdown",
   "metadata": {},
   "source": [
    "# Group Members IDs\n",
    "\n",
    "- A13444348\n",
    "- A09946702\n",
    "- A16057968\n",
    "- A16050558\n",
    "- A15666223"
   ]
  },
  {
   "cell_type": "markdown",
   "metadata": {},
   "source": [
    "# Accomplishments"
   ]
  },
  {
   "cell_type": "markdown",
   "metadata": {},
   "source": [
    "- Split up group tasks between members \n",
    "      Kari & Sam - Background Research/Additional Datasets\n",
    "      Tam - Ethics and Privacy Discussion\n",
    "      Randy - Data Wrangling / Privacy Clean-Up\n",
    "      Sean - Data Wrangling / Ethics\n",
    "- Reevaluated Project Proposal \n",
    "- Found possible datasets to use \n",
    "    500 cities \n",
    "    Urban and Rural Populations \n"
   ]
  },
  {
   "cell_type": "markdown",
   "metadata": {},
   "source": [
    "# Going Well"
   ]
  },
  {
   "cell_type": "markdown",
   "metadata": {},
   "source": [
    "- Delegation of tasks and clarification of main goals\n",
    "- Effective communication.\n",
    "- Found several viable datasets "
   ]
  },
  {
   "cell_type": "markdown",
   "metadata": {},
   "source": [
    "# Struggles"
   ]
  },
  {
   "cell_type": "markdown",
   "metadata": {},
   "source": [
    "- Difficulty getting all groups members together at same time\n",
    "- Government and CDC datasets are very convoluted\n",
    "- Difficulty defining clear seperation between urban/rural areas and finding datasets with this clear distinction"
   ]
  },
  {
   "cell_type": "markdown",
   "metadata": {},
   "source": [
    "# Plan Forward"
   ]
  },
  {
   "cell_type": "markdown",
   "metadata": {},
   "source": [
    "*Explain what your plan is for successful completion of your COGS 108 project. If any issues have arisen, address your plan for addressing these issues throughout the rest of the quarter.*\n",
    "\n",
    "- Meeting dates being established much earlier\n",
    "- Timeline readjusted to plan better\n"
   ]
  },
  {
   "cell_type": "code",
   "execution_count": null,
   "metadata": {},
   "outputs": [],
   "source": []
  }
 ],
 "metadata": {
  "kernelspec": {
   "display_name": "Python 3",
   "language": "python",
   "name": "python3"
  },
  "language_info": {
   "codemirror_mode": {
    "name": "ipython",
    "version": 3
   },
   "file_extension": ".py",
   "mimetype": "text/x-python",
   "name": "python",
   "nbconvert_exporter": "python",
   "pygments_lexer": "ipython3",
   "version": "3.7.4"
  }
 },
 "nbformat": 4,
 "nbformat_minor": 2
}
